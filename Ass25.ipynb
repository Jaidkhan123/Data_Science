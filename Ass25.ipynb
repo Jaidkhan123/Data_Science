{
 "cells": [
  {
   "cell_type": "markdown",
   "id": "35834868-040b-4092-9aa6-453d5be21bde",
   "metadata": {},
   "source": [
    "Consider the below code to answer further questions:\n",
    "\n",
    "import numpy as np\n",
    "\n",
    "list_ = [ ‘1’ , ’2’ , ‘3’ , ‘4’ , ‘5’ ]\n",
    "\n",
    "array_list = np.array(object = list_)"
   ]
  },
  {
   "cell_type": "markdown",
   "id": "d1f4868f-caa5-4e41-887b-3313b02562bf",
   "metadata": {},
   "source": [
    "Q1. Is there any difference in the data type of variables list_ and array_list? If there is then write a code\n",
    "to print the data types of both the variables.\n",
    "\n",
    "Ans->\n",
    "* Their are no dimensions in list but array has. \n",
    "\n",
    "* Arrays need to be declared. Lists don't, since they are built into Python. Lists are created by simply enclosing a sequence of elements into square brackets. Creating an array, on the other hand, requires a specific function from either the array module (i.e., array.array()) or NumPy package (i.e., numpy.array()). Because of this, lists are used more often than arrays.\n",
    "\n",
    "* Arrays can store data very compactly and are more efficient for storing large amounts of data.\n",
    "\n",
    "* Arrays are great for numerical operations; lists cannot directly handle math operations. For example, you can divide each element of an array by the same number with just one line of code. If you try the same with a list, you'll get an error.\n"
   ]
  },
  {
   "cell_type": "code",
   "execution_count": 16,
   "id": "feda9ce1-9ec3-42f2-b567-24a5f00ac1c0",
   "metadata": {},
   "outputs": [
    {
     "name": "stdout",
     "output_type": "stream",
     "text": [
      "<class 'list'>\n"
     ]
    },
    {
     "data": {
      "text/plain": [
       "numpy.ndarray"
      ]
     },
     "execution_count": 16,
     "metadata": {},
     "output_type": "execute_result"
    }
   ],
   "source": [
    "import numpy as np\n",
    "list_ = ['1','2','3','4','5' ]\n",
    "array_list = np.array(object = list_)\n",
    "print(type(list_))\n",
    "type(array_list)"
   ]
  },
  {
   "cell_type": "markdown",
   "id": "2e4d7eac-859c-4821-872a-5ceefbfc7269",
   "metadata": {},
   "source": [
    "Q2. Write a code to print the data type of each and every element of both the variables list_ and\n",
    "arra_list.\n",
    "\n",
    "Ans-> "
   ]
  },
  {
   "cell_type": "code",
   "execution_count": 17,
   "id": "160c4a41-4e1d-465a-9a90-c813be46b96a",
   "metadata": {},
   "outputs": [
    {
     "name": "stdout",
     "output_type": "stream",
     "text": [
      "<class 'str'> -> 1\n",
      "<class 'str'> -> 2\n",
      "<class 'str'> -> 3\n",
      "<class 'str'> -> 4\n",
      "<class 'str'> -> 5\n",
      "<class 'numpy.str_'> -> 1\n",
      "<class 'numpy.str_'> -> 2\n",
      "<class 'numpy.str_'> -> 3\n",
      "<class 'numpy.str_'> -> 4\n",
      "<class 'numpy.str_'> -> 5\n"
     ]
    }
   ],
   "source": [
    "def d_type(l):\n",
    "    for i in l:\n",
    "        print(type(i),\"->\",i)\n",
    "d_type(list_)\n",
    "d_type(array_list)"
   ]
  },
  {
   "cell_type": "markdown",
   "id": "715639c9-a531-4c37-9584-7802c4e56d60",
   "metadata": {},
   "source": [
    "Q3. Considering the following changes in the variable, array_list:\n",
    "\n",
    "array_list = np.array(object = list_, dtype = int)\n",
    "\n",
    "Will there be any difference in the data type of the elements present in both the variables, list_ and\n",
    "arra_list? If so then print the data types of each and every element present in both the variables, list_\n",
    "and arra_list.\n",
    "\n",
    "Ans-> "
   ]
  },
  {
   "cell_type": "code",
   "execution_count": 18,
   "id": "aa2bc300-4031-4b01-9729-ba42f5a46089",
   "metadata": {},
   "outputs": [
    {
     "data": {
      "text/plain": [
       "array([1, 2, 3, 4, 5])"
      ]
     },
     "execution_count": 18,
     "metadata": {},
     "output_type": "execute_result"
    }
   ],
   "source": [
    "array_list = np.array(object = list_, dtype = int)\n",
    "array_list"
   ]
  },
  {
   "cell_type": "markdown",
   "id": "10b42a53-f43b-40c0-8476-b8034e83464c",
   "metadata": {},
   "source": [
    "Yes, their is difference between the data types of the elements present in both the vaeiables."
   ]
  },
  {
   "cell_type": "code",
   "execution_count": 19,
   "id": "ec5d640c-4113-4a54-af65-096bddb84177",
   "metadata": {},
   "outputs": [
    {
     "name": "stdout",
     "output_type": "stream",
     "text": [
      "<class 'str'> -> 1\n",
      "<class 'str'> -> 2\n",
      "<class 'str'> -> 3\n",
      "<class 'str'> -> 4\n",
      "<class 'str'> -> 5\n",
      "<class 'numpy.int64'> -> 1\n",
      "<class 'numpy.int64'> -> 2\n",
      "<class 'numpy.int64'> -> 3\n",
      "<class 'numpy.int64'> -> 4\n",
      "<class 'numpy.int64'> -> 5\n"
     ]
    }
   ],
   "source": [
    "def d_type(l):\n",
    "    for i in l:\n",
    "        print(type(i),\"->\",i)\n",
    "d_type(list_)\n",
    "d_type(array_list)"
   ]
  },
  {
   "cell_type": "markdown",
   "id": "a7fa75ce-8337-41c7-b7d6-5f43305a1b98",
   "metadata": {},
   "source": [
    "Consider the below code to answer further questions:\n",
    "\n",
    "import numpy as np\n",
    "\n",
    "num_list = [ [ 1 , 2 , 3 ] , [ 4 , 5 , 6 ] ]\n",
    "\n",
    "num_array = np.array(object = num_list)"
   ]
  },
  {
   "cell_type": "markdown",
   "id": "b745aa27-ab69-47ad-a08f-7eb6b78af66f",
   "metadata": {},
   "source": [
    "Q4. Write a code to find the following characteristics of variable, num_array:\n",
    "    \n",
    "(i) shape\n",
    "\n",
    "(ii) size"
   ]
  },
  {
   "cell_type": "code",
   "execution_count": 21,
   "id": "2d9b496e-0c26-4062-a402-c13f8b105cf2",
   "metadata": {},
   "outputs": [
    {
     "name": "stdout",
     "output_type": "stream",
     "text": [
      "[[1 2 3]\n",
      " [4 5 6]]\n",
      "shape is  (2, 3)\n",
      "size is  6\n"
     ]
    }
   ],
   "source": [
    "import numpy as np\n",
    "num_list = [ [ 1 , 2 , 3 ] , [ 4 , 5 , 6 ] ]\n",
    "num_array = np.array(object = num_list)\n",
    "print(num_array)\n",
    "print(\"shape is \",num_array.shape)\n",
    "print(\"size is \",num_array.size)"
   ]
  },
  {
   "cell_type": "markdown",
   "id": "e94b6686-9821-4789-9d07-cb9613248996",
   "metadata": {},
   "source": [
    "Q5. Write a code to create numpy array of 3*3 matrix containing zeros only, using a numpy array\n",
    "creation function.\n",
    "\n",
    "[Hint: The size of the array will be 9 and the shape will be (3,3).]"
   ]
  },
  {
   "cell_type": "code",
   "execution_count": 31,
   "id": "5a105246-1ad0-496b-8a28-c94077aac62f",
   "metadata": {},
   "outputs": [
    {
     "name": "stdout",
     "output_type": "stream",
     "text": [
      "[[0. 0. 0.]\n",
      " [0. 0. 0.]\n",
      " [0. 0. 0.]]\n",
      "size is  9\n",
      "shape is  (3, 3)\n"
     ]
    }
   ],
   "source": [
    "a = np.zeros((3,3))\n",
    "print(a)\n",
    "print(\"size is \",a.size)\n",
    "print(\"shape is \",a.shape)"
   ]
  },
  {
   "cell_type": "markdown",
   "id": "494d6ce1-87a5-401f-a9a0-87e6bf87ca6f",
   "metadata": {},
   "source": [
    "Q6. Create an identity matrix of shape (5,5) using numpy functions?\n",
    "\n",
    "[Hint: An identity matrix is a matrix containing 1 diagonally and other elements will be 0.]"
   ]
  },
  {
   "cell_type": "code",
   "execution_count": 30,
   "id": "4a44aea0-a54d-43dc-bc82-5da3ce82c0e5",
   "metadata": {},
   "outputs": [
    {
     "name": "stdout",
     "output_type": "stream",
     "text": [
      "[[1. 0. 0. 0. 0.]\n",
      " [0. 1. 0. 0. 0.]\n",
      " [0. 0. 1. 0. 0.]\n",
      " [0. 0. 0. 1. 0.]\n",
      " [0. 0. 0. 0. 1.]]\n",
      "size is  25\n",
      "shape is  (5, 5)\n"
     ]
    }
   ],
   "source": [
    "a=np.eye(5)\n",
    "print(a)\n",
    "print(\"size is \",a.size)\n",
    "print(\"shape is \",a.shape)"
   ]
  }
 ],
 "metadata": {
  "kernelspec": {
   "display_name": "Python 3 (ipykernel)",
   "language": "python",
   "name": "python3"
  },
  "language_info": {
   "codemirror_mode": {
    "name": "ipython",
    "version": 3
   },
   "file_extension": ".py",
   "mimetype": "text/x-python",
   "name": "python",
   "nbconvert_exporter": "python",
   "pygments_lexer": "ipython3",
   "version": "3.10.8"
  }
 },
 "nbformat": 4,
 "nbformat_minor": 5
}
