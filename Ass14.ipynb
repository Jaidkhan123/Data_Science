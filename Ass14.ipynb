{
 "cells": [
  {
   "cell_type": "markdown",
   "id": "1dbff5fb-fd4a-47fd-8807-03974330e4d4",
   "metadata": {},
   "source": [
    "Q)1. What is multithreading in python? Why is it used? Name the module used to handle threads in python.\n",
    "\n",
    "Ans->Multithreading is defined as the ability of a processor to execute multiple threads concurrently.\n",
    "\n",
    "Multithreading refers to concurrently executing multiple threads by rapidly switching the control of the CPU between threads (called context switching).\n",
    "\n",
    "In a simple, single-core CPU, it is achieved using frequent switching between threads. This is termed as context switching. In context switching, the state of a thread is saved and state of another thread is loaded whenever any interrupt (due to I/O or manually set) takes place. Context switching takes place so frequently that all the threads appear to be running parallelly (this is termed as multitasking).\n",
    "\n",
    "Python multithreading is used because it enables efficient utilization of the resources as the threads share the data space and memory. Multithreading in Python allows the concurrent and parallel occurrence of various tasks. It causes a reduction in time consumption or response time, thereby increasing the performance.\n",
    "\n",
    "Threading module is used for creating, controlling and managing threads in python."
   ]
  },
  {
   "cell_type": "markdown",
   "id": "7462baf3-f0b7-4b44-9521-59c7f170a222",
   "metadata": {},
   "source": [
    "Q)2. Why threading module used? Write the use of the following functions\n",
    "\n",
    "1. activeCount()\n",
    "\n",
    "2. currentThread()\n",
    "\n",
    "Ans-> Threads allows a program to operate more efficiently by doing multiple things at the same time. Threads can be used to perform complicated tasks in the background without interrupting the main program.\n",
    "\n",
    "Threading module is used for creating, controlling and managing threads in python.\n",
    "\n",
    "1. activeCount() : Returns the number of thread objects that are active.\n",
    "\n",
    "2. currentThread() :  Returns the number of thread objects in the caller's thread control."
   ]
  },
  {
   "cell_type": "code",
   "execution_count": 5,
   "id": "eddd91b2-e6fb-40c5-9da0-7c77fdd5f6ef",
   "metadata": {},
   "outputs": [
    {
     "name": "stdout",
     "output_type": "stream",
     "text": [
      "Starting Thread-1\n",
      "Starting Thread-2\n",
      "Exiting Main Thread\n",
      "Thread-1: Thu Feb 16 15:16:26 2023\n",
      "Thread-2: Thu Feb 16 15:16:27 2023\n",
      "Thread-1: Thu Feb 16 15:16:27 2023\n",
      "Thread-1: Thu Feb 16 15:16:28 2023\n",
      "Thread-2: Thu Feb 16 15:16:29 2023\n",
      "Thread-1: Thu Feb 16 15:16:29 2023\n",
      "Thread-1: Thu Feb 16 15:16:30 2023\n",
      "Exiting Thread-1\n",
      "Thread-2: Thu Feb 16 15:16:31 2023\n",
      "Thread-2: Thu Feb 16 15:16:33 2023\n",
      "Thread-2: Thu Feb 16 15:16:35 2023\n",
      "Exiting Thread-2\n"
     ]
    }
   ],
   "source": [
    "import threading\n",
    "import time\n",
    "\n",
    "exitFlag = 0\n",
    "\n",
    "def print_time(threadName, counter, delay):\n",
    "   while counter:\n",
    "      time.sleep(delay)\n",
    "      print(\"%s: %s\" % (threadName, time.ctime(time.time())))\n",
    "      counter -= 1\n",
    "\n",
    "class myThread (threading.Thread):\n",
    "   def __init__(self, threadID, name, counter):\n",
    "      threading.Thread.__init__(self)\n",
    "      self.threadID = threadID\n",
    "      self.name = name\n",
    "      self.counter = counter\n",
    "   def run(self):\n",
    "      print(\"Starting \" + self.name)\n",
    "      print_time(self.name, 5, self.counter)\n",
    "      print(\"Exiting \" + self.name)\n",
    "\n",
    "# Create new threads\n",
    "thread1 = myThread(1, \"Thread-1\", 1)\n",
    "thread2 = myThread(2, \"Thread-2\", 2)\n",
    "\n",
    "# Start new Threads\n",
    "thread1.start()\n",
    "thread2.start()\n",
    "\n",
    "print(\"Exiting Main Thread\")"
   ]
  },
  {
   "cell_type": "markdown",
   "id": "12fe7a37-44fe-4562-8f90-5b422cc046e7",
   "metadata": {},
   "source": [
    "Q)3. Explain the following functions\n",
    "\n",
    "1. run()\n",
    "\n",
    "2. start()\n",
    "\n",
    "3. join()\n",
    "\n",
    "4. isAlive()\n",
    "\n",
    "Ans-> 1. run() : The run() method is the entry point for a thread.\n",
    "\n",
    "2. start() : To start a thread, we use start method of Thread class.\n",
    "\n",
    "The start() method starts a thread by calling the run method\n",
    "\n",
    "3. join() : Once the threads start, the current program (you can think of it like a main thread) also keeps on executing. In order to stop execution of current program until a thread is complete, we use join method.\n",
    "\n",
    "4. isAlive() : The isAlive() method checks whether a thread is still executing."
   ]
  },
  {
   "cell_type": "code",
   "execution_count": 7,
   "id": "4257c339-d7c8-4deb-8dc5-86100ed792f7",
   "metadata": {},
   "outputs": [
    {
     "name": "stdout",
     "output_type": "stream",
     "text": [
      "Starting Thread-1\n",
      "Starting Thread-2\n",
      "Thread-1: Thu Feb 16 15:23:21 2023\n",
      "Thread-1: Thu Feb 16 15:23:22 2023\n",
      "Thread-1: Thu Feb 16 15:23:23 2023\n",
      "Thread-2: Thu Feb 16 15:23:25 2023\n",
      "Thread-2: Thu Feb 16 15:23:27 2023\n",
      "Thread-2: Thu Feb 16 15:23:29 2023\n",
      "Exiting Main Thread\n"
     ]
    }
   ],
   "source": [
    "import threading\n",
    "import time\n",
    "\n",
    "class myThread (threading.Thread):\n",
    "   def __init__(self, threadID, name, counter):\n",
    "      threading.Thread.__init__(self)\n",
    "      self.threadID = threadID\n",
    "      self.name = name\n",
    "      self.counter = counter\n",
    "   def run(self):\n",
    "      print(\"Starting \" + self.name)\n",
    "      # Get lock to synchronize threads\n",
    "      threadLock.acquire()\n",
    "      print_time(self.name, self.counter, 3)\n",
    "      # Free lock to release next thread\n",
    "      threadLock.release()\n",
    "\n",
    "def print_time(threadName, delay, counter):\n",
    "   while counter:\n",
    "      time.sleep(delay)\n",
    "      print(\"%s: %s\" % (threadName, time.ctime(time.time())))\n",
    "      counter -= 1\n",
    "\n",
    "threadLock = threading.Lock()\n",
    "threads = []\n",
    "\n",
    "# Create new threads\n",
    "thread1 = myThread(1, \"Thread-1\", 1)\n",
    "thread2 = myThread(2, \"Thread-2\", 2)\n",
    "\n",
    "# Start new Threads\n",
    "thread1.start()\n",
    "thread2.start()\n",
    "\n",
    "# Add threads to thread list\n",
    "threads.append(thread1)\n",
    "threads.append(thread2)\n",
    "\n",
    "# Wait for all threads to complete\n",
    "for t in threads:\n",
    "    t.join()\n",
    "print(\"Exiting Main Thread\")"
   ]
  },
  {
   "cell_type": "markdown",
   "id": "b000a15a-5f76-400b-af09-9f01a6c80966",
   "metadata": {},
   "source": [
    "Q)4. Write a python program to create two threads. Thread one must print the list of squares and thread two must print the list of cubes\n",
    "\n",
    "Ans->"
   ]
  },
  {
   "cell_type": "code",
   "execution_count": 27,
   "id": "6e2fd6c0-3846-41ea-aad7-af5fc7799e78",
   "metadata": {},
   "outputs": [
    {
     "name": "stdout",
     "output_type": "stream",
     "text": [
      "[1, 4, 9, 16, 25, 36, 49, 64, 81, 100]\n",
      "[1, 8, 27, 64, 125, 216, 343, 512, 729, 1000]\n"
     ]
    }
   ],
   "source": [
    "import threading\n",
    "import time\n",
    "\n",
    "class Square(threading.Thread):\n",
    "    def run(self):\n",
    "        list1=[]\n",
    "        for i in range(1,11):\n",
    "            list1.append(i**2) \n",
    "        print(list1)\n",
    "\n",
    "class Cube(threading.Thread):\n",
    "    def run(self):\n",
    "        list2=[]\n",
    "        for i in range(1,11):\n",
    "            list2.append(i**3) \n",
    "        print(list2)\n",
    "\n",
    "t1=Square()\n",
    "t2=Cube()\n",
    "\n",
    "t1.start()\n",
    "t2.start()"
   ]
  },
  {
   "cell_type": "markdown",
   "id": "234bf414-38d8-45e7-a697-45ac21f5b91a",
   "metadata": {},
   "source": [
    "Q)5. State advantages and disadvantages of multithreading\n",
    "\n",
    "Ans-> Advantages : \n",
    "\n",
    "* Enhanced performance by decreased development time\n",
    "* Simplified and streamlined program coding\n",
    "* Improvised GUI responsiveness\n",
    "* Simultaneous and parallelized occurrence of tasks\n",
    "* Better use of cache storage by utilization of resources\n",
    "* Decreased cost of maintenance\n",
    "* Better use of CPU resource\n",
    "\n",
    "Disadvantages : \n",
    "\n",
    "* Complex debugging and testing processes\n",
    "* Overhead switching of context\n",
    "* Increased potential for deadlock occurrence\n",
    "* Increased difficulty level in writing a program\n",
    "* Unpredictable results"
   ]
  },
  {
   "cell_type": "markdown",
   "id": "3504f3a9-0bc9-42fb-8265-2f5515eac7ce",
   "metadata": {},
   "source": [
    "Q)6. Explain deadlocks and race conditions.\n",
    "\n",
    "Ans-> Deadlock :\n",
    "\n",
    "When two processes are waiting for each other directly or indirectly, it is called deadlock. This usually occurs when two processes are waiting for shared resources acquired by others. For example, If thread T1 acquired resource R1 and it also needs resource R2 for it to accomplish its task.\n",
    "\n",
    "Two threads hold locks on different resources, each waiting indefinitely for the other to release its lock.\n",
    "\n",
    "Race condition :\n",
    "\n",
    "When two processes are competing with each other causing data corruption\n",
    "\n",
    "A race condition is a bug in concurrency programming. It is a failure case where the behavior of the program is dependent upon the order of execution by two or more threads. This means, the behavior of the program will not be predictable, possibly changing each time it is run."
   ]
  }
 ],
 "metadata": {
  "kernelspec": {
   "display_name": "Python 3 (ipykernel)",
   "language": "python",
   "name": "python3"
  },
  "language_info": {
   "codemirror_mode": {
    "name": "ipython",
    "version": 3
   },
   "file_extension": ".py",
   "mimetype": "text/x-python",
   "name": "python",
   "nbconvert_exporter": "python",
   "pygments_lexer": "ipython3",
   "version": "3.10.8"
  }
 },
 "nbformat": 4,
 "nbformat_minor": 5
}
