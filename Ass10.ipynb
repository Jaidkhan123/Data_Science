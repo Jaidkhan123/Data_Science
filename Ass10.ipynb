{
 "cells": [
  {
   "cell_type": "markdown",
   "id": "574979d2-8441-4093-bca1-d8b836992758",
   "metadata": {},
   "source": [
    "Q1, Create a vehicle class with an init method having instance variables as name_of_vehicle, max_speed\n",
    "and average_of_vehicle.\n",
    "\n",
    "Ans->"
   ]
  },
  {
   "cell_type": "code",
   "execution_count": 17,
   "id": "3cdd848e-b73c-4f47-bbf7-7bd30f3d6607",
   "metadata": {},
   "outputs": [
    {
     "name": "stdout",
     "output_type": "stream",
     "text": [
      "name of vehicle is  Mustang\n",
      "max_speed of vehicle is 290 KMPH\n",
      "average of vehicle is  3 KMPL\n",
      "\n"
     ]
    }
   ],
   "source": [
    "class vehicle : \n",
    "    def __init__(self,a,b,c):\n",
    "        self.name_of_vehicle = a\n",
    "        self.max_speed = b\n",
    "        self.average_of_vehicle = c\n",
    "        \n",
    "    def print_details(self):\n",
    "        print(f\"name of vehicle is  {self.name_of_vehicle}\\n\"\n",
    "             f\"max_speed of vehicle is {self.max_speed}\\n\"\n",
    "             f\"average of vehicle is  {self.average_of_vehicle}\\n\")\n",
    "        \n",
    "model = vehicle(\"Mustang\", \"290 KMPH\", \"3 KMPL\")\n",
    "model.print_details()"
   ]
  },
  {
   "cell_type": "markdown",
   "id": "e3bfeb10-b37f-4959-9a89-d587e0942648",
   "metadata": {},
   "source": [
    "Q2. Create a child class car from the vehicle class created in Que 1, which will inherit the vehicle class.\n",
    "Create a method named seating_capacity which takes capacity as an argument and returns the name of\n",
    "the vehicle and its seating capacity.\n",
    "\n",
    "Ans->"
   ]
  },
  {
   "cell_type": "code",
   "execution_count": 23,
   "id": "57e04d4b-1008-4c93-be6a-7103ccb2daf7",
   "metadata": {},
   "outputs": [
    {
     "name": "stdout",
     "output_type": "stream",
     "text": [
      "name of vehicle is Mustang\n",
      "seating capacity of vehicle is 2\n"
     ]
    }
   ],
   "source": [
    "class vehicle : \n",
    "    def __init__(self,a,b,c):\n",
    "        self.name_of_vehicle = a\n",
    "        self.max_speed = b\n",
    "        self.average_of_vehicle = c\n",
    "        \n",
    "    def print_details(self):\n",
    "        print(f\"name of vehicle is  {self.name_of_vehicle}\\n\"\n",
    "             f\"max_speed of vehicle is {self.max_speed}\\n\"\n",
    "             f\"average of vehicle is  {self.average_of_vehicle}\\n\")\n",
    "        \n",
    "class car(vehicle):\n",
    "    def seating_capacity(self, capacity):\n",
    "        self.capacity = capacity\n",
    "        print(f\"name of vehicle is {self.name_of_vehicle}\\n\"\n",
    "            f\"seating capacity of vehicle is {self.capacity}\")\n",
    "        \n",
    "model = car(\"Mustang\", \"290 KMPH\", \"3 KMPL\")\n",
    "model.seating_capacity(2)"
   ]
  },
  {
   "cell_type": "markdown",
   "id": "0b3420b0-27e4-40d2-bb2d-27b38b81fc09",
   "metadata": {},
   "source": [
    "Q3. What is multiple inheritance? Write a python code to demonstrate multiple inheritance.\n",
    "\n",
    "Ans-> When a class is derived from more than one base class it is called multiple Inheritance. The derived class inherits all the features of the base case."
   ]
  },
  {
   "cell_type": "code",
   "execution_count": 24,
   "id": "fc9e0605-61f1-445d-aa80-3edbabdbb337",
   "metadata": {},
   "outputs": [
    {
     "name": "stdout",
     "output_type": "stream",
     "text": [
      "company is Ford\n",
      "car name is Mustang\n",
      "mileage =  4\n",
      "cost =  8000000\n",
      "I am a vehicle\n",
      "I am a CAR\n"
     ]
    }
   ],
   "source": [
    "class Vehicle:\n",
    "    def __init__(self,mileage,cost):\n",
    "        self.mileage=mileage\n",
    "        self.cost=cost\n",
    "    def show_vehicle_details(self):                #      multiple inheritance\n",
    "        print(\"mileage = \",self.mileage)\n",
    "        print(\"cost = \",self.cost)\n",
    "        print(\"I am a vehicle\")\n",
    "class Details:\n",
    "    def __init__(self,com,model):\n",
    "        self.com=com\n",
    "        self.model=model\n",
    "    def show_details(self):\n",
    "        print(f\"company is {self.com}\\n\"\n",
    "              f\"car name is {self.model}\")\n",
    "class Car(Details,Vehicle):\n",
    "    def show_car_details(self):\n",
    "        print(\"I am a CAR\")\n",
    "    def __init__(self,com,model,mileage,cost):\n",
    "        Details.__init__(self,com,model)\n",
    "        Vehicle.__init__(self,mileage,cost)\n",
    "ob1=Car(\"Ford\",\"Mustang\",4,8000000)\n",
    "ob1.show_details()\n",
    "ob1.show_vehicle_details()\n",
    "ob1.show_car_details()"
   ]
  },
  {
   "cell_type": "markdown",
   "id": "ce1e6ab0-b5c0-4d2a-a839-f547bd361a80",
   "metadata": {},
   "source": [
    "Q4. What are getter and setter in python? Create a class and create a getter and a setter method in this\n",
    "class.\n",
    "\n",
    "Ans-> getters are the methods which help access the private attributes or get the value of the private attributes and setters are the methods which help change or set the value of private attributes."
   ]
  },
  {
   "cell_type": "code",
   "execution_count": 2,
   "id": "7046e7c0-ef13-4c67-8f30-4de2bc5da2a9",
   "metadata": {},
   "outputs": [
    {
     "name": "stdout",
     "output_type": "stream",
     "text": [
      "32\n",
      "2018\n"
     ]
    }
   ],
   "source": [
    "class year_graduated:\n",
    "   def __init__(self, year=32):\n",
    "      self._year = year\n",
    "\n",
    "   @property\n",
    "   def Aboutyear(self):\n",
    "      return self.__year\n",
    "\n",
    "   @Aboutyear.setter\n",
    "   def Aboutyear(self, a):\n",
    "      self.__year = a\n",
    "\n",
    "grad_obj = year_graduated()\n",
    "print(grad_obj._year)\n",
    "\n",
    "grad_obj.year = 2018\n",
    "print(grad_obj.year)"
   ]
  },
  {
   "cell_type": "markdown",
   "id": "d7aee3d3-03dd-4672-a681-a041946d6edc",
   "metadata": {},
   "source": [
    "Q5.What is method overriding in python? Write a python code to demonstrate method overriding.\n",
    "\n",
    "Ans-> The overriding method allows a child class to provide a specific implementation of a method that is already provided by one of its parent classes."
   ]
  },
  {
   "cell_type": "code",
   "execution_count": 3,
   "id": "8005e504-b46c-45ad-bf92-0582a0583dea",
   "metadata": {},
   "outputs": [
    {
     "name": "stdout",
     "output_type": "stream",
     "text": [
      "This message is from Emp\n",
      "------------\n",
      "This Department is inherited from Emp\n"
     ]
    }
   ],
   "source": [
    "class Employee:\n",
    "      \n",
    "    def message(self):\n",
    "        print('This message is from Emp')\n",
    "  \n",
    "class Department(Employee):\n",
    "  \n",
    "    def message(self):\n",
    "        print('This Department is inherited from Emp')\n",
    "  \n",
    "emp = Employee()\n",
    "emp.message()\n",
    "  \n",
    "print('------------')\n",
    "dept = Department()\n",
    "dept.message()"
   ]
  }
 ],
 "metadata": {
  "kernelspec": {
   "display_name": "Python 3 (ipykernel)",
   "language": "python",
   "name": "python3"
  },
  "language_info": {
   "codemirror_mode": {
    "name": "ipython",
    "version": 3
   },
   "file_extension": ".py",
   "mimetype": "text/x-python",
   "name": "python",
   "nbconvert_exporter": "python",
   "pygments_lexer": "ipython3",
   "version": "3.10.8"
  }
 },
 "nbformat": 4,
 "nbformat_minor": 5
}
