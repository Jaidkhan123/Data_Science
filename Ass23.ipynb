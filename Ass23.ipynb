{
 "cells": [
  {
   "cell_type": "markdown",
   "id": "8f2cc550-41bf-48e1-8cb9-f3ca5fd63d7a",
   "metadata": {},
   "source": [
    "Q1. List any five functions of the pandas library with execution.\n",
    "\n",
    "Ans-> 1) empty : Returns the Boolean value saying whether the Object is empty or not. True indicates that the object is empty.\n",
    "\n",
    "2) ndim : Returns the number of dimensions of the object. By definition, a Series is a 1D data structure, so it returns\n",
    "\n",
    "3) size : Returns the size(length) of the series.\n",
    "\n",
    "4) values : Returns the actual data in the series as an array.\n",
    "\n",
    "5) T (Transpose) : Returns the transpose of the DataFrame. The rows and columns will interchange.\n",
    " "
   ]
  },
  {
   "cell_type": "code",
   "execution_count": 9,
   "id": "214d88a7-5cdc-448b-b0b9-75060eb0f7a4",
   "metadata": {},
   "outputs": [
    {
     "name": "stdout",
     "output_type": "stream",
     "text": [
      "Is the Object empty?\n",
      "False\n",
      "***********************\n",
      "0   -0.814223\n",
      "1    0.260223\n",
      "2    0.852926\n",
      "3    2.141433\n",
      "dtype: float64\n",
      "The dimensions of the object:\n",
      "1\n",
      "***********************\n",
      "0    0.826518\n",
      "1   -0.636334\n",
      "dtype: float64\n",
      "The size of the object:\n",
      "2\n",
      "***********************\n",
      "0   -0.727386\n",
      "1    0.140119\n",
      "2    2.170037\n",
      "3    1.298769\n",
      "dtype: float64\n",
      "The actual data series is:\n",
      "[-0.72738592  0.14011898  2.17003687  1.29876861]\n",
      "***********************\n",
      "The transpose of the data series is:\n",
      "           0      1      2     3      4      5     6\n",
      "Name     Tom  James  Ricky   Vin  Steve  Smith  Jack\n",
      "Age       25     26     25    23     30     29    23\n",
      "Rating  4.23   3.24   3.98  2.56    3.2    4.6   3.8\n"
     ]
    }
   ],
   "source": [
    "import pandas as pd\n",
    "import numpy as np\n",
    "\n",
    "#Create a series with 100 random numbers\n",
    "s = pd.Series(np.random.randn(4))\n",
    "print(\"Is the Object empty?\")\n",
    "print(s.empty)\n",
    "\n",
    "print(\"***********************\")\n",
    "\n",
    "#Create a series with 4 random numbers\n",
    "s = pd.Series(np.random.randn(4))\n",
    "print(s)\n",
    "\n",
    "print(\"The dimensions of the object:\")\n",
    "print(s.ndim)\n",
    "\n",
    "print(\"***********************\")\n",
    "\n",
    "#Create a series with 4 random numbers\n",
    "s = pd.Series(np.random.randn(2))\n",
    "print(s)\n",
    "print(\"The size of the object:\")\n",
    "print(s.size)\n",
    "\n",
    "print(\"***********************\")\n",
    "\n",
    "#Create a series with 4 random numbers\n",
    "s = pd.Series(np.random.randn(4))\n",
    "print(s)\n",
    "\n",
    "print(\"The actual data series is:\")\n",
    "print(s.values)\n",
    "\n",
    "print(\"***********************\")\n",
    "\n",
    "# Create a Dictionary of series\n",
    "d = {'Name':pd.Series(['Tom','James','Ricky','Vin','Steve','Smith','Jack']),\n",
    "   'Age':pd.Series([25,26,25,23,30,29,23]),\n",
    "   'Rating':pd.Series([4.23,3.24,3.98,2.56,3.20,4.6,3.8])}\n",
    "\n",
    "# Create a DataFrame\n",
    "df = pd.DataFrame(d)\n",
    "print(\"The transpose of the data series is:\")\n",
    "print(df.T)"
   ]
  },
  {
   "cell_type": "markdown",
   "id": "13f1c7f0-cc42-4f1b-84ac-86e11ea4f6d8",
   "metadata": {},
   "source": [
    "Q2. Given a Pandas DataFrame df with columns 'A', 'B', and 'C', write a Python function to re-index the\n",
    "DataFrame with a new index that starts from 1 and increments by 2 for each row.\n",
    "\n",
    "Ans-> "
   ]
  },
  {
   "cell_type": "code",
   "execution_count": 10,
   "id": "79015dd0-a00b-4507-9eae-2c8b7e779542",
   "metadata": {},
   "outputs": [
    {
     "name": "stdout",
     "output_type": "stream",
     "text": [
      "    A   B   C\n",
      "0  10  20  30\n",
      "1  11  21  31\n",
      "2  12  22  32\n",
      "3  13  23  33\n",
      "4  14  24  34\n",
      "5  15  25  35\n",
      "     A   B   C\n",
      "1   10  20  30\n",
      "3   11  21  31\n",
      "5   12  22  32\n",
      "7   13  23  33\n",
      "9   14  24  34\n",
      "11  15  25  35\n"
     ]
    }
   ],
   "source": [
    "def set_index(df,a):\n",
    "    \n",
    "    index = [i for i in range(1,a,2)]\n",
    "    df = pd.DataFrame(data,index)\n",
    "    print(df)\n",
    "\n",
    "data = {\"A\" : [10,11,12,13,14,15],\n",
    "       \"B\" : [20,21,22,23,24,25],\n",
    "       \"C\" : [30,31,32,33,34,35] }\n",
    "\n",
    "df = pd.DataFrame(data)\n",
    "print(df)\n",
    "a=len(df)\n",
    "set_index(df,2*a)"
   ]
  },
  {
   "cell_type": "markdown",
   "id": "8be4b3e2-da44-4922-bb99-da505d40e5ee",
   "metadata": {},
   "source": [
    "Q3. You have a Pandas DataFrame df with a column named 'Values'. Write a Python function that\n",
    "iterates over the DataFrame and calculates the sum of the first three values in the 'Values' column. The\n",
    "function should print the sum to the console.\n",
    "\n",
    "For example, if the 'Values' column of df contains the values [10, 20, 30, 40, 50], your function should\n",
    "calculate and print the sum of the first three values, which is 60.\n",
    "\n",
    "Ans->"
   ]
  },
  {
   "cell_type": "code",
   "execution_count": 11,
   "id": "77e40fa9-1831-43fa-b5d3-b194323eb222",
   "metadata": {},
   "outputs": [
    {
     "name": "stdout",
     "output_type": "stream",
     "text": [
      "60\n"
     ]
    }
   ],
   "source": [
    "def sum_values(df):\n",
    "        sum = 0\n",
    "        i=0\n",
    "        while i<=2:\n",
    "            sum = sum + df._get_value(i,\"values\")\n",
    "            i+=1\n",
    "        print(sum)\n",
    "\n",
    "data = {\"values\": [10,20,30,40,50]}\n",
    "df = pd.DataFrame(data)\n",
    "sum_values(df)"
   ]
  },
  {
   "cell_type": "markdown",
   "id": "6546e50e-6b9a-4cd8-bb6a-39c2ba78669d",
   "metadata": {},
   "source": [
    "Q4. Given a Pandas DataFrame df with a column 'Text', write a Python function to create a new column\n",
    "'Word_Count' that contains the number of words in each row of the 'Text' column.\n",
    "\n",
    "Ans->"
   ]
  },
  {
   "cell_type": "code",
   "execution_count": 12,
   "id": "1e5812b3-ab5f-4554-af5a-63468f945b0f",
   "metadata": {},
   "outputs": [
    {
     "name": "stdout",
     "output_type": "stream",
     "text": [
      "     Text\n",
      "0   Hello\n",
      "1  Myself\n",
      "2    Jaid\n",
      "3\n",
      "     Text  Word_count\n",
      "0   Hello           5\n",
      "1  Myself           6\n",
      "2    Jaid           4\n"
     ]
    }
   ],
   "source": [
    "def add_colm(df):\n",
    "    a= len(df)\n",
    "    print(a)\n",
    "    i=0\n",
    "    list1=[]\n",
    "    while i <3:\n",
    "        data = df._get_value(i,\"Text\")\n",
    "        length = len(data)\n",
    "        list1.append(length)\n",
    "        i+=1\n",
    "    df[\"Word_count\"]=list1\n",
    "    print(df)\n",
    "\n",
    "data = {\"Text\" : [\"Hello\",\"Myself\",\"Jaid\"]}\n",
    "\n",
    "df = pd.DataFrame(data)\n",
    "print(df)\n",
    "\n",
    "add_colm(df)"
   ]
  },
  {
   "cell_type": "markdown",
   "id": "f31bfd51-bad5-4a8d-8100-080519254f9f",
   "metadata": {},
   "source": [
    "Q5. How are DataFrame.size() and DataFrame.shape() different?\n",
    "\n",
    "Ans-> Size and shape of a dataframe in pandas python: Size of a dataframe is the number of fields in the dataframe which is nothing but number of rows * number of columns. Shape of a dataframe gets the number of rows and number of columns of the dataframe.\n",
    "\n",
    "* DataFrame.size() : Get the Size of the dataframe in pandas python.\n",
    "\n",
    "* DataFrame.shape() : Get the shape of the dataframe in pandas python."
   ]
  },
  {
   "cell_type": "code",
   "execution_count": 13,
   "id": "14a8e57c-4f02-48b2-863a-dc674f9a9ab2",
   "metadata": {},
   "outputs": [
    {
     "name": "stdout",
     "output_type": "stream",
     "text": [
      "      Name  Mathematics_score\n",
      "0   George                 62\n",
      "1   Andrea                 47\n",
      "2  micheal                 55\n",
      "3   maggie                 74\n",
      "4     Ravi                 32\n",
      "5     Xien                 77\n",
      "6    Jalpa                 86\n",
      "***********************\n",
      "14\n",
      "***********************\n",
      "(7, 2)\n"
     ]
    }
   ],
   "source": [
    "import pandas as pd\n",
    "import numpy as np\n",
    " \n",
    "#Create a DataFrame\n",
    "df1 = {\n",
    "     'Name':['George','Andrea','micheal','maggie','Ravi','Xien','Jalpa'],\n",
    "   'Mathematics_score':[62,47,55,74,32,77,86]}\n",
    " \n",
    "df1 = pd.DataFrame(df1,columns=['Name','Mathematics_score'])\n",
    "print(df1)\n",
    "print(\"***********************\")\n",
    "print(df1.size)\n",
    "print(\"***********************\")\n",
    "print(df1.shape)"
   ]
  },
  {
   "cell_type": "markdown",
   "id": "2546f17b-a981-40a9-82f0-0aa184d34a07",
   "metadata": {},
   "source": [
    "Q6. Which function of pandas do we use to read an excel file?\n",
    "\n",
    "Ans-> module read_excel() function :\n",
    "\n",
    "We can use the pandas module read_excel() function to read the excel file data into a DataFrame object."
   ]
  },
  {
   "cell_type": "markdown",
   "id": "2d1143df-6af5-45a9-abfb-1eb5e99b3f6d",
   "metadata": {},
   "source": [
    "Q7. You have a Pandas DataFrame df that contains a column named 'Email' that contains email\n",
    "addresses in the format 'username@domain.com'. Write a Python function that creates a new column\n",
    "'Username' in df that contains only the username part of each email address.\n",
    "\n",
    "The username is the part of the email address that appears before the '@' symbol. For example, if the\n",
    "email address is 'john.doe@example.com', the 'Username' column should contain 'john.doe'. Your\n",
    "function should extract the username from each email address and store it in the new 'Username'\n",
    "column."
   ]
  },
  {
   "cell_type": "code",
   "execution_count": 14,
   "id": "8bc86457-139c-4ac4-b65e-f88c817c8b51",
   "metadata": {},
   "outputs": [
    {
     "name": "stdout",
     "output_type": "stream",
     "text": [
      "               emails\n",
      "0  john.doe@gmail.com\n",
      "1    jk.786@gmail.com\n",
      "2  johnCena@gmail.com\n",
      "               emails  Username\n",
      "0  john.doe@gmail.com  john.doe\n",
      "1    jk.786@gmail.com    jk.786\n",
      "2  johnCena@gmail.com  johnCena\n"
     ]
    }
   ],
   "source": [
    "def filter_email(df):\n",
    "    i = 0\n",
    "    a= len(df)\n",
    "    list1=[]\n",
    "    while i < a:\n",
    "        data = df._get_value(i,\"emails\")\n",
    "        temp = ''\n",
    "        t='@'\n",
    "        d=0\n",
    "        while data[d] != '@':\n",
    "            temp = temp+data[d]\n",
    "            d+=1\n",
    "        list1.append(temp)\n",
    "        i+=1\n",
    "    df[\"Username\"]=list1\n",
    "    print(df)\n",
    "\n",
    "data = {\"emails\" : [\"john.doe@gmail.com\",\"jk.786@gmail.com\",\"johnCena@gmail.com\"]}\n",
    "\n",
    "df = pd.DataFrame(data)\n",
    "print(df)\n",
    "filter_email(df)"
   ]
  },
  {
   "cell_type": "markdown",
   "id": "27a1d060-454a-435e-9610-9fa6aa528e81",
   "metadata": {},
   "source": [
    "Q8. You have a Pandas DataFrame df with columns 'A', 'B', and 'C'. Write a Python function that selects\n",
    "all rows where the value in column 'A' is greater than 5 and the value in column 'B' is less than 10. The\n",
    "function should return a new DataFrame that contains only the selected rows.\n",
    "\n",
    "For example, if df contains the following values:\n",
    "\n",
    "A B C\n",
    "\n",
    "0 3 5 1\n",
    "\n",
    "1 8 2 7\n",
    "\n",
    "2 6 9 4\n",
    "\n",
    "3 2 3 5\n",
    "\n",
    "4 9 1 2\n",
    "\n",
    "Assignment\n",
    "\n",
    "Data Science Masters\n",
    "\n",
    "Your function should select the following rows: A B C\n",
    "\n",
    "1 8 2 7\n",
    "\n",
    "4 9 1 2\n",
    "\n",
    "The function should return a new DataFrame that contains only the selected rows."
   ]
  },
  {
   "cell_type": "code",
   "execution_count": 15,
   "id": "116a23e7-9ae7-4131-bf07-febaa0fcda91",
   "metadata": {},
   "outputs": [
    {
     "name": "stdout",
     "output_type": "stream",
     "text": [
      "   A  B  C\n",
      "0  3  5  1\n",
      "1  8  2  7\n",
      "2  6  9  4\n",
      "3  2  3  5\n",
      "4  9  1  2\n",
      "***********\n",
      "   A  B  C\n",
      "1  8  2  7\n",
      "2  6  9  4\n",
      "4  9  1  2\n"
     ]
    }
   ],
   "source": [
    "data = {\"A\" : [3,8,6,2,9],\n",
    "       \"B\" : [5,2,9,3,1],\n",
    "       \"C\" : [1,7,4,5,2]}\n",
    "\n",
    "df = pd.DataFrame(data)\n",
    "print(df)\n",
    "print(\"***********\")\n",
    "select_row = df.loc[((df['A'] > 5) & (df['B'] <10))]\n",
    "print(select_row)"
   ]
  },
  {
   "cell_type": "markdown",
   "id": "c6c8eb9f-bcfc-4f98-a814-8ac22c310416",
   "metadata": {},
   "source": [
    "Q9. Given a Pandas DataFrame df with a column 'Values', write a Python function to calculate the mean,\n",
    "median, and standard deviation of the values in the 'Values' column.\n",
    "\n",
    "Ans-> "
   ]
  },
  {
   "cell_type": "code",
   "execution_count": 16,
   "id": "e8e31127-4178-4def-a98f-d94a3785da16",
   "metadata": {},
   "outputs": [
    {
     "name": "stdout",
     "output_type": "stream",
     "text": [
      "   Values\n",
      "0      10\n",
      "1      20\n",
      "2      30\n",
      "3      40\n",
      "4      50\n",
      "5      60\n",
      "<class 'pandas.core.series.Series'>\n",
      "mean = 35\n",
      "median = 35.0\n",
      "standard deviation = 18.708286933869708\n"
     ]
    }
   ],
   "source": [
    "from statistics import mean, median, stdev\n",
    "\n",
    "def find_Statistics(df):\n",
    "    a = df.loc[:,\"Values\"]\n",
    "    print(type(a))\n",
    "    print(\"mean =\", mean(a))\n",
    "    print(\"median =\", median(a))\n",
    "    print(\"standard deviation =\", stdev(a))\n",
    "\n",
    "data = {\"Values\" : [10,20,30,40,50,60]}\n",
    "df = pd.DataFrame(data)\n",
    "print(df)\n",
    "find_Statistics(df)"
   ]
  },
  {
   "cell_type": "markdown",
   "id": "1aa4d435-be0d-4610-a5e6-f5045e0ed5b9",
   "metadata": {},
   "source": [
    "Q10. Given a Pandas DataFrame df with a column 'Sales' and a column 'Date', write a Python function to\n",
    "create a new column 'MovingAverage' that contains the moving average of the sales for the past 7 days\n",
    "for each row in the DataFrame. The moving average should be calculated using a window of size 7 and\n",
    "should include the current day.\n",
    "\n",
    "Ans-> "
   ]
  },
  {
   "cell_type": "code",
   "execution_count": 17,
   "id": "95c8bd01-2a70-44df-8d8b-b205c169a526",
   "metadata": {},
   "outputs": [
    {
     "name": "stdout",
     "output_type": "stream",
     "text": [
      "        Date  Sales  MovingAverage\n",
      "0 2022-01-02     10           10.0\n",
      "1 2022-01-02     20           15.0\n",
      "2 2022-01-03     30           20.0\n",
      "3 2022-01-04     40           25.0\n",
      "4 2022-01-05     50           30.0\n",
      "5 2022-01-06     60           35.0\n",
      "6 2022-01-07     70           40.0\n",
      "7 2022-01-08     80           50.0\n",
      "8 2022-01-09     90           60.0\n",
      "9 2022-01-10    100           70.0\n"
     ]
    }
   ],
   "source": [
    "import pandas as pd \n",
    "def add_moving_average(df):\n",
    "    df['Date'] = pd.to_datetime(df['Date'])\n",
    "    df =  df.sort_values(by='Date')\n",
    "    df['MovingAverage'] = df['Sales'].rolling(window=7, min_periods = 1).mean()\n",
    "    return df\n",
    "df = pd.DataFrame({'Date' : ['2022-01-02', '2022-01-02', '2022-01-03','2022-01-04','2022-01-05','2022-01-06',\n",
    "                             '2022-01-07','2022-01-08','2022-01-09','2022-01-10'],\n",
    "                  'Sales' : [10,20,30,40,50,60,70,80,90,100]})\n",
    "df_with_ma = add_moving_average(df)\n",
    "print(df_with_ma)"
   ]
  },
  {
   "cell_type": "markdown",
   "id": "9c87f7f7-a3a7-4b35-b13c-79f1c2af82d4",
   "metadata": {},
   "source": [
    "Q11. You have a Pandas DataFrame df with a column 'Date'. Write a Python function that creates a new\n",
    "column 'Weekday' in the DataFrame. The 'Weekday' column should contain the weekday name (e.g.\n",
    "Monday, Tuesday) corresponding to each date in the 'Date' column.\n",
    "\n",
    "For example, if df contains the following values:\n",
    "\n",
    "Date\n",
    "\n",
    "0 2023-01-01\n",
    "\n",
    "1 2023-01-02\n",
    "\n",
    "2 2023-01-03\n",
    "\n",
    "3 2023-01-04\n",
    "\n",
    "4 2023-01-05\n",
    "\n",
    "Your function should create the following DataFrame:\n",
    "\n",
    "Date Weekday\n",
    "\n",
    "0 2023-01-01 Sunday\n",
    "\n",
    "1 2023-01-02 Monday\n",
    "\n",
    "2 2023-01-03 Tuesday\n",
    "\n",
    "3 2023-01-04 Wednesday\n",
    "\n",
    "4 2023-01-05 Thursday\n",
    "\n",
    "The function should return the modified DataFrame."
   ]
  },
  {
   "cell_type": "code",
   "execution_count": 18,
   "id": "31c6c3a0-a3fa-4bb3-ab09-9183fd0df4f8",
   "metadata": {},
   "outputs": [
    {
     "name": "stdout",
     "output_type": "stream",
     "text": [
      "       Date\n",
      "0  1-1-2023\n",
      "1  2-1-2023\n",
      "2  3-1-2023\n",
      "3  4-1-2023\n",
      "4  5-1-2023\n",
      "5  6-1-2023\n",
      "6  7-1-2023\n",
      "7  8-1-2023\n",
      "       Date    Weekday\n",
      "0  1-1-2023     Monday\n",
      "1  2-1-2023    Tuesday\n",
      "2  3-1-2023  Wednesday\n",
      "3  4-1-2023   Thursday\n",
      "4  5-1-2023     Friday\n",
      "5  6-1-2023   Saturday\n",
      "6  7-1-2023     Sunday\n",
      "7  8-1-2023     Monday\n"
     ]
    }
   ],
   "source": [
    "def set_Day(df):\n",
    "    d=0\n",
    "    a=len(df)\n",
    "    list2=[]\n",
    "    list1 = [\"Monday\", \"Tuesday\" ,\"Wednesday\", \"Thursday\" ,\"Friday\" ,\"Saturday\" ,\"Sunday\"]\n",
    "    for i in range(0,a):\n",
    "        list2.append(list1[d])\n",
    "        i+=1\n",
    "        if d == 6:\n",
    "            d=0\n",
    "        else:\n",
    "            d+=1\n",
    "    df[\"Weekday\"]=list2\n",
    "    return df\n",
    "\n",
    "data = {\"Date\" : [\"1-1-2023\",\"2-1-2023\",\"3-1-2023\",\"4-1-2023\",\"5-1-2023\",\"6-1-2023\",\"7-1-2023\",\"8-1-2023\"]}\n",
    "\n",
    "df = pd.DataFrame(data)\n",
    "print(df)\n",
    "df2=set_Day(df)\n",
    "print(df2)"
   ]
  },
  {
   "cell_type": "markdown",
   "id": "9e1ec72e-f057-4307-8a41-0f77bd59f96b",
   "metadata": {},
   "source": [
    "Q12. Given a Pandas DataFrame df with a column 'Date' that contains timestamps, write a Python\n",
    "function to select all rows where the date is between '2023-01-01' and '2023-01-31'.\n",
    "\n",
    "Ans-> "
   ]
  },
  {
   "cell_type": "code",
   "execution_count": 19,
   "id": "61072ca6-8aad-4bd6-aac4-2aa3bae26629",
   "metadata": {},
   "outputs": [
    {
     "name": "stdout",
     "output_type": "stream",
     "text": [
      "        Date  Sales\n",
      "0 2023-01-02     10\n",
      "1 2023-01-02     20\n",
      "2 2023-01-03     30\n",
      "3 2023-01-04     40\n",
      "4 2023-01-05     50\n",
      "5 2023-01-06     60\n",
      "6 2023-01-07     70\n",
      "7 2023-01-08     80\n",
      "8 2023-01-09     90\n",
      "9 2023-01-10    100\n"
     ]
    }
   ],
   "source": [
    "def select_rows_by_date_range(df):\n",
    "    df['Date'] = pd.to_datetime(df['Date'])\n",
    "    mask = (df['Date']>='2023-01-01') & (df['Date']<='2023-01-31')\n",
    "    filtered_df=df.loc[mask]\n",
    "    return filtered_df\n",
    "df = pd.DataFrame({'Date' : ['2023-01-02', '2023-01-02', '2023-01-03','2023-01-04','2023-01-05','2023-01-06',\n",
    "                             '2023-01-07','2023-01-08','2023-01-09','2023-01-10'],\n",
    "                  'Sales' : [10,20,30,40,50,60,70,80,90,100]})\n",
    "filterd_df =  select_rows_by_date_range(df)\n",
    "print(filterd_df)"
   ]
  },
  {
   "cell_type": "markdown",
   "id": "5312e927-60d0-4162-87a6-e740479308b7",
   "metadata": {},
   "source": [
    "Q13. To use the basic functions of pandas, what is the first and foremost necessary library that needs to\n",
    "be imported?\n",
    "\n",
    "Ans-> Pandas library"
   ]
  }
 ],
 "metadata": {
  "kernelspec": {
   "display_name": "Python 3 (ipykernel)",
   "language": "python",
   "name": "python3"
  },
  "language_info": {
   "codemirror_mode": {
    "name": "ipython",
    "version": 3
   },
   "file_extension": ".py",
   "mimetype": "text/x-python",
   "name": "python",
   "nbconvert_exporter": "python",
   "pygments_lexer": "ipython3",
   "version": "3.10.8"
  }
 },
 "nbformat": 4,
 "nbformat_minor": 5
}
