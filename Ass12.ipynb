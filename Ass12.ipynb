{
 "cells": [
  {
   "cell_type": "raw",
   "id": "a4750f77-d643-43ef-877d-80ed60fd51b7",
   "metadata": {},
   "source": [
    "Q1. What is an Exception in python? Write the difference between Exception and sytax errors.\n",
    "\n",
    "Ans-> exceptions are raised when some internal events occur which changes the normal flow of the program.\n",
    "Two types of Error occurs in python.\n",
    "\n",
    "Syntax errors\n",
    "Logical errors (Exceptions)\n",
    "\n",
    "When the proper syntax of the language is not followed then a syntax error is thrown."
   ]
  },
  {
   "cell_type": "code",
   "execution_count": 1,
   "id": "3ad288f9-aad7-48d7-a1c0-a1e9971f621c",
   "metadata": {},
   "outputs": [
    {
     "ename": "SyntaxError",
     "evalue": "expected ':' (2921387308.py, line 2)",
     "output_type": "error",
     "traceback": [
      "\u001b[0;36m  Cell \u001b[0;32mIn[1], line 2\u001b[0;36m\u001b[0m\n\u001b[0;31m    if(amount>2999)\u001b[0m\n\u001b[0m                   ^\u001b[0m\n\u001b[0;31mSyntaxError\u001b[0m\u001b[0;31m:\u001b[0m expected ':'\n"
     ]
    }
   ],
   "source": [
    "amount = 10000\n",
    "if(amount>2999)\n",
    "     print(\"You are eligible to purchase Dsa Self Paced\")"
   ]
  },
  {
   "cell_type": "raw",
   "id": "17a99ea7-9147-4a1d-8ddc-a368425b3235",
   "metadata": {},
   "source": [
    "When in the runtime an error occurs after passing the syntax test is called exception or logical type."
   ]
  },
  {
   "cell_type": "code",
   "execution_count": 2,
   "id": "c25bfdc2-67a4-4840-bbd0-5361794a73c5",
   "metadata": {},
   "outputs": [
    {
     "ename": "ZeroDivisionError",
     "evalue": "division by zero",
     "output_type": "error",
     "traceback": [
      "\u001b[0;31m---------------------------------------------------------------------------\u001b[0m",
      "\u001b[0;31mZeroDivisionError\u001b[0m                         Traceback (most recent call last)",
      "Cell \u001b[0;32mIn[2], line 2\u001b[0m\n\u001b[1;32m      1\u001b[0m marks \u001b[38;5;241m=\u001b[39m \u001b[38;5;241m10000\u001b[39m\n\u001b[0;32m----> 2\u001b[0m a \u001b[38;5;241m=\u001b[39m \u001b[43mmarks\u001b[49m\u001b[43m \u001b[49m\u001b[38;5;241;43m/\u001b[39;49m\u001b[43m \u001b[49m\u001b[38;5;241;43m0\u001b[39;49m\n\u001b[1;32m      3\u001b[0m \u001b[38;5;28mprint\u001b[39m(a)\n",
      "\u001b[0;31mZeroDivisionError\u001b[0m: division by zero"
     ]
    }
   ],
   "source": [
    "marks = 10000\n",
    "a = marks / 0\n",
    "print(a)"
   ]
  },
  {
   "cell_type": "raw",
   "id": "822f5323-2f1a-4673-abc9-80ee795d53ab",
   "metadata": {},
   "source": [
    "Q2. What happens when an exception is not handled? Explain with an example.\n",
    "\n",
    "Ans-> If an exception is not caught (with a catch block), the runtime system will abort the program (i.e. crash) and an exception message will print to the console.\n",
    "\n",
    "the program terminates abruptly and the code past the line that caused the exception will not get executed\n",
    "\n",
    "example : \n",
    "\n",
    "a = 10\n",
    "b=0\n",
    "c=a/b\n",
    "print(a)\n",
    "\n",
    "this code will give a zero division error \n",
    "if this exception is not handled then we get an error and our left program will not execute.\n",
    "\n",
    "a = 10 \n",
    "while a>0:\n",
    "    a*=a\n",
    "    print(a)\n",
    "\n",
    "in this code we will not get any error but because of the infinite execution of the code it will result in the system crash."
   ]
  },
  {
   "cell_type": "raw",
   "id": "910ef113-d77c-40ef-b8e7-cb5c93654949",
   "metadata": {},
   "source": [
    "Q3) Which Python statements are used to catch and handle exveptions? Explain with an example.\n",
    "\n",
    "Ans-> Try and except statements are used to catch and handle exceptions in Python. Statements that can raise exceptions are kept inside the try clause and the statements that handle the exception are written inside except clause."
   ]
  },
  {
   "cell_type": "code",
   "execution_count": 4,
   "id": "9ff75319-71b0-49f9-9f3d-cd0e874b0514",
   "metadata": {},
   "outputs": [
    {
     "name": "stdin",
     "output_type": "stream",
     "text": [
      "a?  89\n",
      "b?  lkjsf\n"
     ]
    },
    {
     "name": "stdout",
     "output_type": "stream",
     "text": [
      "Wrong input only integers allowded\n"
     ]
    }
   ],
   "source": [
    "try : \n",
    "    a = int(input('a? '))\n",
    "    b = int(input(\"b? \"))\n",
    "    print(a+b)\n",
    "except:\n",
    "    print(\"Wrong input only integers allowded\")"
   ]
  },
  {
   "cell_type": "raw",
   "id": "2bee8f18-34b8-45a6-bd65-bb12b443e3e3",
   "metadata": {},
   "source": [
    "Q4) Explain with an example:\n",
    "\n",
    "a. try and else\n",
    "b. finally \n",
    "c.raise\n",
    "\n",
    "Ans-> a. try and else are in pair where else executes if try executes correctly."
   ]
  },
  {
   "cell_type": "code",
   "execution_count": 5,
   "id": "a298433f-9aa1-4b03-b3fa-400ef6c4592c",
   "metadata": {},
   "outputs": [
    {
     "name": "stdin",
     "output_type": "stream",
     "text": [
      "a?  56\n",
      "b?  678\n"
     ]
    },
    {
     "name": "stdout",
     "output_type": "stream",
     "text": [
      "734\n",
      "No Errors\n"
     ]
    }
   ],
   "source": [
    "try : \n",
    "    a = int(input('a? '))\n",
    "    b = int(input(\"b? \"))\n",
    "    print(a+b)\n",
    "except:\n",
    "    print(\"Wrong input only integers allowded\")\n",
    "else:\n",
    "    print(\"No Errors\")"
   ]
  },
  {
   "cell_type": "raw",
   "id": "d09a7083-7b58-4931-a749-cc6e9bf571a1",
   "metadata": {},
   "source": [
    "b. finally : this executes every time whether the code in try is true or false."
   ]
  },
  {
   "cell_type": "code",
   "execution_count": 7,
   "id": "f5f5ba40-1fd1-4726-8424-7dd03b5554e4",
   "metadata": {},
   "outputs": [
    {
     "name": "stdin",
     "output_type": "stream",
     "text": [
      "a?  56\n",
      "b?  57\n"
     ]
    },
    {
     "name": "stdout",
     "output_type": "stream",
     "text": [
      "113\n",
      "No Errors\n",
      "Code finished\n"
     ]
    }
   ],
   "source": [
    "try : \n",
    "    a = int(input('a? '))\n",
    "    b = int(input(\"b? \"))\n",
    "    print(a+b)\n",
    "except:\n",
    "    print(\"Wrong input only integers allowded\")\n",
    "else:\n",
    "    print(\"No Errors\")\n",
    "finally:\n",
    "    print('Code finished')"
   ]
  },
  {
   "cell_type": "raw",
   "id": "058a5d9d-30b4-4c99-a2dc-b6c5987c2238",
   "metadata": {},
   "source": [
    "c. The raise statement allows the programmer to force a specific exception to occur. The sole argument in raise indicates the exception to be raised. This must be either an exception instance or an exception class"
   ]
  },
  {
   "cell_type": "code",
   "execution_count": 6,
   "id": "9c41004c-082e-41e1-bbee-0c0907b7a879",
   "metadata": {},
   "outputs": [
    {
     "name": "stdout",
     "output_type": "stream",
     "text": [
      "An exception\n"
     ]
    },
    {
     "ename": "NameError",
     "evalue": "Hi there",
     "output_type": "error",
     "traceback": [
      "\u001b[0;31m---------------------------------------------------------------------------\u001b[0m",
      "\u001b[0;31mNameError\u001b[0m                                 Traceback (most recent call last)",
      "Cell \u001b[0;32mIn[6], line 2\u001b[0m\n\u001b[1;32m      1\u001b[0m \u001b[38;5;28;01mtry\u001b[39;00m: \n\u001b[0;32m----> 2\u001b[0m     \u001b[38;5;28;01mraise\u001b[39;00m \u001b[38;5;167;01mNameError\u001b[39;00m(\u001b[38;5;124m\"\u001b[39m\u001b[38;5;124mHi there\u001b[39m\u001b[38;5;124m\"\u001b[39m)  \u001b[38;5;66;03m# Raise Error\u001b[39;00m\n\u001b[1;32m      3\u001b[0m \u001b[38;5;28;01mexcept\u001b[39;00m \u001b[38;5;167;01mNameError\u001b[39;00m:\n\u001b[1;32m      4\u001b[0m     \u001b[38;5;28mprint\u001b[39m (\u001b[38;5;124m\"\u001b[39m\u001b[38;5;124mAn exception\u001b[39m\u001b[38;5;124m\"\u001b[39m)\n",
      "\u001b[0;31mNameError\u001b[0m: Hi there"
     ]
    }
   ],
   "source": [
    "try: \n",
    "    raise NameError(\"Hi there\")  # Raise Error\n",
    "except NameError:\n",
    "    print (\"An exception\")\n",
    "    raise"
   ]
  },
  {
   "cell_type": "raw",
   "id": "ec4a03bf-1632-4365-9e1b-8e31534be8ef",
   "metadata": {},
   "source": [
    "Q5) What are custom exceptions in python? Why do we need custom exceptions? Explain with an example.\n",
    "\n",
    "Ans-> custom exceptions are the exceptions that are derived by the programmer itself\n",
    "\n",
    "sometimes we may need to create our own custom exceptions that serve our purpose.\n",
    "\n",
    "Sometimes based on project requirement, a programmer needs to create his own exceptions and raise explicitly for corresponding scenarios. Such types of exceptions are called customized Exceptions or Programmatic Exceptions.\n",
    "\n",
    "These custom exceptions are named as user-defined exceptions. Here the user-defined exceptions can be built defined by using a class declared for it. These customer exceptions are declared specifically to satisfy user necessities. All the user-defined exceptions will be derived from the user class.\n",
    "\n",
    "A user-defined exception handling process needs to have a user-defined class representing the exception to be created. This user-defined exception class needs to be inheriting the exception class either directly or indirectly. So based on the inherited class this formulates into a user based exception."
   ]
  },
  {
   "cell_type": "raw",
   "id": "22e1b31c-867b-4d63-9cfe-644164a97421",
   "metadata": {},
   "source": [
    "Q6) Create a custom exception class. use this class to handle an exception."
   ]
  },
  {
   "cell_type": "code",
   "execution_count": 10,
   "id": "c03c4771-b9b1-4509-a5fc-7bf703871fad",
   "metadata": {},
   "outputs": [
    {
     "name": "stdin",
     "output_type": "stream",
     "text": [
      "Enter a number:  17\n"
     ]
    },
    {
     "name": "stdout",
     "output_type": "stream",
     "text": [
      "Exception occurred: Invalid Age\n"
     ]
    }
   ],
   "source": [
    "class InvalidAgeException(Exception):\n",
    "    \"Raised when the input value is less than 18\"\n",
    "    pass\n",
    "\n",
    "number = 18\n",
    "\n",
    "try:\n",
    "    input_num = int(input(\"Enter a number: \"))\n",
    "    if input_num < number:\n",
    "        raise InvalidAgeException\n",
    "    else:\n",
    "        print(\"Eligible to Vote\")\n",
    "        \n",
    "except InvalidAgeException:\n",
    "    print(\"Exception occurred: Invalid Age\")"
   ]
  }
 ],
 "metadata": {
  "kernelspec": {
   "display_name": "Python 3 (ipykernel)",
   "language": "python",
   "name": "python3"
  },
  "language_info": {
   "codemirror_mode": {
    "name": "ipython",
    "version": 3
   },
   "file_extension": ".py",
   "mimetype": "text/x-python",
   "name": "python",
   "nbconvert_exporter": "python",
   "pygments_lexer": "ipython3",
   "version": "3.10.8"
  }
 },
 "nbformat": 4,
 "nbformat_minor": 5
}
