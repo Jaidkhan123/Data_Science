{
 "cells": [
  {
   "cell_type": "markdown",
   "id": "51223eb5-2033-430f-8ec2-3d08c8bd3058",
   "metadata": {},
   "source": [
    "Q1. What is an Exception in python? Write the difference between Exception and sytax errors.\n",
    "\n",
    "Ans-> exceptions are raised when some internal events occur which changes the normal flow of the program.\n",
    "Two types of Error occurs in python.\n",
    "\n",
    "Syntax errors\n",
    "Logical errors (Exceptions)\n",
    "\n",
    "When the proper syntax of the language is not followed then a syntax error is thrown."
   ]
  },
  {
   "cell_type": "code",
   "execution_count": 12,
   "id": "3ad288f9-aad7-48d7-a1c0-a1e9971f621c",
   "metadata": {},
   "outputs": [
    {
     "ename": "SyntaxError",
     "evalue": "expected ':' (2921387308.py, line 2)",
     "output_type": "error",
     "traceback": [
      "\u001b[0;36m  Cell \u001b[0;32mIn[12], line 2\u001b[0;36m\u001b[0m\n\u001b[0;31m    if(amount>2999)\u001b[0m\n\u001b[0m                   ^\u001b[0m\n\u001b[0;31mSyntaxError\u001b[0m\u001b[0;31m:\u001b[0m expected ':'\n"
     ]
    }
   ],
   "source": [
    "amount = 10000\n",
    "if(amount>2999)\n",
    "     print(\"You are eligible to purchase Dsa Self Paced\")"
   ]
  },
  {
   "cell_type": "markdown",
   "id": "7e55820a-d929-413f-9df9-9e2360c0537d",
   "metadata": {},
   "source": [
    "When in the runtime an error occurs after passing the syntax test is called exception or logical type."
   ]
  },
  {
   "cell_type": "code",
   "execution_count": 2,
   "id": "c25bfdc2-67a4-4840-bbd0-5361794a73c5",
   "metadata": {},
   "outputs": [
    {
     "ename": "ZeroDivisionError",
     "evalue": "division by zero",
     "output_type": "error",
     "traceback": [
      "\u001b[0;31m---------------------------------------------------------------------------\u001b[0m",
      "\u001b[0;31mZeroDivisionError\u001b[0m                         Traceback (most recent call last)",
      "Cell \u001b[0;32mIn[2], line 2\u001b[0m\n\u001b[1;32m      1\u001b[0m marks \u001b[38;5;241m=\u001b[39m \u001b[38;5;241m10000\u001b[39m\n\u001b[0;32m----> 2\u001b[0m a \u001b[38;5;241m=\u001b[39m \u001b[43mmarks\u001b[49m\u001b[43m \u001b[49m\u001b[38;5;241;43m/\u001b[39;49m\u001b[43m \u001b[49m\u001b[38;5;241;43m0\u001b[39;49m\n\u001b[1;32m      3\u001b[0m \u001b[38;5;28mprint\u001b[39m(a)\n",
      "\u001b[0;31mZeroDivisionError\u001b[0m: division by zero"
     ]
    }
   ],
   "source": [
    "marks = 10000\n",
    "a = marks / 0\n",
    "print(a)"
   ]
  },
  {
   "cell_type": "markdown",
   "id": "9938deb3-47a0-4df3-8884-17c1476fb2e5",
   "metadata": {},
   "source": [
    "Q2. What happens when an exception is not handled? Explain with an example.\n",
    "\n",
    "Ans-> If an exception is not caught (with a catch block), the runtime system will abort the program (i.e. crash) and an exception message will print to the console.\n",
    "\n",
    "the program terminates abruptly and the code past the line that caused the exception will not get executed\n",
    "\n",
    "example : \n",
    "\n",
    "a = 10\n",
    "\n",
    "b=0\n",
    "\n",
    "c=a/b\n",
    "\n",
    "print(a)\n",
    "\n",
    "this code will give a zero division error \n",
    "if this exception is not handled then we get an error and our left program will not execute.\n",
    "\n",
    "a = 10 \n",
    "\n",
    "while a>0:\n",
    "\n",
    "    a*=a\n",
    "    \n",
    "    print(a)\n",
    "\n",
    "in this code we will not get any error but because of the infinite execution of the code it will result in the system crash."
   ]
  },
  {
   "cell_type": "markdown",
   "id": "3d36ed53-9c87-4a56-ac54-b245472aef00",
   "metadata": {},
   "source": [
    "Q3) Which Python statements are used to catch and handle exveptions? Explain with an example.\n",
    "\n",
    "Ans-> Try and except statements are used to catch and handle exceptions in Python. Statements that can raise exceptions are kept inside the try clause and the statements that handle the exception are written inside except clause."
   ]
  },
  {
   "cell_type": "code",
   "execution_count": 4,
   "id": "9ff75319-71b0-49f9-9f3d-cd0e874b0514",
   "metadata": {},
   "outputs": [
    {
     "name": "stdin",
     "output_type": "stream",
     "text": [
      "a?  89\n",
      "b?  lkjsf\n"
     ]
    },
    {
     "name": "stdout",
     "output_type": "stream",
     "text": [
      "Wrong input only integers allowded\n"
     ]
    }
   ],
   "source": [
    "try : \n",
    "    a = int(input('a? '))\n",
    "    b = int(input(\"b? \"))\n",
    "    print(a+b)\n",
    "except:\n",
    "    print(\"Wrong input only integers allowded\")"
   ]
  },
  {
   "cell_type": "markdown",
   "id": "ba79f3bb-7309-42fb-bbc4-7fa42cad570e",
   "metadata": {},
   "source": [
    "Q4) Explain with an example:\n",
    "\n",
    "a. try and else\n",
    "\n",
    "b. finally \n",
    "\n",
    "c.raise\n",
    "\n",
    "Ans-> a. try and else are in pair where else executes if try executes correctly."
   ]
  },
  {
   "cell_type": "code",
   "execution_count": 5,
   "id": "a298433f-9aa1-4b03-b3fa-400ef6c4592c",
   "metadata": {},
   "outputs": [
    {
     "name": "stdin",
     "output_type": "stream",
     "text": [
      "a?  56\n",
      "b?  678\n"
     ]
    },
    {
     "name": "stdout",
     "output_type": "stream",
     "text": [
      "734\n",
      "No Errors\n"
     ]
    }
   ],
   "source": [
    "try : \n",
    "    a = int(input('a? '))\n",
    "    b = int(input(\"b? \"))\n",
    "    print(a+b)\n",
    "except:\n",
    "    print(\"Wrong input only integers allowded\")\n",
    "else:\n",
    "    print(\"No Errors\")"
   ]
  },
  {
   "cell_type": "markdown",
   "id": "19e3b0dc-dda1-418e-8b1a-66abe0fba218",
   "metadata": {},
   "source": [
    "b. finally : this executes every time whether the code in try is true or false."
   ]
  },
  {
   "cell_type": "code",
   "execution_count": 7,
   "id": "f5f5ba40-1fd1-4726-8424-7dd03b5554e4",
   "metadata": {},
   "outputs": [
    {
     "name": "stdin",
     "output_type": "stream",
     "text": [
      "a?  56\n",
      "b?  57\n"
     ]
    },
    {
     "name": "stdout",
     "output_type": "stream",
     "text": [
      "113\n",
      "No Errors\n",
      "Code finished\n"
     ]
    }
   ],
   "source": [
    "try : \n",
    "    a = int(input('a? '))\n",
    "    b = int(input(\"b? \"))\n",
    "    print(a+b)\n",
    "except:\n",
    "    print(\"Wrong input only integers allowded\")\n",
    "else:\n",
    "    print(\"No Errors\")\n",
    "finally:\n",
    "    print('Code finished')"
   ]
  },
  {
   "cell_type": "markdown",
   "id": "01ed4b11-df50-40e4-b98f-a10ee0e86a59",
   "metadata": {},
   "source": [
    "c. The raise statement allows the programmer to force a specific exception to occur. The sole argument in raise indicates the exception to be raised. This must be either an exception instance or an exception class"
   ]
  },
  {
   "cell_type": "code",
   "execution_count": 6,
   "id": "9c41004c-082e-41e1-bbee-0c0907b7a879",
   "metadata": {},
   "outputs": [
    {
     "name": "stdout",
     "output_type": "stream",
     "text": [
      "An exception\n"
     ]
    },
    {
     "ename": "NameError",
     "evalue": "Hi there",
     "output_type": "error",
     "traceback": [
      "\u001b[0;31m---------------------------------------------------------------------------\u001b[0m",
      "\u001b[0;31mNameError\u001b[0m                                 Traceback (most recent call last)",
      "Cell \u001b[0;32mIn[6], line 2\u001b[0m\n\u001b[1;32m      1\u001b[0m \u001b[38;5;28;01mtry\u001b[39;00m: \n\u001b[0;32m----> 2\u001b[0m     \u001b[38;5;28;01mraise\u001b[39;00m \u001b[38;5;167;01mNameError\u001b[39;00m(\u001b[38;5;124m\"\u001b[39m\u001b[38;5;124mHi there\u001b[39m\u001b[38;5;124m\"\u001b[39m)  \u001b[38;5;66;03m# Raise Error\u001b[39;00m\n\u001b[1;32m      3\u001b[0m \u001b[38;5;28;01mexcept\u001b[39;00m \u001b[38;5;167;01mNameError\u001b[39;00m:\n\u001b[1;32m      4\u001b[0m     \u001b[38;5;28mprint\u001b[39m (\u001b[38;5;124m\"\u001b[39m\u001b[38;5;124mAn exception\u001b[39m\u001b[38;5;124m\"\u001b[39m)\n",
      "\u001b[0;31mNameError\u001b[0m: Hi there"
     ]
    }
   ],
   "source": [
    "try: \n",
    "    raise NameError(\"Hi there\")  # Raise Error\n",
    "except NameError:\n",
    "    print (\"An exception\")\n",
    "    raise"
   ]
  },
  {
   "cell_type": "markdown",
   "id": "74ea51cb-4698-49d0-aa0a-86e83c08fc8f",
   "metadata": {},
   "source": [
    "Q5) What are custom exceptions in python? Why do we need custom exceptions? Explain with an example.\n",
    "\n",
    "Ans-> custom exceptions are the exceptions that are derived by the programmer itself\n",
    "\n",
    "sometimes we may need to create our own custom exceptions that serve our purpose.\n",
    "\n",
    "Sometimes based on project requirement, a programmer needs to create his own exceptions and raise explicitly for corresponding scenarios. Such types of exceptions are called customized Exceptions or Programmatic Exceptions.\n",
    "\n",
    "These custom exceptions are named as user-defined exceptions. Here the user-defined exceptions can be built defined by using a class declared for it. These customer exceptions are declared specifically to satisfy user necessities. All the user-defined exceptions will be derived from the user class.\n",
    "\n",
    "A user-defined exception handling process needs to have a user-defined class representing the exception to be created. This user-defined exception class needs to be inheriting the exception class either directly or indirectly. So based on the inherited class this formulates into a user based exception."
   ]
  },
  {
   "cell_type": "markdown",
   "id": "cd422074-4ef4-4fd2-9c5d-c35443433111",
   "metadata": {},
   "source": [
    "Q6) Create a custom exception class. use this class to handle an exception."
   ]
  },
  {
   "cell_type": "code",
   "execution_count": 10,
   "id": "c03c4771-b9b1-4509-a5fc-7bf703871fad",
   "metadata": {},
   "outputs": [
    {
     "name": "stdin",
     "output_type": "stream",
     "text": [
      "Enter a number:  17\n"
     ]
    },
    {
     "name": "stdout",
     "output_type": "stream",
     "text": [
      "Exception occurred: Invalid Age\n"
     ]
    }
   ],
   "source": [
    "class InvalidAgeException(Exception):\n",
    "    \"Raised when the input value is less than 18\"\n",
    "    pass\n",
    "\n",
    "number = 18\n",
    "\n",
    "try:\n",
    "    input_num = int(input(\"Enter a number: \"))\n",
    "    if input_num < number:\n",
    "        raise InvalidAgeException\n",
    "    else:\n",
    "        print(\"Eligible to Vote\")\n",
    "        \n",
    "except InvalidAgeException:\n",
    "    print(\"Exception occurred: Invalid Age\")"
   ]
  }
 ],
 "metadata": {
  "kernelspec": {
   "display_name": "Python 3 (ipykernel)",
   "language": "python",
   "name": "python3"
  },
  "language_info": {
   "codemirror_mode": {
    "name": "ipython",
    "version": 3
   },
   "file_extension": ".py",
   "mimetype": "text/x-python",
   "name": "python",
   "nbconvert_exporter": "python",
   "pygments_lexer": "ipython3",
   "version": "3.10.8"
  }
 },
 "nbformat": 4,
 "nbformat_minor": 5
}
