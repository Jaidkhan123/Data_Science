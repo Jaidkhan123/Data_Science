{
 "cells": [
  {
   "cell_type": "raw",
   "id": "3ce9622d-238c-4028-81fc-2bc48b2161fc",
   "metadata": {},
   "source": [
    "Q1. Which function is used to open a file? What are the different modes of opening a file? Explain each mode\n",
    "of file opening.\n",
    "\n",
    "Ans-> The key function for working with files in Python is the open() function.\n",
    "the open()function is used to open the file.\n",
    "The open() function takes two parameters; filename, and mode.\n",
    "\n",
    "different modes to open a file->\n",
    "1) r: open an existing file for a read operation.\n",
    "2) w: open an existing file for a write operation. If the file already contains some data then it will be overridden but if the file is not present then it creates the file as well.\n",
    "3) a:  open an existing file for append operation. It won’t override existing data.\n",
    "4) r+:  To read and write data into the file. The previous data in the file will be overridden.\n",
    "5) w+: To write and read data. It will override existing data.\n",
    "6) a+: To append and read data from the file. It won’t override existing data."
   ]
  },
  {
   "cell_type": "raw",
   "id": "ac2f5d92-486e-4d73-b861-af3e6a01de28",
   "metadata": {},
   "source": [
    "Q2. Why close() function is used? Why is it important to close a file?\n",
    "\n",
    "Ans-> We need to make sure that the file will be closed properly after completing the file operation. We use close() function to close a file.\n",
    "\n",
    "it's important to close files in Python. Because files are limited resources managed by the operating system, making sure files are closed after use will protect against hard-to-debug issues like running out of file handles or experiencing corrupted data.\n",
    "\n",
    "Python doesn't flush the buffer—that is, write data to the file—until it's sure you're done writing, and one way to do this is to close the file. If you write to a file without closing, the data won't make it to the target file."
   ]
  },
  {
   "cell_type": "raw",
   "id": "833efe70-ceac-4e6c-8ea3-57e27918cfcb",
   "metadata": {},
   "source": [
    "Q3. Write a python program to create a text file. Write ‘I want to become a Data Scientist’ in that file. Then\n",
    "close the file. Open this file and read the content of the file.\n",
    "\n",
    "Ans-> "
   ]
  },
  {
   "cell_type": "code",
   "execution_count": 11,
   "id": "118cd74d-8e7a-4640-b672-f13e22b330db",
   "metadata": {},
   "outputs": [
    {
     "name": "stdout",
     "output_type": "stream",
     "text": [
      "I want to become a data scientist\n"
     ]
    }
   ],
   "source": [
    "f = open(\"text.txt\",'w')\n",
    "content = f.write(\"I want to become a data scientist\")\n",
    "f.close()\n",
    "\n",
    "f = open(\"text.txt\",'r')\n",
    "content = f.read()\n",
    "print(content)\n",
    "f.close()"
   ]
  },
  {
   "cell_type": "raw",
   "id": "954994a7-121b-43c0-b44b-1bad49eb5e21",
   "metadata": {},
   "source": [
    "Q4. Explain the following with python code: read(), readline() and readlines().\n",
    "\n",
    "Ans-> read() : Returns the read bytes in form of a string. Reads n bytes, if no n specified, reads the entire file.\n",
    "\n",
    "readline() : Reads a line of the file and returns in form of a string.For specified n, reads at most n bytes. However, does not reads more than one line, even if n exceeds the length of the line.\n",
    "\n",
    "readlines() : Reads all the lines and return them as each line a string element in a list."
   ]
  },
  {
   "cell_type": "code",
   "execution_count": 12,
   "id": "03f4f1dc-d650-4635-a57b-6f2c6c6dca81",
   "metadata": {},
   "outputs": [
    {
     "name": "stdout",
     "output_type": "stream",
     "text": [
      "Output of Read function is \n",
      "Dream\n",
      "Bugatti\n",
      "In\n",
      "Delhi \n",
      "\n",
      "\n",
      "Output of Readline function is \n",
      "Dream\n",
      "\n",
      "\n",
      "Output of Read(9) function is \n",
      "Dream\n",
      "Bug\n",
      "\n",
      "Output of Readline(9) function is \n",
      "Dream\n",
      "\n",
      "\n",
      "Output of Readlines function is \n",
      "['Dream\\n', 'Bugatti\\n', 'In\\n', 'Delhi \\n']\n",
      "\n"
     ]
    }
   ],
   "source": [
    "file1 = open(\"text.txt\", \"w\")\n",
    "L = [\"Bugatti\\n\",\"In\\n\", \"Delhi \\n\"]\n",
    " \n",
    "\n",
    "file1.write(\"Dream\\n\")\n",
    "file1.writelines(L)\n",
    "file1.close()  \n",
    " \n",
    "file1 = open(\"text.txt\", \"r+\")\n",
    " \n",
    "print(\"Output of Read function is \")\n",
    "print(file1.read())\n",
    "print()\n",
    "\n",
    "file1.seek(0)\n",
    " \n",
    "print(\"Output of Readline function is \")\n",
    "print(file1.readline())\n",
    "print()\n",
    " \n",
    "file1.seek(0)\n",
    " \n",
    "print(\"Output of Read(9) function is \")\n",
    "print(file1.read(9))\n",
    "print()\n",
    " \n",
    "file1.seek(0)\n",
    " \n",
    "print(\"Output of Readline(9) function is \")\n",
    "print(file1.readline(9))\n",
    "print()\n",
    " \n",
    "file1.seek(0)\n",
    " \n",
    "print(\"Output of Readlines function is \")\n",
    "print(file1.readlines())\n",
    "print()\n",
    "file1.close()"
   ]
  },
  {
   "cell_type": "raw",
   "id": "82bbdea6-9961-445d-b431-1674b47b3b89",
   "metadata": {},
   "source": [
    "Q5. Explain why with statement is used with open(). What is the advantage of using with statement and\n",
    "open() together?\n",
    "\n",
    "Ans-> The with statement works with the open() function to open a file.\n",
    "Unlike open() where you have to close the file with the close() method, the with statement closes the file for you without you telling it to.\n",
    "\n",
    "This is because the with statement calls 2 built-in methods behind the scene – __enter()__ and __exit()__.\n",
    "\n",
    "The __exit()__ method closes the file when the operation you specify is done."
   ]
  },
  {
   "cell_type": "code",
   "execution_count": 14,
   "id": "783cf590-2ec3-4c80-b7e0-948e9d7ba84a",
   "metadata": {},
   "outputs": [
    {
     "name": "stdout",
     "output_type": "stream",
     "text": [
      "Hello world \n",
      "I hope you're doing well today \n",
      "This is a text file \n",
      "Have a nice time \n",
      "\n"
     ]
    }
   ],
   "source": [
    "with open(\"text.txt\", \"w\") as my_file:\n",
    "    my_file.write(\"Hello world \\n\")\n",
    "    my_file.write(\"I hope you're doing well today \\n\")\n",
    "    my_file.write(\"This is a text file \\n\")\n",
    "    my_file.write(\"Have a nice time \\n\")\n",
    "\n",
    "with open(\"hello.txt\") as my_file:\n",
    "    print(my_file.read())"
   ]
  },
  {
   "cell_type": "raw",
   "id": "a7a368d5-ce57-4841-82b1-ebf8b5c2f8f9",
   "metadata": {},
   "source": [
    "Q6. Explain the write() and writelines() functions. Give a suitable example.\n",
    "\n",
    "Ans->The write() function will write the content in the file without adding any extra characters.\n",
    "\n",
    "Python file method writelines() writes a sequence of strings to the file. The sequence can be any iterable object producing strings, typically a list of strings. There is no return value.\n",
    "\n",
    "The only difference between the write() and writelines() is that write() is used to write a string to an already opened file while writelines() method is used to write a list of strings in an opened file"
   ]
  },
  {
   "cell_type": "code",
   "execution_count": 19,
   "id": "933d154b-73df-437a-85dd-70910b46ae5a",
   "metadata": {},
   "outputs": [
    {
     "name": "stdout",
     "output_type": "stream",
     "text": [
      "Hello world \n",
      "I hope you're doing well today \n",
      "This is a text file \n",
      "Have a nice time \n",
      "\n",
      "Bugatti\n",
      "In\n",
      "Delhi \n",
      "\n"
     ]
    }
   ],
   "source": [
    "with open(\"text.txt\", \"w\") as my_file:\n",
    "    my_file.write(\"Hello world \\n\")\n",
    "    my_file.write(\"I hope you're doing well today \\n\")\n",
    "    my_file.write(\"This is a text file \\n\")\n",
    "    my_file.write(\"Have a nice time \\n\")\n",
    "\n",
    "with open(\"text.txt\") as my_file:\n",
    "    print(my_file.read())\n",
    "    \n",
    "with open(\"text.txt\", 'w') as my_file:\n",
    "    my_file.writelines([\"Bugatti\\n\",\"In\\n\", \"Delhi \\n\"])\n",
    "    \n",
    "with open(\"text.txt\") as my_file:\n",
    "    print(my_file.read())"
   ]
  }
 ],
 "metadata": {
  "kernelspec": {
   "display_name": "Python 3 (ipykernel)",
   "language": "python",
   "name": "python3"
  },
  "language_info": {
   "codemirror_mode": {
    "name": "ipython",
    "version": 3
   },
   "file_extension": ".py",
   "mimetype": "text/x-python",
   "name": "python",
   "nbconvert_exporter": "python",
   "pygments_lexer": "ipython3",
   "version": "3.10.8"
  }
 },
 "nbformat": 4,
 "nbformat_minor": 5
}
