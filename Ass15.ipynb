{
 "cells": [
  {
   "cell_type": "markdown",
   "id": "44bc344b-d65c-45a5-8cb4-c2ffcb6baf10",
   "metadata": {},
   "source": [
    "Q1. What is a database? Differentiate between SQL and NoSQL databases.\n",
    "\n",
    "Ans-> A database is information that is set up for easy access, management and updating. Computer databases typically store aggregations of data records or files that contain information, such as sales transactions, customer data, financials and product information.\n",
    "\n",
    "Databases are used for storing, maintaining and accessing any sort of data. They collect information on people, places or things. That information is gathered in one place so that it can be observed and analyzed. Databases can be thought of as an organized collection of information.\n",
    "\n",
    "difference between SQL and NOSQL :\n",
    "\n",
    "* SQL is primarily called RDBMS or Relational Databases, whereas NoSQL is a Non-relational or Distributed Database.\n",
    "\n",
    "* Comparing SQL vs NoSQL databases, SQL databases are table-based databases, whereas NoSQL databases can be document-based, key-value pairs, and graph databases.\n",
    "\n",
    "* SQL databases are vertically scalable, while NoSQL databases are horizontally scalable.\n",
    "\n",
    "* SQL databases have a predefined schema, whereas NoSQL databases use a dynamic schema for unstructured data.\n",
    "\n",
    "* Comparing NoSQL vs SQL performance, SQL requires specialized DB hardware for better performance while NoSQL uses commodity hardware."
   ]
  },
  {
   "cell_type": "markdown",
   "id": "bff00ab0-cc66-4e8c-b7ed-dba04f1d0e69",
   "metadata": {},
   "source": [
    "Q2. What is DDL? Explain why CREATE, DROP, ALTER, and TRUNCATE are used with an example.\n",
    "\n",
    "Ans-> Data Definition Language(DDL) is used to define database schema in DBMS.\n",
    "\n",
    "Data Definition Language(DDL) commands in DBMS are used to define the database objects. We can create, delete and alter tables using DDL commands. Since a database structure is designed by DDL commands, they are called Data Definition Languages (DDLs). They consist of commands such as CREATE, ALTER, TRUNCATE, and DROP.\n",
    "\n",
    "* Create : CREATE is a DDL command in DBMS that is used to create tables or databases. While creating a table, we specify table names, column names, datatypes of each column, and column sizes. If there are any integrity constraints or key constraints of the table like PRIMARY KEY, UNIQUE, NOT NULL, etc. we must specify them while creating it along with the column names and details."
   ]
  },
  {
   "cell_type": "markdown",
   "id": "ac8ae460-0ee6-4fe7-8bfc-0fcaf2d610be",
   "metadata": {
    "jupyter": {
     "outputs_hidden": true
    },
    "tags": []
   },
   "source": [
    "CREATE TABLE table_name\n",
    "\n",
    "(\n",
    "   \n",
    "   column1 datatype,\n",
    "   \n",
    "   column2 datatype,\n",
    "   \n",
    "   column3 datatype,\n",
    "   \n",
    ")"
   ]
  },
  {
   "cell_type": "markdown",
   "id": "d1e4e9dc-3c61-4c8f-a3b5-015cb18b290e",
   "metadata": {
    "tags": []
   },
   "source": [
    "* Drop : DROP is a DDL command used to delete an existing table completely from the database. This command deletes the table records along with their structure. The table and all its components are completely deleted and cannot be found again in the database."
   ]
  },
  {
   "cell_type": "markdown",
   "id": "337a5090-8171-4835-8b50-5f111abdacf7",
   "metadata": {},
   "source": [
    "DROP TABLE table_name;"
   ]
  },
  {
   "cell_type": "markdown",
   "id": "fc7c60a8-fa92-42dd-9302-6c5242c0af61",
   "metadata": {},
   "source": [
    "* Alter : ALTER is a DDL command used to change the structure of an existing database table. Using this command we can perform operations like adding a new column, removing any column, adding or removing integrity constraints, or changing the data type of the existing column on the existing table. ALTER command is used to modify the existing structure of the table."
   ]
  },
  {
   "cell_type": "markdown",
   "id": "17f1d7d6-a23a-4ab9-b079-023272eca231",
   "metadata": {},
   "source": [
    "ALTER TABLE table_name ADD column_name column-definition;"
   ]
  },
  {
   "cell_type": "markdown",
   "id": "348cfc6b-c11c-4f31-9e4e-4a26c9fb950d",
   "metadata": {},
   "source": [
    "* Truncate\n",
    "\n",
    "TRUNCATE is a DDL command used to delete all records from the table while keeping its structure intact. This command is used to get rid of all the records and free up the space being used by the table. However, the table's structure remains unchanged, including the column names and details. Thus, the table can be used to store new data in the future."
   ]
  },
  {
   "cell_type": "markdown",
   "id": "33b50279-778e-4593-89c9-7821f5dd0dba",
   "metadata": {},
   "source": [
    "TRUNCATE TABLE table_name;"
   ]
  },
  {
   "cell_type": "markdown",
   "id": "923c46f0-8277-4b9e-bb06-914d04349509",
   "metadata": {},
   "source": [
    "Q3. What is DML? Explain INSERT, UPDATE, and DELETE with an example.\n",
    "\n",
    "Ans-> A data manipulation language (DML) is a family of computer languages including commands permitting users to manipulate data in a database. This manipulation involves inserting data into database tables, retrieving existing data, deleting data from existing tables and modifying existing data. DML is mostly incorporated in SQL databases\n",
    "\n",
    "* INSERT INTO Command :\n",
    "\n",
    "This command can be used to insert data into a row of a table. INSERT INTO would insert the values that are mentioned in the ‘Student’ table below.\n",
    "\n",
    "Syntax:\n",
    "INSERT INTO NAME_OF_TABLE (1_column, 2_column, 3_column, …. N_column)\n",
    "\n",
    "VALUES (1_value, 2_value, 3_value, …. N_value);\n",
    "\n",
    "Or\n",
    "\n",
    "INSERT INTO NAME_OF_TABLE\n",
    "\n",
    "VALUES (1_value, 2_value, 3_value, …. N_value);\n",
    "\n",
    "Example:\n",
    "INSERT INTO Student(Stu_Name, DOB, Phone, Mail)\n",
    "\n",
    "VALUES(‘Phoebe’, ‘1998-05-26’, 7812865845, ‘user@xyz.com’);\n",
    "\n",
    "* UPDATE Command :\n",
    "\n",
    "This statement in SQL is used to update the data that is present in an existing table of a database. The UPDATE statement can be used to update single or multiple columns on the basis of our specific needs.\n",
    "\n",
    "Syntax:\n",
    "UPDATE name_of_table SET 1_coumn = 1_value, 2_coumn = 2_value, 3_coumn = 3_value, … , N_coumn = N_value\n",
    "\n",
    "WHERE condition;\n",
    "\n",
    "And here,\n",
    "\n",
    "name_of_table: name of the table\n",
    "\n",
    "1_column, 2_column, 3_column, …. N_column: name of the first, second, third, …. nth column.\n",
    "\n",
    "1_value, 2_value, 3_value, …. N_value: the new value for the first, second, third, …. nth column.\n",
    "\n",
    "condition: the condition used to select those rows for which the column values need to be updated.\n",
    "\n",
    "Example:\n",
    "UPDATE Student SET Phone = 9039462901 WHERE Stu_Name = ’Phoebe’;\n",
    "\n",
    "The WHERE clause in the preceding query is used to select the rows for which the columns need to be adjusted, and the SET statement has been used to assign new values to a particular column. If the WHERE clause is not used at all, then all of the rows’ columns will be modified. As a result, the WHERE clause is used to pick specific rows from the table.\n",
    "\n",
    "Thus, the example query would update the phone number of the student with the name ‘Phoebe’.\n",
    "\n",
    "* DELETE Command :\n",
    "\n",
    "The DELETE statement can be used in SQL to delete various records from a given table. On the basis of the condition that has been set in the WHERE clause, one can delete single or multiple records.\n",
    "\n",
    "Syntax:\n",
    "DELETE FROM name_of_table [WHERE condition];\n",
    "\n",
    "Example:\n",
    "DELETE FROM Student WHERE Stu_Name = ’Phoebe’;"
   ]
  },
  {
   "cell_type": "markdown",
   "id": "4db1e413-3f48-47f7-9982-b92d6b645c7f",
   "metadata": {},
   "source": [
    "Q4. What is DQL? Explain SELECT with an example.\n",
    "\n",
    "Ans-> The DQL statements can be used in order to query the data and information contained in schema objects. The goal of the DQL Commands is to return a schema relation on the basis of the query supplied to them.\n",
    "\n",
    "DQL is a portion of a SQL statement that allows you to get and organise data from a database.\n",
    "\n",
    "We can use the SELECT command to extract data from a database in order to perform actions on it. It is the same as the projection operation in relational algebra. The result of a SELECT statement on a table or collection of tables is compiled into a new temporary table, which is subsequently displayed or received by a program"
   ]
  },
  {
   "cell_type": "markdown",
   "id": "83540d3b-4b11-46e0-a47c-30cbd679199e",
   "metadata": {},
   "source": [
    "Syntax\n",
    "\n",
    "SELECT expression FROM table_x WHERE code_conditions;\n",
    "\n",
    "Example\n",
    "\n",
    "SELECT Stu_Name FROM Student WHERE Phone = 9039462908;\n",
    "\n",
    "The command given above would select the record from the table ‘Student’ where the phone number is ‘9039462908’."
   ]
  },
  {
   "cell_type": "markdown",
   "id": "56f44e9a-d117-47b6-b930-aa1656344404",
   "metadata": {},
   "source": [
    "Q5. Explain Primary Key and Foreign Key.\n",
    "\n",
    "Ans-> Primary Key: \n",
    "\n",
    "A primary key is used to ensure that data in the specific column is unique. A column cannot have NULL values. It is either an existing table column or a column that is specifically generated by the database according to a defined sequence. \n",
    "\n",
    "Example: \n",
    "\n",
    "STUD_NO, as well as STUD_PHONE both, are candidate keys for relation STUDENT but STUD_NO can be chosen as the primary key (only one out of many candidate keys). \n",
    "\n",
    "Foreign Key: \n",
    "\n",
    "A foreign key is a column or group of columns in a relational database table that provides a link between data in two tables. It is a column (or columns) that references a column (most often the primary key) of another table. \n",
    "\n",
    "Example: \n",
    "\n",
    "STUD_NO in STUDENT_COURSE is a foreign key to STUD_NO in STUDENT relation. "
   ]
  },
  {
   "cell_type": "markdown",
   "id": "ebd56c48-c729-44a1-83f6-7252ad3ae9e8",
   "metadata": {},
   "source": [
    "Q6. Write a python code to connect MySQL to python. Explain the cursor() and execute() method.\n",
    "\n",
    "Ans-> Python code to connect Mysql to python : "
   ]
  },
  {
   "cell_type": "markdown",
   "id": "4ac078ad-c8cf-4f9f-87cd-c99a9e373099",
   "metadata": {},
   "source": [
    "import mysql.connector\n",
    "\n",
    "mydb = mysql.connector.connect(\n",
    "\n",
    "  host=\"localhost\",\n",
    "  \n",
    "  user=\"abc\",\n",
    "  \n",
    "  password=\"password\"\n",
    "  \n",
    ")"
   ]
  },
  {
   "cell_type": "markdown",
   "id": "2783f4e0-2195-4811-9579-509fac87f507",
   "metadata": {},
   "source": [
    "* cursor() :\n",
    "\n",
    "The MySQLCursor of mysql-connector-python (and similar libraries) is used to execute statements to communicate with the MySQL database.\n",
    "\n",
    "Using the methods of it you can execute SQL statements, fetch data from the result sets, call procedures.\n",
    "\n",
    "You can create Cursor object using the cursor() method of the Connection object/class.\n",
    "\n",
    "* execute() : \n",
    "\n",
    "This method accepts a MySQL query as a parameter and executes the given query.\n",
    "\n",
    "example : cursor.execute(\"create table example(title, isbn)\")"
   ]
  },
  {
   "cell_type": "markdown",
   "id": "7b2b0e13-875e-4136-a6c0-dae4e0a2fb60",
   "metadata": {},
   "source": [
    "Q7. Give the order of execution of SQL clauses in an SQL query.\n",
    "\n",
    "Ans-> The SQL order of execution defines the order in which the clauses of a query are evaluated. Some of the most common query challenges people run into could be easily avoided with a clearer understanding of the SQL order of execution, sometimes called the SQL order of operations. Understanding SQL query order can help you diagnose why a query won’t run, and even more frequently will help you optimize your queries to run faster.\n",
    "\n",
    "1) from : SQL’s from clause selects and joins your tables and is the first executed part of a query. This means that in queries with joins, the join is the first thing to happen. \n",
    "\n",
    "2) where : The where clause is used to limit the now-joined data by the values in your table’s columns. This can be used with any data type, including numbers, strings, or dates.\n",
    "\n",
    "3) group by : Group by collapses fields of the result set into their distinct values. This clause is used with aggregations such as sum() or count() to show one value per grouped field or combination of fields. \n",
    "\n",
    "4) having : If the query has a GROUP BY clause, then the constraints in the HAVING clause are then applied to the grouped rows, discard the grouped rows that don't satisfy the constraint. Like the WHERE clause, aliases are also not accessible from this step in most databases.\n",
    "\n",
    "5) select : Any expressions in the SELECT part of the query are finally computed.\n",
    "\n",
    "6) order by : If an order is specified by the ORDER BY clause, the rows are then sorted by the specified data in either ascending or descending order. Since all the expressions in the SELECT part of the query have been computed, you can reference aliases in this clause.\n",
    "\n",
    "7) limit : Finally, the rows that fall outside the range specified by the LIMIT and OFFSET are discarded, leaving the final set of rows to be returned from the query."
   ]
  }
 ],
 "metadata": {
  "kernelspec": {
   "display_name": "Python 3 (ipykernel)",
   "language": "python",
   "name": "python3"
  },
  "language_info": {
   "codemirror_mode": {
    "name": "ipython",
    "version": 3
   },
   "file_extension": ".py",
   "mimetype": "text/x-python",
   "name": "python",
   "nbconvert_exporter": "python",
   "pygments_lexer": "ipython3",
   "version": "3.10.8"
  }
 },
 "nbformat": 4,
 "nbformat_minor": 5
}
