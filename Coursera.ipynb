{
 "cells": [
  {
   "cell_type": "markdown",
   "id": "c998be06",
   "metadata": {},
   "source": [
    "# Tools for Data Science"
   ]
  },
  {
   "cell_type": "markdown",
   "id": "529cbeb4",
   "metadata": {},
   "source": [
    "In this notebook, Tools for data science are summarized."
   ]
  },
  {
   "cell_type": "markdown",
   "id": "99b05ce4",
   "metadata": {},
   "source": [
    "Some of the popular languages that Data Scientists use are: \n",
    "1.Python \n",
    "2.Julia \n",
    "3.R"
   ]
  },
  {
   "cell_type": "markdown",
   "id": "734082ec",
   "metadata": {},
   "source": [
    "Some of the commonly used libraries used by Data Scientists include: \n",
    "1.Numpy \n",
    "2.Pandas \n",
    "3.Tensorflow"
   ]
  },
  {
   "cell_type": "markdown",
   "id": "c5504e02",
   "metadata": {},
   "source": [
    "| Tool | Category | Description |\n",
    "|---|---|---|\n",
    "| **Python** | Programming language | A general-purpose programming language that is widely used for data science. It is known for its simplicity, flexibility, and large community of users and developers. |\n",
    "| **R** | Programming language | A programming language and software environment for statistical computing and graphics. It is widely used in academia and industry for data analysis, visualization, and machine learning. |\n",
    "| **SAS** | Statistical software suite | A statistical software suite that provides a wide range of tools for data analysis, visualization, and machine learning. SAS is known for its powerful statistical capabilities and ease of use. |\n",
    "| **Apache Hadoop** | Big data processing framework | An open-source software framework for distributed storage and processing of large data sets on clusters of commodity hardware. |\n",
    "| **Apache Spark** | Unified analytics engine | A unified analytics engine for large-scale data processing. Spark can be used for a variety of tasks, including batch processing, stream processing, machine learning, and graph processing. |\n",
    "| **Tableau** | Data visualization tool | A data visualization tool that allows users to create interactive charts and dashboards from data. Tableau is known for its ease of use and powerful visualization capabilities. |\n",
    "| **TensorFlow** | Machine learning framework | An open-source software library for numerical computation using data flow graphs. TensorFlow is widely used for machine learning and deep learning applications. |\n",
    "| **Scikit-learn** | Machine learning library | An open-source machine learning library for Python. Scikit-learn provides a wide range of machine learning algorithms, including classification, regression, clustering, and dimensionality reduction. |\n",
    "| **Pandas** | Data analysis and manipulation library | An open-source Python library for data analysis and manipulation. Pandas provides high-performance, easy-to-use data structures and data analysis tools. |\n",
    "| **Matplotlib** | Data visualization library | An open-source Python library for data visualization. Matplotlib provides a wide range of plotting functions to create high-quality charts and graphs. |\n",
    "| **Jupyter Notebook** | Interactive development environment | An interactive development environment for creating and sharing documents that contain live code, equations, visualizations, and narrative text. Jupyter Notebook is widely used by data scientists for data exploration and analysis. |"
   ]
  },
  {
   "cell_type": "markdown",
   "id": "9d02e4eb",
   "metadata": {},
   "source": [
    "## Arithmetic Expression Examples\n",
    "\n",
    "Arithmetic expressions are combinations of numbers, variables, and arithmetic operators. They are used to perform basic arithmetic operations such as addition, subtraction, multiplication, division, and exponentiation.\n",
    "\n",
    "Here are some examples of arithmetic expressions:\n",
    "\n",
    "* `2 + 3`\n",
    "* `5 - 4`\n",
    "* `7 * 6`\n",
    "* `10 / 2`\n",
    "* `2 ** 3`\n",
    "* `x + y`\n",
    "* `a - b`\n",
    "* `c * d`\n",
    "* `e / f`\n",
    "* `g ** h`\n",
    "\n",
    "Arithmetic expressions can also be more complex, involving multiple operators and parentheses. For example:\n",
    "\n",
    "* `(2 + 3) * 4`\n",
    "* `(5 - 4) / 2`\n",
    "* `a * (b + c)`\n",
    "* `x ** (y + z)`"
   ]
  },
  {
   "cell_type": "code",
   "execution_count": 2,
   "id": "2c985420",
   "metadata": {},
   "outputs": [
    {
     "name": "stdout",
     "output_type": "stream",
     "text": [
      "60\n"
     ]
    }
   ],
   "source": [
    "# Multiply and add numbers\n",
    "a = 10\n",
    "b = 5\n",
    "c = a * b + 10\n",
    "\n",
    "# Print the result\n",
    "print(c)"
   ]
  },
  {
   "cell_type": "code",
   "execution_count": 8,
   "id": "7f76d34b",
   "metadata": {},
   "outputs": [
    {
     "name": "stdout",
     "output_type": "stream",
     "text": [
      "1.5 hr\n"
     ]
    }
   ],
   "source": [
    "# Convert minutes to hours\n",
    "def convert_minutes_to_hours(minutes):\n",
    "  \"\"\"Converts minutes to hours.\n",
    "\n",
    "  Args:\n",
    "    minutes: The number of minutes to convert.\n",
    "\n",
    "  Returns:\n",
    "    The number of hours converted from minutes.\n",
    "  \"\"\"\n",
    "  hours = minutes / 60\n",
    "  return hours\n",
    "\n",
    "# Print the result\n",
    "print(convert_minutes_to_hours(90),\"hr\")"
   ]
  },
  {
   "cell_type": "markdown",
   "id": "dbad83d3",
   "metadata": {},
   "source": [
    "Objectives :\n",
    "\n",
    "* List popular languages of Data Science \n",
    "* List popular libraries for Data Science\n",
    "* List of well known Data Science Tools\n",
    "* How to provide comments in the code "
   ]
  },
  {
   "cell_type": "markdown",
   "id": "24d2a7c9",
   "metadata": {},
   "source": [
    "Author(s)\n",
    "\n",
    "LIU XIAOQUAN"
   ]
  },
  {
   "cell_type": "code",
   "execution_count": null,
   "id": "73263497",
   "metadata": {},
   "outputs": [],
   "source": []
  }
 ],
 "metadata": {
  "kernelspec": {
   "display_name": "Python 3 (ipykernel)",
   "language": "python",
   "name": "python3"
  },
  "language_info": {
   "codemirror_mode": {
    "name": "ipython",
    "version": 3
   },
   "file_extension": ".py",
   "mimetype": "text/x-python",
   "name": "python",
   "nbconvert_exporter": "python",
   "pygments_lexer": "ipython3",
   "version": "3.9.13"
  }
 },
 "nbformat": 4,
 "nbformat_minor": 5
}
