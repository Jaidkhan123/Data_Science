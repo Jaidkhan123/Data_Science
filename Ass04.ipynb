{
 "cells": [
  {
   "cell_type": "markdown",
   "id": "fd45f951-94df-4eed-9352-bad680ce0656",
   "metadata": {},
   "source": [
    "Q1. Which keyword is used to create a function? Create a function to return a list of odd numbers in the\n",
    "range of 1 to 25.\n",
    "\n",
    "Ans-> def keyword is used to create a function.\n"
   ]
  },
  {
   "cell_type": "code",
   "execution_count": 1,
   "id": "37992541-cdad-40d1-bc96-0e5e9cd0f790",
   "metadata": {},
   "outputs": [
    {
     "name": "stdout",
     "output_type": "stream",
     "text": [
      "[1, 3, 5, 7, 9, 11, 13, 15, 17, 19, 21, 23, 25]\n"
     ]
    }
   ],
   "source": [
    "def odd(a,b):\n",
    "    l = []\n",
    "    for i in range(a,b+1):\n",
    "        if i % 2 != 0:\n",
    "            l.append(i)\n",
    "    print(l)\n",
    "odd(1,25)"
   ]
  },
  {
   "cell_type": "markdown",
   "id": "8a5354ce-12fc-4cca-972b-a65f1bcc8399",
   "metadata": {},
   "source": [
    "Q2. Why *args and **kwargs is used in some functions? Create a function each for *args and **kwargs\n",
    "to demonstrate their use.\n",
    "\n",
    "Ans-> *args passes variable number of non-keyworded arguments and on which operation of the tuple can be performed.\n",
    "\n",
    "      **kwargs passes variable number of keyword arguments dictionary to function on which operation of a dictionary can be performed.\n"
   ]
  },
  {
   "cell_type": "code",
   "execution_count": 2,
   "id": "5d5759b3-f277-4712-943c-219bd8b64b6e",
   "metadata": {},
   "outputs": [
    {
     "name": "stdout",
     "output_type": "stream",
     "text": [
      "vilakshan\n",
      "jaid\n",
      "leeza\n",
      "Kanishka\n",
      "Jaid Leeza\n",
      "Vilakshan Single\n"
     ]
    }
   ],
   "source": [
    "def funargs(n, *args , **kwargs):\n",
    "    print(n)\n",
    "    for item in args:\n",
    "        print(item)\n",
    "    for key, value in kwargs.items():\n",
    "        print(key, value)\n",
    "        \n",
    "list = [\"jaid\", \"leeza\", \"Kanishka\"]\n",
    "n = \"vilakshan\"\n",
    "dict = { \"Jaid\" : \"Leeza\",\n",
    "        \"Vilakshan\" : \"Single\"}\n",
    "\n",
    "funargs(n, *list , **dict)"
   ]
  },
  {
   "cell_type": "markdown",
   "id": "cf42ad2c-d3b1-4e76-b516-72561bd03a40",
   "metadata": {},
   "source": [
    "Q3. What is an iterator in python? Name the method used to initialise the iterator object and the method\n",
    "used for iteration. Use these methods to print the first five elements of the given list [2, 4, 6, 8, 10, 12, 14,\n",
    "16, 18, 20].\n",
    "\n",
    "Ans-> Iterator in Python is an object that is used to iterate over iterable objects like lists, tuples, dicts, and sets. The iterator object is initialized using         the iter() method. It uses the next() method for iteration.\n",
    "\n",
    "       __iter__(): The iter() method is called for the initialization of an iterator. This returns an iterator object\n",
    "\n",
    "       __next__(): The next method returns the next value for the iterable. When we use a for loop to traverse any iterable object, internally it uses the iter() method to get an iterator object, which further uses the next() method to iterate over. This method raises a StopIteration to signal the end of the  iteration."
   ]
  },
  {
   "cell_type": "code",
   "execution_count": 3,
   "id": "8fe056b9-2879-4510-b13d-bdcc32c593c3",
   "metadata": {},
   "outputs": [
    {
     "name": "stdout",
     "output_type": "stream",
     "text": [
      "2\n",
      "4\n",
      "6\n",
      "8\n",
      "10\n"
     ]
    }
   ],
   "source": [
    "given_list = [2,4,6,8,10,12,14,16,18,20]\n",
    "\n",
    "iteration = iter(given_list)\n",
    "for i in range(1,6):\n",
    "    print(next(iteration))"
   ]
  },
  {
   "cell_type": "markdown",
   "id": "ca128662-3215-4f05-9e65-4f7b4883b973",
   "metadata": {},
   "source": [
    "Q4. What is a generator function in python? Why yield keyword is used? Give an example of a generator\n",
    "function.\n",
    "\n",
    "Ans->\n",
    "\n",
    "In Python, a generator is a function that returns an iterator that produces a sequence of values when iterated over.\n",
    "Generators are useful when we want to produce a large sequence of values, but we don't want to store all of them in memory at once.\n",
    "\n",
    "\n",
    "We need yield in generators because it is used to resume or pause a generator function asynchronously."
   ]
  },
  {
   "cell_type": "code",
   "execution_count": 4,
   "id": "ea960f5e-b798-4c41-9645-913d37c40645",
   "metadata": {},
   "outputs": [
    {
     "name": "stdout",
     "output_type": "stream",
     "text": [
      "2\n",
      "4\n",
      "6\n",
      "8\n"
     ]
    }
   ],
   "source": [
    "def fun(x):\n",
    "    yield x\n",
    "    yield x + 2\n",
    "    yield x + 4\n",
    "    yield x + 6\n",
    "itr = fun(2)\n",
    "print(next(itr))\n",
    "print(next(itr))\n",
    "print(next(itr))\n",
    "print(next(itr))"
   ]
  },
  {
   "cell_type": "markdown",
   "id": "b3f76d81-034d-477d-b2f1-a42f49e89f2a",
   "metadata": {},
   "source": [
    "Q5. Create a generator function for prime numbers less than 1000. Use the next() method to print the\n",
    "first 20 prime numbers.\n",
    "\n",
    "Ans-> \n"
   ]
  },
  {
   "cell_type": "code",
   "execution_count": 5,
   "id": "1ba6afcc-f7d3-4253-9eff-5533ff84bd89",
   "metadata": {},
   "outputs": [
    {
     "name": "stdout",
     "output_type": "stream",
     "text": [
      "2\n",
      "3\n",
      "5\n",
      "7\n",
      "11\n",
      "13\n",
      "17\n",
      "19\n",
      "23\n",
      "29\n",
      "31\n",
      "37\n",
      "41\n",
      "43\n",
      "47\n",
      "53\n",
      "59\n",
      "61\n",
      "67\n",
      "71\n"
     ]
    }
   ],
   "source": [
    "from math import sqrt\n",
    "\n",
    "def is_prime(n):\n",
    "    if (n <= 1):\n",
    "        return False\n",
    "    if (n == 2):\n",
    "        return True\n",
    "    if (n % 2 == 0):\n",
    "        return False\n",
    "\n",
    "    i = 3\n",
    "    while i <= sqrt(n):\n",
    "        if n % i == 0:\n",
    "            return False\n",
    "        i = i + 2\n",
    "\n",
    "    return True\n",
    "\n",
    "def prime_generator():\n",
    "    n = 1\n",
    "    while True:\n",
    "        n += 1\n",
    "        if is_prime(n):\n",
    "            yield n\n",
    "            \n",
    "generator = prime_generator()\n",
    "\n",
    "for i in range(20):\n",
    "    print(next(generator))"
   ]
  },
  {
   "cell_type": "markdown",
   "id": "c996b53f-574a-4625-9d83-731189a7c3da",
   "metadata": {},
   "source": [
    "Q6. Write a python program to print the first 10 Fibonacci numbers using a while loop.\n",
    "\n",
    "Ans->\n"
   ]
  },
  {
   "cell_type": "code",
   "execution_count": 8,
   "id": "4605853e-6eb8-47c6-a514-ecbc350f34be",
   "metadata": {},
   "outputs": [
    {
     "name": "stdout",
     "output_type": "stream",
     "text": [
      "0\n",
      "1\n",
      "1\n",
      "2\n",
      "3\n",
      "5\n",
      "8\n",
      "13\n",
      "21\n",
      "34\n"
     ]
    }
   ],
   "source": [
    "i = 0\n",
    "a,b = 0,1\n",
    "while i < 10:\n",
    "    print(a)\n",
    "    a,b=b,a+b\n",
    "    i+=1"
   ]
  },
  {
   "cell_type": "markdown",
   "id": "99a8a26c-a667-4319-863c-c7db30cc635d",
   "metadata": {},
   "source": [
    "Q7. Write a List Comprehension to iterate through the given string: ‘pwskills’.\n",
    "Expected output: ['p', 'w', 's', 'k', 'i', 'l', 'l', 's']\n",
    "\n",
    "Ans->"
   ]
  },
  {
   "cell_type": "code",
   "execution_count": 9,
   "id": "ecaa55fb-e513-4a7f-ab8a-8c7f12233219",
   "metadata": {},
   "outputs": [
    {
     "data": {
      "text/plain": [
       "['p', 'w', 's', 'k', 'i', 'l', 'l', 's']"
      ]
     },
     "execution_count": 9,
     "metadata": {},
     "output_type": "execute_result"
    }
   ],
   "source": [
    "[i for i in \"pwskills\"]"
   ]
  },
  {
   "cell_type": "markdown",
   "id": "e24f8229-e77c-4b7e-856e-ebbbe4786250",
   "metadata": {},
   "source": [
    "Q8. Write a python program to check whether a given number is Palindrome or not using a while loop.\n",
    "\n",
    "Ans->\n"
   ]
  },
  {
   "cell_type": "code",
   "execution_count": 17,
   "id": "da26770f-fa91-424f-8b73-6efb204a1ec4",
   "metadata": {},
   "outputs": [
    {
     "name": "stdout",
     "output_type": "stream",
     "text": [
      "3443 palindrom\n",
      "56876 Not Palindrom\n"
     ]
    }
   ],
   "source": [
    "def fun(a):\n",
    "    string = str(a)\n",
    "    string2 = string[::-1]\n",
    "    if string == string2:\n",
    "        return \"palindrom\"\n",
    "    return \"Not Palindrom\"\n",
    "\n",
    "a = 3443\n",
    "b = 56876\n",
    "print(a,fun(a))\n",
    "print(b,fun(b))"
   ]
  },
  {
   "cell_type": "markdown",
   "id": "f4e8f1d1-20b1-4986-838b-17f006ec711d",
   "metadata": {},
   "source": [
    "Q9. Write a code to print odd numbers from 1 to 100 using list comprehension.\n",
    "Note: Use a list comprehension to create a list from 1 to 100 and use another List comprehension to filter\n",
    "out odd numbers.\n",
    "\n",
    "Ans->"
   ]
  },
  {
   "cell_type": "code",
   "execution_count": 24,
   "id": "99f1115c-cdb2-4d58-b4c9-609e7963d1a9",
   "metadata": {},
   "outputs": [
    {
     "name": "stdout",
     "output_type": "stream",
     "text": [
      "[1, 2, 3, 4, 5, 6, 7, 8, 9, 10, 11, 12, 13, 14, 15, 16, 17, 18, 19, 20, 21, 22, 23, 24, 25, 26, 27, 28, 29, 30, 31, 32, 33, 34, 35, 36, 37, 38, 39, 40, 41, 42, 43, 44, 45, 46, 47, 48, 49, 50, 51, 52, 53, 54, 55, 56, 57, 58, 59, 60, 61, 62, 63, 64, 65, 66, 67, 68, 69, 70, 71, 72, 73, 74, 75, 76, 77, 78, 79, 80, 81, 82, 83, 84, 85, 86, 87, 88, 89, 90, 91, 92, 93, 94, 95, 96, 97, 98, 99, 100]\n",
      "\n",
      "[1, 3, 5, 7, 9, 11, 13, 15, 17, 19, 21, 23, 25, 27, 29, 31, 33, 35, 37, 39, 41, 43, 45, 47, 49, 51, 53, 55, 57, 59, 61, 63, 65, 67, 69, 71, 73, 75, 77, 79, 81, 83, 85, 87, 89, 91, 93, 95, 97, 99]\n"
     ]
    }
   ],
   "source": [
    "list = [i for i in range(1,101)]\n",
    "print(list)\n",
    "print()\n",
    "list2 = [i for i in list if i % 2 != 0]\n",
    "print(list2)"
   ]
  }
 ],
 "metadata": {
  "kernelspec": {
   "display_name": "Python 3 (ipykernel)",
   "language": "python",
   "name": "python3"
  },
  "language_info": {
   "codemirror_mode": {
    "name": "ipython",
    "version": 3
   },
   "file_extension": ".py",
   "mimetype": "text/x-python",
   "name": "python",
   "nbconvert_exporter": "python",
   "pygments_lexer": "ipython3",
   "version": "3.10.8"
  }
 },
 "nbformat": 4,
 "nbformat_minor": 5
}
