{
 "cells": [
  {
   "cell_type": "raw",
   "id": "c98f5d8d-ba94-4a5f-9427-41cb65fa968f",
   "metadata": {},
   "source": [
    "Q1. Create a function which will take a list as an argument and return the product of all the numbers\n",
    "after creating a flat list.\n",
    "Use the below-given list as an argument for your function.\n",
    "list1 = [1,2,3,4, [44,55,66, True], False, (34,56,78,89,34), {1,2,3,3,2,1}, {1:34, \"key2\": [55, 67, 78, 89], 4: (45,\n",
    "22, 61, 34)}, [56, 'data science'], 'Machine Learning']\n",
    "Note: you must extract numeric keys and values of the dictionary also.\n",
    "\n",
    "Ans-> "
   ]
  },
  {
   "cell_type": "code",
   "execution_count": 23,
   "id": "57abafea-944a-471c-bd2c-86da23b9d1f4",
   "metadata": {},
   "outputs": [
    {
     "name": "stdout",
     "output_type": "stream",
     "text": [
      "2013730282081706885067571200\n"
     ]
    }
   ],
   "source": [
    "def Flat_List(list1):\n",
    "    result = 1\n",
    "    flat_list = []\n",
    "    def flatten(list1):\n",
    "        for item in list1 : \n",
    "            if type(item)==int:\n",
    "                flat_list.append(item)\n",
    "            elif type(item)==float:\n",
    "                flat_list.append(item)\n",
    "            elif type(item)==tuple:\n",
    "                for i in item : \n",
    "                    if type(i)== int or type(item)==float:\n",
    "                        flat_list.append(i)\n",
    "            elif type(item)==list:\n",
    "                flatten(item)\n",
    "            elif type(item)==set:\n",
    "                for i in item:\n",
    "                    if type(i)== int or type(i)==float:\n",
    "                        flat_list.append(i)\n",
    "            elif type(item)==dict:\n",
    "                for key, value in item.items():\n",
    "                    if type(key)== int or type(key)==float:\n",
    "                        flat_list.append(key)\n",
    "                    if type(value)== int or type(value)==float:\n",
    "                        flat_list.append(value)\n",
    "                    if type(value)==list:\n",
    "                        flatten(value)\n",
    "    flatten(list1)\n",
    "            \n",
    "    for num in flat_list:\n",
    "        result*=num\n",
    "    return result\n",
    "\n",
    "list1 = [1,2,3,4, [44,55,66, True], False, (34,56,78,89,34), {1,2,3,3,2,1}, {1:34, \"key2\": [55, 67, 78, 89], 4: (45,22, 61, 34)},\n",
    "         [56, 'data science'], 'Machine Learning']\n",
    "print(Flat_List(list1))"
   ]
  },
  {
   "cell_type": "raw",
   "id": "147227d2-1823-4162-ac74-009003a32ebf",
   "metadata": {},
   "source": [
    "Q2. Write a python program for encrypting a message sent to you by your friend. The logic of encryption\n",
    "should be such that, for a the output should be z. For b, the output should be y. For c, the output should\n",
    "be x respectively. Also, the whitespace should be replaced with a dollar sign. Keep the punctuation\n",
    "marks unchanged.\n",
    "\n",
    "Input Sentence: I want to become a Data Scientist.\n",
    "\n",
    "Encrypt the above input sentence using the program you just created.\n",
    "\n",
    "Note: Convert the given input sentence into lowercase before encrypting. The final output should be\n",
    "lowercase.\n",
    "\n",
    "Ans->"
   ]
  },
  {
   "cell_type": "code",
   "execution_count": 24,
   "id": "556e13ba-33ea-4535-b73e-41e3fc1d4e5b",
   "metadata": {},
   "outputs": [
    {
     "name": "stdout",
     "output_type": "stream",
     "text": [
      "given string is : I want to become a Data Scientist.\n",
      "This is the encrypted text:  r$dzmg$gl$yvxlnv$z$wzgz$hxrvmgrhg.\n"
     ]
    }
   ],
   "source": [
    "code = {\"a\":\"z\", \"b\":\"y\", \"c\":\"x\" ,\"d\":\"w\" ,\"e\":\"v\", \"f\":\"u\", \n",
    "        \"g\":\"t\", \"h\":\"s\", \"i\":\"r\",\"j\":\"q\",\"k\":\"p\",\"l\":\"o\", \"m\":\"n\",\n",
    "        \"n\":\"m\", \"o\":\"l\", \"p\":\"k\", \"q\":\"j\", \"r\":\"i\", \"s\":\"h\", \"t\":\"g\", \n",
    "        \"u\":\"f\", \"v\":\"e\", \"w\":\"d\",\"x\":\"c\", \"y\":\"b\", \"z\":\"a\",\" \":\"$\"}\n",
    "\n",
    "plainText = 'I want to become a Data Scientist.'\n",
    "print(\"given string is :\",plainText)\n",
    "plainText = plainText.lower() #Converts the input to lowecase letters for better management and error free program \n",
    "                              # since python is case sensitive\n",
    "encryptedText = \"\"\n",
    "for c in plainText:\n",
    "    if c in \"abcdefghijklmnopqrstuvwxyz \":#checks if each character of plainText exist in 26 letters of alphabet\n",
    "        encryptedText += code[c]\n",
    "    else: #if a character doesn't exist in the dictionary, do nothing to it\n",
    "        encryptedText += c\n",
    "print(\"This is the encrypted text: \",encryptedText)"
   ]
  },
  {
   "cell_type": "code",
   "execution_count": null,
   "id": "f80e8a42-d531-4adc-b9be-b042c284b412",
   "metadata": {},
   "outputs": [],
   "source": []
  }
 ],
 "metadata": {
  "kernelspec": {
   "display_name": "Python 3 (ipykernel)",
   "language": "python",
   "name": "python3"
  },
  "language_info": {
   "codemirror_mode": {
    "name": "ipython",
    "version": 3
   },
   "file_extension": ".py",
   "mimetype": "text/x-python",
   "name": "python",
   "nbconvert_exporter": "python",
   "pygments_lexer": "ipython3",
   "version": "3.10.8"
  }
 },
 "nbformat": 4,
 "nbformat_minor": 5
}
