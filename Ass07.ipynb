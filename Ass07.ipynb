{
 "cells": [
  {
   "cell_type": "markdown",
   "id": "51af2d0d-bc71-46e8-985e-73c25667fd64",
   "metadata": {},
   "source": [
    "Q1. Create a function which will take a list as an argument and return the product of all the numbers\n",
    "after creating a flat list.\n",
    "\n",
    "Use the below-given list as an argument for your function.\n",
    "\n",
    "list1 = [1,2,3,4, [44,55,66, True], False, (34,56,78,89,34), {1,2,3,3,2,1}, {1:34, \"key2\": [55, 67, 78, 89], 4: (45,\n",
    "22, 61, 34)}, [56, 'data science'], 'Machine Learning']\n",
    "\n",
    "Note: you must extract numeric keys and values of the dictionary also.\n",
    "\n",
    "Ans-> "
   ]
  },
  {
   "cell_type": "code",
   "execution_count": 34,
   "id": "57abafea-944a-471c-bd2c-86da23b9d1f4",
   "metadata": {},
   "outputs": [
    {
     "name": "stdout",
     "output_type": "stream",
     "text": [
      "[1, 2, 3, 4, 44, 55, 66, True, False, 34, 56, 78, 89, 34, 1, 2, 3, 1, 34, 'key2', 55, 67, 78, 89, 4, 45, 22, 61, 34, 56, 'data science', 'Machine Learning']\n",
      "4134711838987085478833841242112000\n"
     ]
    }
   ],
   "source": [
    "list1 = [1,2,3,4, [44,55,66, True], False, (34,56,78,89,34), {1,2,3,3,2,1},{1:34, \"key2\": [55, 67, 78, 89], 4: (45,22, 61, 34)}, [56, 'data science'], 'Machine Learning']# phase 1\n",
    "def flatlist(list1):\n",
    "    flist=[]\n",
    "    for i in list1:\n",
    "        if type(i)==list or type(i)==tuple or type(i)==set:\n",
    "            for element in i:\n",
    "                flist.append(element)\n",
    "        elif type(i)==dict:\n",
    "            temp_list=list(i.items())\n",
    "            for i in temp_list: # [(1, 34), ('key2', [55, 67, 78, 89]), (4, (45, 22, 61, 34))\n",
    "                for element in i:\n",
    "                    if type(element)==list or type(element)==tuple:\n",
    "                        for j in element:\n",
    "                            flist.append(j)\n",
    "                    else:\n",
    "                        flist.append(element)\n",
    "        else:\n",
    "            flist.append(i)\n",
    "    return flist\n",
    "list2=flatlist(list1)\n",
    "print(list2)\n",
    "a=1\n",
    "for i in list2:\n",
    "    if type(i)==int:\n",
    "        a=a*i\n",
    "print(a)"
   ]
  },
  {
   "cell_type": "markdown",
   "id": "f7bdfa8f-a754-4f47-9650-fb7d2d5a02e4",
   "metadata": {},
   "source": [
    "Q2. Write a python program for encrypting a message sent to you by your friend. The logic of encryption\n",
    "should be such that, for a the output should be z. For b, the output should be y. For c, the output should\n",
    "be x respectively. Also, the whitespace should be replaced with a dollar sign. Keep the punctuation\n",
    "marks unchanged.\n",
    "\n",
    "Input Sentence: I want to become a Data Scientist.\n",
    "\n",
    "Encrypt the above input sentence using the program you just created.\n",
    "\n",
    "Note: Convert the given input sentence into lowercase before encrypting. The final output should be\n",
    "lowercase.\n",
    "\n",
    "Ans->"
   ]
  },
  {
   "cell_type": "code",
   "execution_count": 30,
   "id": "556e13ba-33ea-4535-b73e-41e3fc1d4e5b",
   "metadata": {},
   "outputs": [
    {
     "name": "stdout",
     "output_type": "stream",
     "text": [
      "given string is : I want to become a Data Scientist.\n",
      "This is the encrypted text:  r$dzmg$gl$yvxlnv$z$wzgz$hxrvmgrhg.\n"
     ]
    }
   ],
   "source": [
    "code = {\"a\":\"z\", \"b\":\"y\", \"c\":\"x\" ,\"d\":\"w\" ,\"e\":\"v\", \"f\":\"u\", \n",
    "        \"g\":\"t\", \"h\":\"s\", \"i\":\"r\",\"j\":\"q\",\"k\":\"p\",\"l\":\"o\", \"m\":\"n\",\n",
    "        \"n\":\"m\", \"o\":\"l\", \"p\":\"k\", \"q\":\"j\", \"r\":\"i\", \"s\":\"h\", \"t\":\"g\", \n",
    "        \"u\":\"f\", \"v\":\"e\", \"w\":\"d\",\"x\":\"c\", \"y\":\"b\", \"z\":\"a\",\" \":\"$\"}\n",
    "\n",
    "plainText = 'I want to become a Data Scientist.'\n",
    "print(\"given string is :\",plainText)\n",
    "plainText = plainText.lower() \n",
    "                             \n",
    "encryptedText = \"\"\n",
    "for c in plainText:\n",
    "    if c in \"abcdefghijklmnopqrstuvwxyz \":\n",
    "        encryptedText += code[c]\n",
    "    else: \n",
    "        encryptedText += c\n",
    "print(\"This is the encrypted text: \",encryptedText)"
   ]
  }
 ],
 "metadata": {
  "kernelspec": {
   "display_name": "Python 3 (ipykernel)",
   "language": "python",
   "name": "python3"
  },
  "language_info": {
   "codemirror_mode": {
    "name": "ipython",
    "version": 3
   },
   "file_extension": ".py",
   "mimetype": "text/x-python",
   "name": "python",
   "nbconvert_exporter": "python",
   "pygments_lexer": "ipython3",
   "version": "3.10.8"
  }
 },
 "nbformat": 4,
 "nbformat_minor": 5
}
