{
 "cells": [
  {
   "cell_type": "markdown",
   "id": "3a8eb448-a937-43be-b933-0f9a79a18dc0",
   "metadata": {},
   "source": [
    "Q1. You are writing code for a company. The requirement of the company is that you create a python\n",
    "function that will check whether the password entered by the user is correct or not. The function should\n",
    "take the password as input and return the string “Valid Password” if the entered password follows the\n",
    "below-given password guidelines else it should return “Invalid Password”.\n",
    "\n",
    "Note: 1. The Password should contain at least two uppercase letters and at least two lowercase letters.\n",
    "\n",
    "2. The Password should contain at least a number and three special characters.\n",
    "\n",
    "3. The length of the password should be 10 characters long.\n",
    "\n",
    "Ans->"
   ]
  },
  {
   "cell_type": "code",
   "execution_count": 51,
   "id": "1065af56-57ca-41d5-b664-2efba7c740c9",
   "metadata": {},
   "outputs": [
    {
     "name": "stdin",
     "output_type": "stream",
     "text": [
      "Enter the Password :  aaDD@@@2334jhfg\n"
     ]
    },
    {
     "name": "stdout",
     "output_type": "stream",
     "text": [
      "valid Password\n"
     ]
    }
   ],
   "source": [
    "def pass_check(pasw):\n",
    "    \n",
    "    count = '@_!#$%^&*()<>?/\\|}{~:'\n",
    "    count2 = [i for i in count]\n",
    "   \n",
    "    i=0\n",
    "    j=0\n",
    "    d=0\n",
    "    k=0\n",
    "    list1 = [i for i in pasw]\n",
    "    if len(pasw) >=10:\n",
    "        for item in list1: \n",
    "            if ord(item)>=65 and ord(item)<=90:\n",
    "                i+=1\n",
    "            elif ord(item)>=90 and ord(item)<=122:\n",
    "                j+=1\n",
    "            elif item.isnumeric()== True  :\n",
    "                d+=1\n",
    "            elif item in count2:\n",
    "                k+=1\n",
    "            else:\n",
    "                pass\n",
    "        if i >=2 and j >=2 and d>=1 and k>=3 :\n",
    "            print(\"valid Password\")\n",
    "        else:\n",
    "            print(\"Invalid Password\")\n",
    "        \n",
    "    else : \n",
    "        print(\"Invalid Password\")\n",
    "\n",
    "pasw = input(\"Enter the Password : \")\n",
    "pass_check(pasw)"
   ]
  },
  {
   "cell_type": "markdown",
   "id": "935bdfec-01a9-4312-9c35-084f3f0f363c",
   "metadata": {},
   "source": [
    "Q2. Solve the below-given questions using at least one of the following:\n",
    "1. Lambda function\n",
    "2. Filter function\n",
    "3. Map function\n",
    "4. List Comprehension\n",
    "1) Check if the string starts with a particular letter.\n",
    "2) Check if the string is numeric.\n",
    "3) Sort a list of tuples having fruit names and their quantity. [(\"mango\",99),(\"orange\",80), (\"grapes\", 1000)]\n",
    "4) Find the squares of numbers from 1 to 10.\n",
    "5) Find the cube root of numbers from 1 to 10.\n",
    "6) Check if a given number is even.\n",
    "7) Filter odd numbers from the given list.\n",
    "[1,2,3,4,5,6,7,8,9,10]\n",
    "8) Sort a list of integers into positive and negative integers lists.\n",
    "[1,2,3,4,5,6,-1,-2,-3,-4,-5,0]\n",
    " \n",
    " \n",
    "Ans->"
   ]
  },
  {
   "cell_type": "code",
   "execution_count": 60,
   "id": "d2e61520-cd69-4e04-bdf1-2852d641ede7",
   "metadata": {},
   "outputs": [
    {
     "name": "stdout",
     "output_type": "stream",
     "text": [
      "True\n",
      "True\n",
      "False\n"
     ]
    }
   ],
   "source": [
    "# 1)\n",
    "starts_with = lambda x, y: True if x.startswith(y) else False\n",
    "\n",
    "string = \"Hello World\"\n",
    "print(starts_with(string, 'Hello'))\n",
    "print(starts_with(string, \"H\"))\n",
    "print(starts_with(string, \"hello\"))"
   ]
  },
  {
   "cell_type": "code",
   "execution_count": 14,
   "id": "c9015edf-a61f-491a-9fb6-d7461f0b36ea",
   "metadata": {},
   "outputs": [
    {
     "name": "stdout",
     "output_type": "stream",
     "text": [
      "True\n"
     ]
    }
   ],
   "source": [
    "# 2)\n",
    "\n",
    "string = \"3254354\"\n",
    "is_numeric = lambda x : x.isnumeric()\n",
    "b = is_numeric(string)\n",
    "print(b)"
   ]
  },
  {
   "cell_type": "code",
   "execution_count": 16,
   "id": "f5a26104-dd7e-45c8-842b-74cc65fdf212",
   "metadata": {},
   "outputs": [
    {
     "data": {
      "text/plain": [
       "[('orange', 80), ('mango', 99), ('grapes', 1000)]"
      ]
     },
     "execution_count": 16,
     "metadata": {},
     "output_type": "execute_result"
    }
   ],
   "source": [
    "# 3)\n",
    "\n",
    "list1 = [(\"mango\",99),(\"orange\",80), (\"grapes\", 1000)]\n",
    "list1.sort(key = lambda x: x[1])\n",
    "list1"
   ]
  },
  {
   "cell_type": "code",
   "execution_count": 17,
   "id": "d3d6e4fb-3236-46dc-9bbf-d9b11852ed27",
   "metadata": {},
   "outputs": [
    {
     "name": "stdout",
     "output_type": "stream",
     "text": [
      "1\n",
      "4\n",
      "9\n",
      "16\n",
      "25\n",
      "36\n",
      "49\n",
      "64\n",
      "81\n",
      "100\n"
     ]
    }
   ],
   "source": [
    "# 4)\n",
    "\n",
    "list1 = [i for i in range(1,11)]\n",
    "sqr = lambda x : x*x\n",
    "for i in list1 : \n",
    "    b = sqr(i)\n",
    "    print(b)\n",
    "    "
   ]
  },
  {
   "cell_type": "code",
   "execution_count": 36,
   "id": "145a30fe-696f-428c-9c73-d510213ad8cd",
   "metadata": {},
   "outputs": [
    {
     "name": "stdout",
     "output_type": "stream",
     "text": [
      "1.0\n",
      "1.2599210498948732\n",
      "1.4422495703074083\n",
      "1.5874010519681994\n",
      "1.7099759466766968\n",
      "1.8171205928321397\n",
      "1.912931182772389\n",
      "2.0\n",
      "2.080083823051904\n",
      "2.154434690031884\n"
     ]
    }
   ],
   "source": [
    "# 5)\n",
    "\n",
    "list1 = [i for i in range(1,11)]\n",
    "cub = lambda x : x**(1/3)\n",
    "for i in list1 : \n",
    "    b = cub(i)\n",
    "    print(b)"
   ]
  },
  {
   "cell_type": "code",
   "execution_count": null,
   "id": "6ee519ab-dc7b-4356-b2d6-b446d74897b5",
   "metadata": {},
   "outputs": [
    {
     "name": "stdin",
     "output_type": "stream",
     "text": [
      "enter the number :  8\n"
     ]
    },
    {
     "name": "stdout",
     "output_type": "stream",
     "text": [
      "True\n"
     ]
    }
   ],
   "source": [
    "no = int(input(\"enter the number : \"))\n",
    "even = lambda x : x%2==0\n",
    "print(even(no))"
   ]
  },
  {
   "cell_type": "code",
   "execution_count": 40,
   "id": "0019ddcc-b985-42d8-83fe-5289e5a96047",
   "metadata": {},
   "outputs": [
    {
     "data": {
      "text/plain": [
       "[1, 3, 5, 7, 9]"
      ]
     },
     "execution_count": 40,
     "metadata": {},
     "output_type": "execute_result"
    }
   ],
   "source": [
    "# 7)\n",
    "\n",
    "list1 = [1,2,3,4,5,6,7,8,9,10]\n",
    "\n",
    "b = lambda x : x%2==0\n",
    "for i in list1:\n",
    "    if b(i) == True:\n",
    "        list1.remove(i)\n",
    "list1"
   ]
  },
  {
   "cell_type": "code",
   "execution_count": 1,
   "id": "d66907ac-e847-4c09-bd66-6c7be34ad4f9",
   "metadata": {},
   "outputs": [
    {
     "name": "stdout",
     "output_type": "stream",
     "text": [
      "Positive List: [1, 2, 3, 4, 5, 6]\n",
      "Negative List: [-1, -2, -3, -4, -5]\n"
     ]
    }
   ],
   "source": [
    "# 8)\n",
    "\n",
    "def sort_positive_negative(lst):\n",
    "    positive_list = [num for num in lst if num > 0]\n",
    "    negative_list = [num for num in lst if num < 0]\n",
    "    return positive_list, negative_list\n",
    "lst = [1,2,3,4,5,6,-1,-2,-3,-4,-5,0]\n",
    "positive_list, negative_list = sort_positive_negative(lst)\n",
    "print(\"Positive List:\", positive_list)\n",
    "print(\"Negative List:\", negative_list)"
   ]
  }
 ],
 "metadata": {
  "kernelspec": {
   "display_name": "Python 3 (ipykernel)",
   "language": "python",
   "name": "python3"
  },
  "language_info": {
   "codemirror_mode": {
    "name": "ipython",
    "version": 3
   },
   "file_extension": ".py",
   "mimetype": "text/x-python",
   "name": "python",
   "nbconvert_exporter": "python",
   "pygments_lexer": "ipython3",
   "version": "3.10.8"
  }
 },
 "nbformat": 4,
 "nbformat_minor": 5
}
