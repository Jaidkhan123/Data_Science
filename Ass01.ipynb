{
 "cells": [
  {
   "cell_type": "markdown",
   "id": "77da6561-60c3-45b0-9c7e-9050cd8ce876",
   "metadata": {},
   "source": [
    "1-> Who developed Python Programming Language ?\n",
    "Ans-> Guido van Rossum\n",
    "\n",
    "2-> Which type of Programming does Python support ?\n",
    "Ans-> Python is an interpreted programming language. \n",
    "      Supports object oriented programming, structured programming, functional programming.\n",
    "       \n",
    "3-> Is python case sensitive when dealing with identifiers.\n",
    "Ans-> Yes, Python is case sensitive.\n",
    "\n",
    "4-> What is the correct extension of the python file ?\n",
    "Ans-> .py extension \n",
    "      eg-> our pyton file name is Ass1\n",
    "           we will save it as Ass1.py \n",
    "           that is our pyton file\n",
    "\n",
    "5-> Is Python code compiled or Interpreted ?\n",
    "Ans-> Python is both compiled as well as an interpreted language, which means when we run a python code, it is first compiled         and then interpreted line by line.\n",
    "      the source code of a Python program is converted into bytecode that is then executed by the Python virtual machine.\n",
    "      \n",
    "6-> Name a few blocks of code used to define in Python language.\n",
    "Ans-> A block of code is a part of Python program text, that is executed as a unit. Like a function, class.\n",
    "      Indentation is also a part of this.\n",
    "\n",
    "   1) def filename():\n",
    "      \n",
    "          statements\n",
    "      \n",
    "   2) class classname():\n",
    "      \n",
    "          statements\n"
   ]
  },
  {
   "cell_type": "markdown",
   "id": "44b140ec-58df-4665-b0c0-b0570780f08d",
   "metadata": {},
   "source": [
    "7-> State a character used to give single-line comments in Python>\n",
    "Ans-> # (Hashtag) is used to give single-line comments."
   ]
  },
  {
   "cell_type": "code",
   "execution_count": 1,
   "id": "971b95b4-a927-4cf5-91d1-f8c4d9e55194",
   "metadata": {},
   "outputs": [],
   "source": [
    "# example is here "
   ]
  },
  {
   "cell_type": "markdown",
   "id": "e6c26170-e60b-45c5-9863-aba223b89012",
   "metadata": {},
   "source": [
    "8-> Mention functions which can help us to find the version of python that we are currently working on.\n",
    "Ans-> Import sys, print(\"Python version\"), print (sys. version), print(\"Version info.\"), print (sys. version_info)."
   ]
  },
  {
   "cell_type": "markdown",
   "id": "bb5e3dc1-0aa9-4421-94ef-be8e9d891b2b",
   "metadata": {},
   "source": [
    "9-> Python supports the creation of anonymous functions at runtime, using a construct called _____ .\n",
    "Ans-> Lambda"
   ]
  },
  {
   "cell_type": "code",
   "execution_count": 4,
   "id": "abba2f90-1d1a-4f2f-b3ed-751a2c4ee9a0",
   "metadata": {},
   "outputs": [
    {
     "name": "stdout",
     "output_type": "stream",
     "text": [
      "27\n"
     ]
    }
   ],
   "source": [
    "b= lambda x,y : x + y\n",
    "d=b(8,19)\n",
    "print(d)"
   ]
  },
  {
   "cell_type": "markdown",
   "id": "facbd3f3-d360-408a-948a-8583a22e7608",
   "metadata": {},
   "source": [
    "10-> What does pip stands for ?\n",
    "Ans-> preferred installer program.\n",
    "      PIP Installs Packages. \n",
    "      \n",
    "11-> Mention a few built-in functions in python?\n",
    "Ans-> print()\n",
    "      type()\n",
    "      input()\n",
    "      max()\n",
    "      del()\n",
    "      \n",
    "12-> What is the maximum possible length of an identifier in python?\n",
    "Ans-> 79\n",
    "\n",
    "13-> What are the benefits of using python?\n",
    "Ans->Data science.\n",
    "    Scientific and mathematical computing.\n",
    "    Web development.\n",
    "    Basic game development.\n",
    "    Security and penetration testing\n",
    "    \n",
    "14-> How is memory managed in Python.\n",
    "Ans-> Memory Allocation in Python\n",
    "    There are two parts of memory:\n",
    "\n",
    "    1) stack memory\n",
    "    2) heap memory\n",
    "    \n",
    "    The methods calls and the references are stored in stack memory and all the values objects are stored in a private heap.\n",
    "\n",
    "    Work of Stack Memory ->\n",
    "    The allocation happens on contiguous blocks of memory. We call it stack memory allocation because the allocation happens in     the function call stack. The size of memory to be allocated is known to the compiler and whenever a function is called, its     variables get memory allocated on the stack.\n",
    "\n",
    "    It is the memory that is only needed inside a particular function or method call. When a function is called, it is added         onto the program’s call stack. Any local memory assignments such as variable initializations inside the particular functions     are stored temporarily on the function call stack, where it is deleted once the function returns, and the call stack moves       on to the next task. This allocation onto a contiguous block of memory is handled by the compiler using predefined routines,     and developers do not need to worry about it.\n",
    "    \n",
    "    Work of Heap Memory ->\n",
    "    The memory is allocated during the execution of instructions written by programmers. Note that the name heap has nothing to     do with the heap data structure. It is called heap because it is a pile of memory space available to programmers to             allocated and de-allocate. The variables are needed outside of method or function calls or are shared within multiple           functions globally are stored in Heap memory.\n",
    "    \n",
    "    we also have a Garbage collector in python.\n",
    "    Garbage collection is a process in which the interpreter frees up the memory when not in use to make it available for other     objects.\n",
    "    Assume a case where no reference is pointing to an object in memory i.e. it is not in use so, the virtual machine has a         garbage collector that automatically deletes that object from the heap memory.\n",
    "    \n",
    "15-> How to install python in windows and set path variables?\n",
    "Ans-> 1) open your browser\n",
    "    2) Search Python\n",
    "    3) click on Welcome to Python.org\n",
    "    4) click on downloads\n",
    "    5) Download the latest python version \n",
    "    6) run setup\n",
    "    7) In the setup mark add python.exe to path.\n",
    "    8) install python \n",
    "\n",
    "16-> Is indentation required in python.\n",
    "Ans-> Yes, indentation required in python.\n",
    "      Python uses indentation to indicate a block of code.\n",
    "      Python indentation is a way of telling a Python interpreter that the group of statements belongs to a particular block of       code."
   ]
  }
 ],
 "metadata": {
  "kernelspec": {
   "display_name": "Python 3 (ipykernel)",
   "language": "python",
   "name": "python3"
  },
  "language_info": {
   "codemirror_mode": {
    "name": "ipython",
    "version": 3
   },
   "file_extension": ".py",
   "mimetype": "text/x-python",
   "name": "python",
   "nbconvert_exporter": "python",
   "pygments_lexer": "ipython3",
   "version": "3.10.8"
  }
 },
 "nbformat": 4,
 "nbformat_minor": 5
}
