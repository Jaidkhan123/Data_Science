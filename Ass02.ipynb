{
 "cells": [
  {
   "cell_type": "markdown",
   "id": "a50d5ff1-89c9-4fc0-acee-7ee9dd6aa092",
   "metadata": {},
   "source": [
    "1-> accept percentage form the user and display grade according to it.\n",
    "\n",
    "Ans->\n"
   ]
  },
  {
   "cell_type": "code",
   "execution_count": 23,
   "id": "95ca9678-c332-4f4e-bff6-7828fafa64eb",
   "metadata": {
    "tags": []
   },
   "outputs": [
    {
     "name": "stdin",
     "output_type": "stream",
     "text": [
      "Enter percentage of the student :  95\n"
     ]
    },
    {
     "name": "stdout",
     "output_type": "stream",
     "text": [
      "Grade A\n"
     ]
    }
   ],
   "source": [
    "per = int(input(\"Enter percentage of the student : \"))\n",
    "if per > 100:\n",
    "    print(\"not a valid input\")\n",
    "elif per >90 and per<=100:\n",
    "    print(\"Grade A\")\n",
    "elif per > 80 and per <=90:\n",
    "    print(\"Grade B\")\n",
    "elif per >=60 and per <=80:\n",
    "    print(\"Grade C\")\n",
    "else:\n",
    "    print(\"Grade D\")\n",
    "    "
   ]
  },
  {
   "cell_type": "markdown",
   "id": "02a14e64-38f7-4da8-a620-de21c49d146f",
   "metadata": {},
   "source": [
    "2->accept cost price of the bike from user and display tax according to it .\n",
    "\n",
    "Ans->\n"
   ]
  },
  {
   "cell_type": "code",
   "execution_count": 34,
   "id": "3788315c-8e83-4ea7-9786-67438bf5bb28",
   "metadata": {},
   "outputs": [
    {
     "name": "stdin",
     "output_type": "stream",
     "text": [
      "enter the cost price of the bike : $ 95000\n"
     ]
    },
    {
     "name": "stdout",
     "output_type": "stream",
     "text": [
      "road tax to be paid : 10%\n"
     ]
    }
   ],
   "source": [
    "price = int(input(\"enter the cost price of the bike : $\"))\n",
    "if price > 100000:\n",
    "    print(\"road tax to be paid : 15%\")\n",
    "elif price > 50000 and price <=100000:\n",
    "    print(\"road tax to be paid : 10%\")\n",
    "else:\n",
    "    if price >0: \n",
    "        print(\"road tax to be paid : 5%\")\n"
   ]
  },
  {
   "cell_type": "markdown",
   "id": "43306a47-2021-43d0-a984-82dcb1e0062c",
   "metadata": {},
   "source": [
    "3-> Accept any city from the user and display monuments of that city.\n",
    "\n",
    "Ans->\n"
   ]
  },
  {
   "cell_type": "code",
   "execution_count": 39,
   "id": "8424880a-8fc2-4af0-b609-6d3c68f669cc",
   "metadata": {},
   "outputs": [
    {
     "name": "stdin",
     "output_type": "stream",
     "text": [
      "Enter the city name :  Mumbai\n"
     ]
    },
    {
     "name": "stdout",
     "output_type": "stream",
     "text": [
      "No data found\n"
     ]
    }
   ],
   "source": [
    "city = input(\"Enter the city name : \")\n",
    "if city== \"Delhi\" or city == \"delhi\":\n",
    "    print(\"Monument in Delhi : Red Fort\")\n",
    "elif city==\"Agra\" or city == \"agra\":\n",
    "    print(\"Monument in Agra : Taj Mahal\")\n",
    "elif city == \"Jaipur\" or city ==\"jaipur\":\n",
    "    print(\"Monument in Jaipur : Jal Mahal\")\n",
    "else:\n",
    "    print(\"No data found\")"
   ]
  },
  {
   "cell_type": "markdown",
   "id": "66da41d0-384e-4588-9d42-08f6a1194774",
   "metadata": {},
   "source": [
    "4-> we are checking that how many times a number can be divided by 3 before it is less than or equal to 10.\n",
    "\n",
    "Ans-> \n"
   ]
  },
  {
   "cell_type": "code",
   "execution_count": 46,
   "id": "18652b94-8bb1-41f1-a8ab-77b96a3b399b",
   "metadata": {},
   "outputs": [
    {
     "name": "stdin",
     "output_type": "stream",
     "text": [
      "Enter a number :  900\n"
     ]
    },
    {
     "name": "stdout",
     "output_type": "stream",
     "text": [
      "nmber can be divided by 3, 5 times\n"
     ]
    }
   ],
   "source": [
    "num = int(input(\"Enter a number : \"))\n",
    "count = 0\n",
    "if num <=10 :\n",
    "    print(\"count = 0\")\n",
    "else:\n",
    "    while num > 10 :\n",
    "        num = num / 3\n",
    "        count+=1\n",
    "print(f\"nmber can be divided by 3, {count} times\")"
   ]
  },
  {
   "cell_type": "markdown",
   "id": "63831306-8122-480f-9072-8f12f7eee89b",
   "metadata": {},
   "source": [
    "5-> Why and when to use while loop in python give a detailed description with example\n",
    "Ans-> While Loop is used to repeat a specific block of code an unknown number of times, until a condition is met.\n",
    "      this loop executes the code until the condition becomes false.\n",
    "      we use while loop when we don't know how many times the code executes\n",
    "      \n",
    "      eg."
   ]
  },
  {
   "cell_type": "code",
   "execution_count": 16,
   "id": "032f6b84-2c07-4009-ae34-9a701dd7d1a8",
   "metadata": {},
   "outputs": [
    {
     "name": "stdout",
     "output_type": "stream",
     "text": [
      "10\n"
     ]
    }
   ],
   "source": [
    "a = 10\n",
    "while a>9:\n",
    "    print(a)\n",
    "    a-=1"
   ]
  },
  {
   "cell_type": "markdown",
   "id": "bb8b75c0-6f16-4f3d-9800-655b3c631f03",
   "metadata": {},
   "source": [
    "6-> Use nested while loop to print 3 different pattern.\n",
    "\n",
    "Ans->"
   ]
  },
  {
   "cell_type": "code",
   "execution_count": 7,
   "id": "060ad4ad-07e0-4b5f-9870-58270c74ba92",
   "metadata": {},
   "outputs": [
    {
     "name": "stdout",
     "output_type": "stream",
     "text": [
      "1 \n",
      "1 2 \n",
      "1 2 3 \n",
      "1 2 3 4 \n",
      "1 2 3 4 5 \n"
     ]
    }
   ],
   "source": [
    "i=1\n",
    "while i<=5:\n",
    "    j=1\n",
    "    while j<=i:\n",
    "        print(j,end=\" \")\n",
    "        j=j+1\n",
    "    print(\"\")\n",
    "    i=i+1"
   ]
  },
  {
   "cell_type": "code",
   "execution_count": 2,
   "id": "f4b76b0c-7246-441a-9b82-20f9a0ab0ded",
   "metadata": {},
   "outputs": [
    {
     "name": "stdout",
     "output_type": "stream",
     "text": [
      "0 1 2 3 \n",
      "0 2 4 6 \n",
      "0 3 6 9 \n",
      "0 4 8 12 \n"
     ]
    }
   ],
   "source": [
    "i = 1\n",
    "while i <= 4 :\n",
    "    j = 0\n",
    "    while  j <= 3 :\n",
    "        print(i*j, end=\" \")\n",
    "        j += 1\n",
    "    print()\n",
    "    i += 1"
   ]
  },
  {
   "cell_type": "code",
   "execution_count": 17,
   "id": "d2d9b25a-0506-4516-af5b-5e54077fd885",
   "metadata": {},
   "outputs": [
    {
     "name": "stdout",
     "output_type": "stream",
     "text": [
      "2 \n",
      "4 4 \n",
      "6 6 6 \n",
      "8 8 8 8 \n",
      "10 10 10 10 10 \n"
     ]
    }
   ],
   "source": [
    "rows = 5\n",
    "i = 1\n",
    "while i <= rows:\n",
    "    j = 1\n",
    "    while j <= i:\n",
    "        print((i * 2), end=\" \")\n",
    "        j = j + 1\n",
    "    i = i + 1\n",
    "    print('')"
   ]
  },
  {
   "cell_type": "markdown",
   "id": "9432bb60-e102-4a9b-a804-a0b2cee40e1d",
   "metadata": {},
   "source": [
    "7-> Reverse a while loop in python to print numbers from 10 to 1."
   ]
  },
  {
   "cell_type": "code",
   "execution_count": 22,
   "id": "cb1c653c-1ca2-437b-82da-f5c0a44f5575",
   "metadata": {},
   "outputs": [
    {
     "name": "stdout",
     "output_type": "stream",
     "text": [
      "10\n",
      "9\n",
      "8\n",
      "7\n",
      "6\n",
      "5\n",
      "4\n",
      "3\n",
      "2\n",
      "1\n"
     ]
    }
   ],
   "source": [
    "a=10\n",
    "while a>0:\n",
    "    print(a)\n",
    "    a-=1"
   ]
  }
 ],
 "metadata": {
  "kernelspec": {
   "display_name": "Python 3 (ipykernel)",
   "language": "python",
   "name": "python3"
  },
  "language_info": {
   "codemirror_mode": {
    "name": "ipython",
    "version": 3
   },
   "file_extension": ".py",
   "mimetype": "text/x-python",
   "name": "python",
   "nbconvert_exporter": "python",
   "pygments_lexer": "ipython3",
   "version": "3.10.8"
  }
 },
 "nbformat": 4,
 "nbformat_minor": 5
}
