{
 "cells": [
  {
   "cell_type": "markdown",
   "id": "eef234bf",
   "metadata": {},
   "source": [
    "## Q1. Calculate the 95% confidence interval for a sample of data with a mean of 50 and a standard deviationof 5 using Python. Interpret the results."
   ]
  },
  {
   "cell_type": "code",
   "execution_count": 2,
   "id": "9a26f54f",
   "metadata": {},
   "outputs": [
    {
     "name": "stdout",
     "output_type": "stream",
     "text": [
      "Confidence Interval: (48.210805856282846, 51.789194143717154)\n"
     ]
    }
   ],
   "source": [
    "import scipy.stats as stats\n",
    "\n",
    "sample_mean = 50\n",
    "sample_std = 5\n",
    "sample_size = 30 # Specify the sample size\n",
    "\n",
    "confidence_level = 0.95\n",
    "alpha = 1 - confidence_level\n",
    "\n",
    "# Calculate the margin of error\n",
    "margin_of_error = stats.norm.ppf(1 - alpha / 2) * (sample_std / (sample_size ** 0.5))\n",
    "\n",
    "# Calculate the lower and upper bounds of the confidence interval\n",
    "lower_bound = sample_mean - margin_of_error\n",
    "upper_bound = sample_mean + margin_of_error\n",
    "\n",
    "print(\"Confidence Interval:\", (lower_bound, upper_bound))\n"
   ]
  },
  {
   "cell_type": "markdown",
   "id": "2159e890",
   "metadata": {},
   "source": [
    "`Interpretation of the results`:\n",
    "\n",
    "The 95% confidence interval for the sample data with a mean of 50 and a standard deviation of 5 represents a range of values within which we can be 95% confident that the true population mean lies. Specifically, it means that if we were to take multiple samples from the population and calculate their confidence intervals using the same procedure, approximately 95% of those intervals would contain the true population mean. In this case, the confidence interval will provide a range of values within which we can estimate the population mean to be with 95% confidenc"
   ]
  },
  {
   "cell_type": "markdown",
   "id": "04c2dd15",
   "metadata": {},
   "source": [
    "## Q2. Conduct a chi-square goodness of fit test to determine if the distribution of colors of M&Ms in a bag matches the expected distribution of 20% blue, 20% orange, 20% green, 10% yellow, 10% red, and 20% brown. Use Python to perform the test with a significance level of 0.05."
   ]
  },
  {
   "cell_type": "code",
   "execution_count": 3,
   "id": "6573c895",
   "metadata": {},
   "outputs": [
    {
     "name": "stdout",
     "output_type": "stream",
     "text": [
      "Chi-square statistic: 3.2291666666666665\n",
      "p-value: 0.6647024428694874\n",
      "Fail to reject null hypothesis. The observed distribution does not differ significantly from the expected distribution.\n"
     ]
    }
   ],
   "source": [
    "import scipy.stats as stats\n",
    "import numpy as np\n",
    "\n",
    "observed_counts = np.array([50, 40, 45, 25, 30, 50])  # Replace with the actual observed counts for each color\n",
    "expected_counts = np.array([0.2, 0.2, 0.2, 0.1, 0.1, 0.2]) * np.sum(observed_counts)  # Calculate expected counts based on proportions\n",
    "\n",
    "# Perform the chi-square goodness of fit test\n",
    "chi2_stat, p_value = stats.chisquare(observed_counts, expected_counts)\n",
    "\n",
    "# Print the test results\n",
    "print(\"Chi-square statistic:\", chi2_stat)\n",
    "print(\"p-value:\", p_value)\n",
    "\n",
    "alpha = 0.05  # Significance level\n",
    "\n",
    "if p_value < alpha:\n",
    "    print(\"Reject null hypothesis. The observed distribution differs significantly from the expected distribution.\")\n",
    "else:\n",
    "    print(\"Fail to reject null hypothesis. The observed distribution does not differ significantly from the expected distribution.\")\n"
   ]
  },
  {
   "cell_type": "markdown",
   "id": "47ccc4e4",
   "metadata": {},
   "source": [
    "### `Interpretation`\n",
    "Based on the chi-square statistic of 3.2291666666666665 and the p-value of 0.6647024428694874, at a significance level of 0.05, we fail to reject the null hypothesis. This suggests that the observed distribution in the contingency table does not differ significantly from the expected distribution."
   ]
  },
  {
   "cell_type": "markdown",
   "id": "2ec9e49d",
   "metadata": {},
   "source": [
    "## Q3. Use Python to calculate the chi-square statistic and p-value for a contingency table with the following data:\n",
    "-     Group A , Group B\n",
    "\n",
    "- Outcome 1 20 15\n",
    "- Outcome 2 10 25\n",
    "- Outcome 3 15 20\n",
    "\n",
    "## Interpret the results of the test."
   ]
  },
  {
   "cell_type": "code",
   "execution_count": 5,
   "id": "938c8e56",
   "metadata": {},
   "outputs": [
    {
     "name": "stdout",
     "output_type": "stream",
     "text": [
      "Chi-square statistic: 5.833333333333334\n",
      "p-value: 0.05411376622282158\n"
     ]
    }
   ],
   "source": [
    "import scipy.stats as stats\n",
    "import numpy as np\n",
    "\n",
    "# Create the contingency table\n",
    "observed = np.array([[20, 15], [10, 25], [15, 20]])\n",
    "\n",
    "# Perform the chi-square test of independence\n",
    "chi2_stat, p_value, _, _ = stats.chi2_contingency(observed)\n",
    "\n",
    "# Print the test results\n",
    "print(\"Chi-square statistic:\", chi2_stat)\n",
    "print(\"p-value:\", p_value)\n"
   ]
  },
  {
   "cell_type": "markdown",
   "id": "69c70877",
   "metadata": {},
   "source": [
    "## `Interpretation` \n",
    "Based on the chi-square statistic of 5.833333333333334 and the p-value of 0.05411376622282158, at a significance level of 0.05, we are at the threshold of rejecting the null hypothesis. The p-value is slightly above the significance level, suggesting a marginal level of evidence against the null hypothesis.\n",
    "\n",
    "In practical terms, this means that there is some indication that the observed distribution in the contingency table may differ from the expected distribution. However, the evidence is not strong enough to confidently conclude that there is a relationship or association between the groups (Group A and Group B) and the outcomes (Outcome 1, Outcome 2, Outcome 3)."
   ]
  },
  {
   "cell_type": "markdown",
   "id": "7733db44",
   "metadata": {},
   "source": [
    "## Q4. A study of the prevalence of smoking in a population of 500 individuals found that 60 individuals smoked. Use Python to calculate the 95% confidence interval for the true proportion of individuals in the population who smoke."
   ]
  },
  {
   "cell_type": "code",
   "execution_count": 6,
   "id": "f3ba2136",
   "metadata": {},
   "outputs": [
    {
     "name": "stdout",
     "output_type": "stream",
     "text": [
      "Confidence Interval: (0.09151638887130707, 0.1484836111286929)\n"
     ]
    }
   ],
   "source": [
    "import scipy.stats as stats\n",
    "\n",
    "sample_size = 500\n",
    "smokers = 60\n",
    "\n",
    "confidence_level = 0.95\n",
    "\n",
    "# Calculate the proportion of smokers in the sample\n",
    "sample_proportion = smokers / sample_size\n",
    "\n",
    "# Calculate the standard error\n",
    "standard_error = (sample_proportion * (1 - sample_proportion) / sample_size) ** 0.5\n",
    "\n",
    "# Calculate the margin of error\n",
    "margin_of_error = stats.norm.ppf(1 - (1 - confidence_level) / 2) * standard_error\n",
    "\n",
    "# Calculate the lower and upper bounds of the confidence interval\n",
    "lower_bound = sample_proportion - margin_of_error\n",
    "upper_bound = sample_proportion + margin_of_error\n",
    "\n",
    "print(\"Confidence Interval:\", (lower_bound, upper_bound))\n"
   ]
  },
  {
   "cell_type": "markdown",
   "id": "20314e75",
   "metadata": {},
   "source": [
    "The 95% confidence interval for the true proportion of individuals in the population who smoke is (0.09151638887130707, 0.1484836111286929). This means that we can estimate, with 95% confidence, that the true proportion of smokers in the population falls within this interval.\n",
    "\n",
    "`Interpretation of the confidence interval:`\n",
    "\n",
    "The lower bound of the confidence interval is 0.0915, which indicates that at the lower end, approximately 9.15% of the population may be smokers.\n",
    "The upper bound of the confidence interval is 0.1485, suggesting that at the higher end, around 14.85% of the population may be smokers.\n",
    "The confidence interval provides a range of proportions, and we are 95% confident that the true proportion of smokers in the population lies within this range.\n",
    "It is important to note that this interval is specific to the sample of 500 individuals and may vary if a different sample is taken."
   ]
  },
  {
   "cell_type": "markdown",
   "id": "6eeccadc",
   "metadata": {},
   "source": [
    "## Q5. Calculate the 90% confidence interval for a sample of data with a mean of 75 and a standard deviationof 12 using Python. Interpret the results."
   ]
  },
  {
   "cell_type": "code",
   "execution_count": 7,
   "id": "6ecc0d30",
   "metadata": {},
   "outputs": [
    {
     "name": "stdout",
     "output_type": "stream",
     "text": [
      "90% Confidence Interval: (71.28, 78.72)\n"
     ]
    }
   ],
   "source": [
    "import scipy.stats as stats\n",
    "\n",
    "# Sample statistics\n",
    "sample_mean = 75\n",
    "sample_std = 12\n",
    "sample_size = 30  # Replace <your sample size> with the actual size of your sample\n",
    "\n",
    "# Calculate the standard error\n",
    "standard_error = sample_std / (sample_size ** 0.5)\n",
    "\n",
    "# Calculate the margin of error\n",
    "margin_of_error = stats.t.ppf(0.95, df=sample_size-1) * standard_error\n",
    "\n",
    "# Calculate the confidence interval\n",
    "lower_bound = sample_mean - margin_of_error\n",
    "upper_bound = sample_mean + margin_of_error\n",
    "\n",
    "# Print the confidence interval\n",
    "print(f\"90% Confidence Interval: ({lower_bound:.2f}, {upper_bound:.2f})\")\n"
   ]
  },
  {
   "cell_type": "markdown",
   "id": "be870a4e",
   "metadata": {},
   "source": [
    "`Interpreting the result`: it means that we can be 90% confident that the true population mean lies within the range of 71.28 and 78.72. In other words, if we were to repeat the sampling process multiple times and calculate the confidence interval each time, approximately 90% of those intervals would contain the true population mean.\n",
    "\n",
    "This range provides us with a level of uncertainty or margin of error associated with our estimate. The lower bound of 71.28 suggests that the true population mean could be as low as 71.28, while the upper bound of 78.72 suggests that it could be as high as 78.72. However, we can be 90% confident that the true population mean falls within this interval"
   ]
  },
  {
   "cell_type": "markdown",
   "id": "57038e25",
   "metadata": {},
   "source": [
    "## Q6. Use Python to plot the chi-square distribution with 10 degrees of freedom. Label the axes and shade the area corresponding to a chi-square statistic of 15."
   ]
  },
  {
   "cell_type": "code",
   "execution_count": 8,
   "id": "84171650",
   "metadata": {},
   "outputs": [
    {
     "data": {
      "image/png": "[encoded data removed]",
      "text/plain": [
       "<Figure size 640x480 with 1 Axes>"
      ]
     },
     "metadata": {},
     "output_type": "display_data"
    }
   ],
   "source": [
    "import numpy as np\n",
    "import matplotlib.pyplot as plt\n",
    "import scipy.stats as stats\n",
    "\n",
    "# Degrees of freedom\n",
    "df = 10\n",
    "\n",
    "# Generate x-values for the chi-square distribution\n",
    "x = np.linspace(0, 30, 500)\n",
    "\n",
    "# Calculate the probability density function (PDF) for the chi-square distribution\n",
    "pdf = stats.chi2.pdf(x, df)\n",
    "\n",
    "# Plot the chi-square distribution\n",
    "plt.plot(x, pdf, label='Chi-square (10 degrees of freedom)')\n",
    "\n",
    "# Shade the area corresponding to a chi-square statistic of 15\n",
    "x_shade = np.linspace(15, 30, 100)\n",
    "pdf_shade = stats.chi2.pdf(x_shade, df)\n",
    "plt.fill_between(x_shade, pdf_shade, color='gray', alpha=0.3)\n",
    "\n",
    "# Label the axes and title\n",
    "plt.xlabel('Chi-square statistic')\n",
    "plt.ylabel('Probability Density Function')\n",
    "plt.title('Chi-square Distribution (10 degrees of freedom)')\n",
    "\n",
    "# Show the plot\n",
    "plt.legend()\n",
    "plt.grid(True)\n",
    "plt.show()\n"
   ]
  },
  {
   "cell_type": "markdown",
   "id": "ec098046",
   "metadata": {},
   "source": [
    "The resulting plot will show the chi-square distribution with the shaded area indicating the region corresponding to a chi-square statistic of 15. The x-axis represents the chi-square statistic values, and the y-axis represents the probability density function"
   ]
  },
  {
   "cell_type": "markdown",
   "id": "4064d704",
   "metadata": {},
   "source": [
    "# Q7. A random sample of 1000 people was asked if they preferred Coke or Pepsi. Of the sample, 520 preferred Coke. Calculate a 99% confidence interval for the true proportion of people in the population who prefer Coke."
   ]
  },
  {
   "cell_type": "code",
   "execution_count": 9,
   "id": "652199c6",
   "metadata": {},
   "outputs": [
    {
     "name": "stdout",
     "output_type": "stream",
     "text": [
      "99% Confidence Interval: (0.4793, 0.5607)\n"
     ]
    }
   ],
   "source": [
    "import statsmodels.stats.proportion as proportion\n",
    "\n",
    "# Sample statistics\n",
    "sample_size = 1000\n",
    "coke_preference = 520\n",
    "\n",
    "# Calculate the proportion\n",
    "proportion_coke = coke_preference / sample_size\n",
    "\n",
    "# Calculate the confidence interval\n",
    "conf_interval = proportion.proportion_confint(coke_preference, sample_size, alpha=0.01, method='normal')\n",
    "\n",
    "# Print the confidence interval\n",
    "print(f\"99% Confidence Interval: ({conf_interval[0]:.4f}, {conf_interval[1]:.4f})\")\n"
   ]
  },
  {
   "cell_type": "markdown",
   "id": "258850df",
   "metadata": {},
   "source": [
    "## Q8. A researcher hypothesizes that a coin is biased towards tails. They flip the coin 100 times and observe 45 tails. Conduct a chi-square goodness of fit test to determine if the observed frequencies match the expected frequencies of a fair coin. Use a significance level of 0.05."
   ]
  },
  {
   "cell_type": "code",
   "execution_count": 10,
   "id": "2f4adc8f",
   "metadata": {},
   "outputs": [
    {
     "name": "stdout",
     "output_type": "stream",
     "text": [
      "Chi-square statistic: 1.0000\n",
      "P-value: 0.3173\n",
      "Fail to reject the null hypothesis. The coin is fair.\n"
     ]
    }
   ],
   "source": [
    "import scipy.stats as stats\n",
    "\n",
    "# Observed frequencies\n",
    "observed_frequencies = [45, 55]  # 45 tails, 55 heads\n",
    "\n",
    "# Expected frequencies for a fair coin\n",
    "expected_frequencies = [50, 50]  # 50 tails, 50 heads\n",
    "\n",
    "# Perform the chi-square goodness of fit test\n",
    "chi2, p_value = stats.chisquare(f_obs=observed_frequencies, f_exp=expected_frequencies)\n",
    "\n",
    "# Print the test results\n",
    "print(f\"Chi-square statistic: {chi2:.4f}\")\n",
    "print(f\"P-value: {p_value:.4f}\")\n",
    "\n",
    "# Compare the p-value to the significance level\n",
    "alpha = 0.05\n",
    "if p_value <= alpha:\n",
    "    print(\"Reject the null hypothesis. The coin is biased.\")\n",
    "else:\n",
    "    print(\"Fail to reject the null hypothesis. The coin is fair.\")\n"
   ]
  },
  {
   "cell_type": "markdown",
   "id": "092b1ec9",
   "metadata": {},
   "source": [
    "\n",
    "Based on the results of the chi-square goodness of fit test with a chi-square statistic of 1.0000 and a p-value of 0.3173, we fail to reject the null hypothesis. The null hypothesis states that the coin is fair, meaning it is not biased towards tails.\n",
    "\n",
    "The p-value of 0.3173 is greater than the significance level of 0.05, indicating that the observed frequencies (45 tails and 55 heads) are not significantly different from the expected frequencies for a fair coin (50 tails and 50 heads). In other words, the data does not provide enough evidence to conclude that the coin is biased towards ta"
   ]
  },
  {
   "cell_type": "markdown",
   "id": "2e6cbff3",
   "metadata": {},
   "source": [
    "## Q9. A study was conducted to determine if there is an association between smoking status (smoker or non-smoker) and lung cancer diagnosis (yes or no). The results are shown in the contingency table below. Conduct a chi-square test for independence to determine if there is a significant association between smoking status and lung cancer diagnosis.\n",
    "\n",
    "## Use a significance level of 0.05.\n",
    "\n",
    "Lung Cancer: Yes Lung Cancer: No\n",
    "\n",
    "- Smoker 60 140\n",
    "- Non-smoker 30 170\n"
   ]
  },
  {
   "cell_type": "code",
   "execution_count": 11,
   "id": "7b793d4b",
   "metadata": {},
   "outputs": [
    {
     "name": "stdout",
     "output_type": "stream",
     "text": [
      "Chi-square statistic: 12.0573\n",
      "P-value: 0.0005\n",
      "Reject the null hypothesis. There is a significant association between smoking status and lung cancer diagnosis.\n"
     ]
    }
   ],
   "source": [
    "import scipy.stats as stats\n",
    "\n",
    "# Contingency table\n",
    "observed = [[60, 140], [30, 170]]  # Lung Cancer: Yes/No and Smoker/Non-smoker\n",
    "\n",
    "# Perform the chi-square test for independence\n",
    "chi2, p_value, dof, expected = stats.chi2_contingency(observed)\n",
    "\n",
    "# Print the test results\n",
    "print(f\"Chi-square statistic: {chi2:.4f}\")\n",
    "print(f\"P-value: {p_value:.4f}\")\n",
    "\n",
    "# Compare the p-value to the significance level\n",
    "alpha = 0.05\n",
    "if p_value <= alpha:\n",
    "    print(\"Reject the null hypothesis. There is a significant association between smoking status and lung cancer diagnosis.\")\n",
    "else:\n",
    "    print(\"Fail to reject the null hypothesis. There is no significant association between smoking status and lung cancer diagnosis.\")\n"
   ]
  },
  {
   "cell_type": "markdown",
   "id": "a29b863b",
   "metadata": {},
   "source": [
    "Based on the results of the chi-square test for independence with a chi-square statistic of 12.0573 and a p-value of 0.0005, we reject the null hypothesis. The null hypothesis assumes that there is no association between smoking status and lung cancer diagnosis.\n",
    "\n",
    "The low p-value of 0.0005, which is less than the significance level of 0.05, indicates that the observed association between smoking status and lung cancer diagnosis is statistically significant. In other words, the data provides strong evidence to suggest that there is an association between these two variables.\n",
    "\n",
    "Therefore, we can conclude that there is a significant association between smoking status and lung cancer diagnosis based on this test. The results suggest that being a smoker or a non-smoker is associated with the likelihood of being diagnosed with lung cancer.\n",
    "\n",
    "\n",
    "\n",
    "\n"
   ]
  },
  {
   "cell_type": "markdown",
   "id": "dac0be5b",
   "metadata": {},
   "source": [
    "## Q10. A study was conducted to determine if the proportion of people who prefer milk chocolate, dark chocolate, or white chocolate is different in the U.S. versus the U.K. A random sample of 500 people from the U.S. and a random sample of 500 people from the U.K. were surveyed. The results are shown in the contingency table below. Conduct a chi-square test for independence to determine if there is a significant association between chocolate preference and country of origin.\n",
    "\n",
    "Milk Chocolate, Dark Chocolate, White Chocolate\n",
    "\n",
    "- U.S. (n=500) 200 150 150\n",
    "- U.K. (n=500) 225 175 100\n",
    "\n",
    "\n",
    "## Use a significance level of 0.01."
   ]
  },
  {
   "cell_type": "code",
   "execution_count": 12,
   "id": "e8d68459",
   "metadata": {},
   "outputs": [
    {
     "name": "stdout",
     "output_type": "stream",
     "text": [
      "Chi-square statistic: 13.3937\n",
      "P-value: 0.0012\n",
      "Reject the null hypothesis. There is a significant association between chocolate preference and country of origin.\n"
     ]
    }
   ],
   "source": [
    "import scipy.stats as stats\n",
    "\n",
    "# Contingency table\n",
    "observed = [[200, 150, 150], [225, 175, 100]]  # Milk Chocolate, Dark Chocolate, White Chocolate; U.S., U.K.\n",
    "\n",
    "# Perform the chi-square test for independence\n",
    "chi2, p_value, dof, expected = stats.chi2_contingency(observed)\n",
    "\n",
    "# Print the test results\n",
    "print(f\"Chi-square statistic: {chi2:.4f}\")\n",
    "print(f\"P-value: {p_value:.4f}\")\n",
    "\n",
    "# Compare the p-value to the significance level\n",
    "alpha = 0.01\n",
    "if p_value <= alpha:\n",
    "    print(\"Reject the null hypothesis. There is a significant association between chocolate preference and country of origin.\")\n",
    "else:\n",
    "    print(\"Fail to reject the null hypothesis. There is no significant association between chocolate preference and country of origin.\")\n"
   ]
  },
  {
   "cell_type": "markdown",
   "id": "270ca510",
   "metadata": {},
   "source": [
    "# Q11. A random sample of 30 people was selected from a population with an unknown mean and standard deviation. The sample mean was found to be 72 and the sample standard deviation was found to be 10. Conduct a hypothesis test to determine if the population mean is significantly different from 70. Use a significance level of 0.05."
   ]
  },
  {
   "cell_type": "code",
   "execution_count": 13,
   "id": "d2394f85",
   "metadata": {},
   "outputs": [
    {
     "name": "stdout",
     "output_type": "stream",
     "text": [
      "T-statistic: inf\n",
      "P-value: 0.0000\n",
      "Reject the null hypothesis. The population mean is significantly different from 70.\n"
     ]
    },
    {
     "name": "stderr",
     "output_type": "stream",
     "text": [
      "C:\\Python310\\lib\\site-packages\\scipy\\stats\\_axis_nan_policy.py:502: RuntimeWarning: Precision loss occurred in moment calculation due to catastrophic cancellation. This occurs when the data are nearly identical. Results may be unreliable.\n",
      "  res = hypotest_fun_out(*samples, **kwds)\n"
     ]
    }
   ],
   "source": [
    "import scipy.stats as stats\n",
    "\n",
    "# Sample statistics\n",
    "sample_mean = 72\n",
    "sample_std = 10\n",
    "sample_size = 30\n",
    "\n",
    "# Null hypothesis\n",
    "null_mean = 70\n",
    "\n",
    "# Perform the one-sample t-test\n",
    "t_stat, p_value = stats.ttest_1samp([sample_mean]*sample_size, null_mean)\n",
    "\n",
    "# Print the test results\n",
    "print(f\"T-statistic: {t_stat:.4f}\")\n",
    "print(f\"P-value: {p_value:.4f}\")\n",
    "\n",
    "# Compare the p-value to the significance level\n",
    "alpha = 0.05\n",
    "if p_value <= alpha:\n",
    "    print(\"Reject the null hypothesis. The population mean is significantly different from 70.\")\n",
    "else:\n",
    "    print(\"Fail to reject the null hypothesis. The population mean is not significantly different from 70.\")\n"
   ]
  },
  {
   "cell_type": "markdown",
   "id": "cd29dfce",
   "metadata": {},
   "source": [
    "\n",
    "Based on the results of the one-sample t-test with a t-statistic of infinity (inf) and a p-value of 0.0000, we reject the null hypothesis. The null hypothesis assumes that the population mean is equal to 70.\n",
    "\n",
    "The extremely large t-statistic and the very small p-value indicate a highly significant result. This suggests that the sample mean of 72 is significantly different from the hypothesized population mean of 70.\n",
    "\n",
    "Therefore, we can conclude that there is sufficient evidence to suggest that the population mean is significantly different from 70 based on this test. The sample data provides strong support for the claim that the true population mean is not equal to 70."
   ]
  },
  {
   "cell_type": "code",
   "execution_count": null,
   "id": "d2f2f3c4",
   "metadata": {},
   "outputs": [],
   "source": []
  }
 ],
 "metadata": {
  "kernelspec": {
   "display_name": "Python 3 (ipykernel)",
   "language": "python",
   "name": "python3"
  },
  "language_info": {
   "codemirror_mode": {
    "name": "ipython",
    "version": 3
   },
   "file_extension": ".py",
   "mimetype": "text/x-python",
   "name": "python",
   "nbconvert_exporter": "python",
   "pygments_lexer": "ipython3",
   "version": "3.10.9"
  }
 },
 "nbformat": 4,
 "nbformat_minor": 5
}
