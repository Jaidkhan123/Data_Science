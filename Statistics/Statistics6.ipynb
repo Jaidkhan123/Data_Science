{
 "cells": [
  {
   "cell_type": "markdown",
   "id": "ae22b351",
   "metadata": {},
   "source": [
    "# Q1: What is the difference between a t-test and a z-test? Provide an example scenario where you would use each type of test."
   ]
  },
  {
   "cell_type": "markdown",
   "id": "38e0a498",
   "metadata": {},
   "source": [
    "The `t-test` and the `z-test` are both statistical tests used to make inferences about population parameters based on sample data. The main difference between these tests lies in the assumptions made about the population and the available information.\n",
    "\n",
    "`T-Test`:\n",
    "The t-test is used when the population standard deviation is unknown and needs to be estimated from the sample. It is appropriate for small sample sizes (typically when the sample size is less than 30) and when the population follows a normal distribution.\n",
    "Example Scenario: Let's say you want to compare the mean scores of two groups of students who have undergone different teaching methods (Group A and Group B). You collect a random sample of 20 students from each group and measure their scores. Since the population standard deviation is unknown, you would use a t-test to determine if there is a significant difference between the mean scores of the two groups.\n",
    "\n",
    "`Z-Test`:\n",
    "The z-test is used when the population standard deviation is known or when the sample size is large (typically when the sample size is greater than 30). It assumes that the population follows a normal distribution.\n",
    "Example Scenario: Suppose you want to test whether the mean height of a population of adult males is significantly different from a given standard height. You collect a large sample of 200 adult males and measure their heights. Since you have a large sample and the population standard deviation is known or can be assumed, you can use a z-test to determine if the mean height significantly differs from the standard height.\n",
    "\n"
   ]
  },
  {
   "cell_type": "markdown",
   "id": "ac00c6bd",
   "metadata": {},
   "source": [
    "# Q2: Differentiate between one-tailed and two-tailed tests."
   ]
  },
  {
   "cell_type": "markdown",
   "id": "7274a2ed",
   "metadata": {},
   "source": [
    "\n",
    "`One-Tailed Test`:\n",
    "A one-tailed test is a statistical test where the alternative hypothesis is directional, meaning it specifies the expected direction of the effect or difference. It focuses on determining if the observed data is significantly greater than or less than a certain value, without considering the possibility of an effect in the opposite direction. The critical region for the test is only on one side of the distribution.\n",
    "\n",
    "- `Example`: Let's say a pharmaceutical company develops a new drug and expects it to increase the average response time in a specific task. The one-tailed hypothesis would state that the new drug has a statistically significant effect by reducing the response time. The test would focus on determining if the response time is significantly lower than a certain threshold.\n",
    "\n",
    "`Two-Tailed Test`:\n",
    "A two-tailed test is a statistical test where the alternative hypothesis is non-directional, meaning it does not specify the expected direction of the effect or difference. It is used to determine if the observed data is significantly different from a certain value, without assuming a specific direction. The critical region for the test is divided between both sides of the distribution.\n",
    "\n",
    "- `Example`: Suppose a researcher wants to investigate if a new teaching method has an effect on exam scores. The two-tailed hypothesis would state that the new teaching method has a statistically significant effect on the scores, without specifying if it would increase or decrease the scores. The test would determine if the exam scores significantly differ from a specific value."
   ]
  },
  {
   "cell_type": "markdown",
   "id": "d0f1905c",
   "metadata": {},
   "source": [
    "# Q3: Explain the concept of Type 1 and Type 2 errors in hypothesis testing. Provide an example scenario for each type of error."
   ]
  },
  {
   "cell_type": "markdown",
   "id": "37d95457",
   "metadata": {},
   "source": [
    "\n",
    "`Type 1` and `Type 2` errors are two possible errors that can occur in hypothesis testing:\n",
    "\n",
    "`Type 1 Error` (False Positive):\n",
    "A Type 1 error occurs when the null hypothesis is incorrectly rejected, indicating a significant effect or difference when, in reality, no such effect or difference exists. It is also known as a false positive. The significance level (alpha) determines the probability of making a Type 1 error.\n",
    "\n",
    "- `Example Scenario`: Let's consider a criminal trial where the null hypothesis is that the defendant is innocent. A Type 1 error would occur if the jury incorrectly rejects the null hypothesis and convicts the defendant even though they are innocent. In this case, an innocent person is wrongly found guilty.\n",
    "\n",
    "`Type 2 Error` (False Negative):\n",
    "A Type 2 error occurs when the null hypothesis is incorrectly failed to be rejected, suggesting no significant effect or difference when, in reality, there is an effect or difference present. It is also known as a false negative. The probability of making a Type 2 error is denoted as beta and is influenced by factors such as sample size and effect size.\n",
    "\n",
    "- `Example Scenario`: Consider a medical test for a rare disease where the null hypothesis is that a patient does not have the disease. A Type 2 error would occur if the test incorrectly fails to reject the null hypothesis and declares the patient as disease-free, even though they have the disease. In this case, a sick individual is wrongly classified as healthy.\n",
    "\n",
    "It's important to note that there is an inherent trade-off between Type 1 and Type 2 errors. Reducing the probability of one type of error increases the probability of the other. The balance between these two types of errors is often managed by selecting an appropriate significance level (alpha) and determining an acceptable level of risk"
   ]
  },
  {
   "cell_type": "markdown",
   "id": "9ee50a4c",
   "metadata": {},
   "source": [
    "# Q4: Explain Bayes's theorem with an example."
   ]
  },
  {
   "cell_type": "markdown",
   "id": "fdcd9aa3",
   "metadata": {},
   "source": [
    "Bayes's theorem is a fundamental concept in probability theory that enables the updating of the probability of an event based on new evidence. It provides a framework for incorporating prior knowledge and adjusting beliefs in light of new information. The theorem is named after Thomas Bayes, an 18th-century mathematician.\n",
    "\n",
    "Bayes's theorem can be stated as follows:\n",
    "\n",
    "- $P(\\frac{A}{B}) = \\frac{(P(\\frac{B}{A})  P(A))} { P(B) }$\n",
    "\n",
    "Where:\n",
    "- P(A|B) represents the conditional probability of event A given event B.\n",
    "- P(B|A) represents the conditional probability of event B given event A.\n",
    "- P(A) and P(B) represent the probabilities of event A and event B, respectively.\n",
    "\n",
    "In words, Bayes's theorem states that the probability of event A occurring given that event B has occurred is equal to the probability of event B occurring given that event A has occurred, multiplied by the prior probability of event A, divided by the prior probability of event B.\n",
    "\n",
    "`Example`:\n",
    "Let's consider a medical scenario. Suppose there is a certain disease, and the prevalence of the disease in the population is 1%, which means that P(A) (the prior probability of having the disease) is 0.01.\n",
    "\n",
    "Now, let's assume there is a diagnostic test for this disease that has been shown to be 95% accurate. This accuracy can be represented as P(B|A), which is the probability of a positive test result given that the person actually has the disease.\n",
    "\n",
    "If an individual tests positive for the disease, we want to know the probability that they truly have the disease, P(A|B). Let's say the person's test result is positive (event B).\n",
    "\n",
    "Using Bayes's theorem, we can calculate the probability as follows:\n",
    "\n",
    "P(A|B) = (P(B|A) * P(A)) / P(B)\n",
    "\n",
    "P(A|B) = (0.95 * 0.01) / P(B)\n",
    "\n",
    "Here, P(B) represents the probability of testing positive for the disease, which can be calculated by considering both true positives and false positives. It can be expressed as:\n",
    "\n",
    "P(B) = (P(B|A) * P(A)) + (P(B|not A) * P(not A))"
   ]
  },
  {
   "cell_type": "markdown",
   "id": "43423490",
   "metadata": {},
   "source": [
    "# Q5: What is a confidence interval? How to calculate the confidence interval, explain with an example."
   ]
  },
  {
   "cell_type": "markdown",
   "id": "5dda9d5b",
   "metadata": {},
   "source": [
    "A confidence interval is a range of values that is likely to contain the true population parameter based on a sample from that population. It provides an estimate of the precision or uncertainty associated with an estimate.\n",
    "\n",
    "To calculate a confidence interval, the following information is needed:\n",
    "\n",
    "`Sample Mean` (x̄): The average value of the sample.\n",
    "`Standard Deviation` (σ) or Standard Error (SE): A measure of the variability in the sample. The choice between σ or SE depends on whether the population standard deviation is known or estimated from the sample.\n",
    "`Sample Size` (n): The number of observations in the sample.\n",
    "Confidence Level (CL): The desired level of confidence, often expressed as a percentage. Common choices are 90%, 95%, or 99%.\n",
    "The formula for calculating a confidence interval is:\n",
    "\n",
    "Confidence Interval = x̄ ± (Critical Value * Standard Error)\n",
    "\n",
    "The critical value corresponds to the desired confidence level and takes into account the distribution of the sample data. It is obtained from statistical tables or calculated using statistical software.\n",
    "\n",
    "`Example`:\n",
    "Let's say you want to estimate the average weight of a population of fish. You collect a random sample of 100 fish and measure their weights. The sample mean weight is found to be 500 grams, and the sample standard deviation is 50 grams. You want to calculate a 95% confidence interval for the population mean weight.\n",
    "\n",
    "Calculate the Standard Error (SE):\n",
    "SE = σ / √n, where σ is the sample standard deviation and n is the sample size.\n",
    "SE = 50 / √100 = 50 / 10 = 5 grams\n",
    "\n",
    "Determine the Critical Value:\n",
    "For a 95% confidence level, the critical value can be obtained from a standard normal distribution table or statistical software. Let's assume the critical value is 1.96.\n",
    "\n",
    "Calculate the Confidence Interval:\n",
    "Confidence Interval = x̄ ± (Critical Value * SE)\n",
    "Confidence Interval = 500 ± (1.96 * 5) = 500 ± 9.8\n",
    "Confidence Interval = (490.2, 509.8)\n",
    "\n",
    "Interpretation:\n",
    "Based on the sample data, we can be 95% confident that the true population mean weight of the fish lies within the interval of 490.2 grams to 509.8 grams. This means that if we repeated the sampling process multiple times, 95% of the resulting confidence intervals would contain the true population mean weight.\n",
    "\n",
    "The confidence interval provides a range of plausible values for the population parameter, taking into account the variability in the sample data and the desired level of confidence."
   ]
  },
  {
   "cell_type": "markdown",
   "id": "41c78f56",
   "metadata": {},
   "source": [
    "# Q6. Use Bayes' Theorem to calculate the probability of an event occurring given prior knowledge of the event's probability and new evidence. Provide a sample problem and solution."
   ]
  },
  {
   "cell_type": "markdown",
   "id": "4c17d056",
   "metadata": {},
   "source": [
    "`Problem`:\n",
    "Suppose there is a certain medical test to diagnose a rare disease. The disease has a prevalence of 0.5% in the population, which means that P(Disease) = 0.005. The test has a sensitivity of 98%, meaning that P(Positive Test Result | Disease) = 0.98. However, the test also has a false positive rate of 5%, indicating that P(Positive Test Result | No Disease) = 0.05. Now, given that an individual tests positive for the disease, what is the probability that they actually have the disease (P(Disease | Positive Test Result))?\n",
    "\n",
    "`Solution`\n",
    "To calculate P(Disease | Positive Test Result) using Bayes' theorem, we need to use the following formula:\n",
    "\n",
    "P(Disease | Positive Test Result) = (P(Positive Test Result | Disease) * P(Disease)) / P(Positive Test Result)\n",
    "\n",
    "First, let's calculate P(Positive Test Result) using the law of total probability:\n",
    "\n",
    "P(Positive Test Result) = (P(Positive Test Result | Disease) * P(Disease)) + (P(Positive Test Result | No Disease) * P(No Disease))\n",
    "\n",
    "Given the information provided, P(Positive Test Result) = (0.98 * 0.005) + (0.05 * 0.995) = 0.0099 + 0.04975 = 0.05965\n",
    "\n",
    "Now, substituting the values into Bayes' theorem:\n",
    "\n",
    "P(Disease | Positive Test Result) = (0.98 * 0.005) / 0.05965 ≈ 0.0823\n",
    "\n",
    "So, the probability that an individual actually has the disease given a positive test result is approximately 0.0823, or about 8.23%.\n",
    "\n",
    "This calculation highlights how the probability of having the disease changes based on the information provided by the positive test result. Even with a high sensitivity of 98%, the low prevalence of the disease and the possibility of false positives contribute to a relatively low probability of having the disease given a positive test result. Bayes' theorem allows us to update our beliefs and revise the probabilities based on new evidence."
   ]
  },
  {
   "cell_type": "markdown",
   "id": "d21ef835",
   "metadata": {},
   "source": [
    "# Q7. Calculate the 95% confidence interval for a sample of data with a mean of 50 and a standard deviation of 5. Interpret the results."
   ]
  },
  {
   "cell_type": "markdown",
   "id": "afc4edf4",
   "metadata": {},
   "source": [
    "\n",
    "To calculate the 95% confidence interval, we'll use the following formula:\n",
    "\n",
    "Confidence Interval = Sample Mean ± (Critical Value * (Standard Deviation / √Sample Size))\n",
    "\n",
    "Given:\n",
    "Sample Mean (x̄) = 50\n",
    "Standard Deviation (σ) = 5\n",
    "\n",
    "The critical value for a 95% confidence interval can be obtained from a standard normal distribution table or using statistical software. For a 95% confidence level, the critical value is approximately 1.96.\n",
    "\n",
    "Assuming you have the sample size (n), please provide it so that we can calculate the confidence interval accurately."
   ]
  },
  {
   "cell_type": "markdown",
   "id": "9ed56712",
   "metadata": {},
   "source": [
    "# Q8. What is the margin of error in a confidence interval? How does sample size affect the margin of error? Provide an example of a scenario where a larger sample size would result in a smaller margin of error."
   ]
  },
  {
   "cell_type": "markdown",
   "id": "1c6af250",
   "metadata": {},
   "source": [
    "The margin of error is the range around the sample estimate (such as the sample mean or proportion) that quantifies the uncertainty associated with the estimate. It represents the maximum likely difference between the true population parameter and the sample estimate.\n",
    "\n",
    "In a confidence interval, the margin of error is calculated by multiplying the critical value (obtained from the distribution corresponding to the desired confidence level) by the standard error of the sample. The margin of error provides a measure of the precision or variability of the estimate.\n",
    "\n",
    "A larger sample size generally leads to a smaller margin of error. This is because as the sample size increases, the standard error decreases. With a larger sample, the estimate becomes more precise and less influenced by random variation in the data. Consequently, the margin of error decreases, indicating a narrower range of plausible values for the population parameter.\n",
    "\n",
    "Example:\n",
    "Suppose a political survey is conducted to estimate the proportion of voters in a city who support a particular candidate. The initial sample of 200 voters yields an estimate of 60% in favor of the candidate, with a margin of error of ±5%.\n",
    "\n",
    "Now, imagine a scenario where the sample size is increased to 1000 voters. With the larger sample size, the estimate becomes more accurate and precise. As a result, the margin of error decreases, let's say to ±2%. This means that the range around the estimated proportion of voters in favor of the candidate narrows, providing a more precise interval estimate."
   ]
  },
  {
   "cell_type": "markdown",
   "id": "4dc8eee8",
   "metadata": {},
   "source": [
    "# Q9. Calculate the z-score for a data point with a value of 75, a population mean of 70, and a population standard deviation of 5. Interpret the results."
   ]
  },
  {
   "cell_type": "markdown",
   "id": "3010a302",
   "metadata": {},
   "source": [
    "To calculate the z-score, we use the following formula:\n",
    "\n",
    "- z = (x - μ) / σ\n",
    "\n",
    "Where:\n",
    "\n",
    "- x is the data point value,\n",
    "- μ is the population mean,\n",
    "- σ is the population standard deviation,\n",
    "- z is the z-score.\n",
    "Given:\n",
    "- x = 75\n",
    "- μ = 70\n",
    "- σ = 5\n",
    "\n",
    "Now, let's calculate the z-score:\n",
    "\n",
    "- z = (75 - 70) / 5 = 1\n",
    "\n",
    "The z-score is 1.\n",
    "\n",
    "`Interpretation`:\n",
    "A z-score of 1 means that the data point (75) is 1 standard deviation above the population mean (70). It indicates that the value of the data point is relatively higher compared to the average value in the population. The z-score allows for standardized comparison and provides a measure of how far a particular data point deviates from the mean in terms of standard deviations."
   ]
  },
  {
   "cell_type": "markdown",
   "id": "0ccf4b9f",
   "metadata": {},
   "source": [
    "# Q10. In a study of the effectiveness of a new weight loss drug, a sample of 50 participants lost an average of 6 pounds with a standard deviation of 2.5 pounds. Conduct a hypothesis test to determine if the drug is significantly effective at a 95% confidence level using a t-test."
   ]
  },
  {
   "cell_type": "markdown",
   "id": "954b9c2b",
   "metadata": {},
   "source": [
    "To conduct a hypothesis test to determine if the weight loss drug is significantly effective, we need to set up the null hypothesis (H0) and the alternative hypothesis (Ha). The t-test will help us evaluate if there is a significant difference between the sample mean and a hypothesized population mean.\n",
    "\n",
    "`Null hypothesis (H0)`: The weight loss drug is not significantly effective. (μ = 0)\n",
    "`Alternative hypothesis (Ha)`: The weight loss drug is significantly effective. (μ ≠ 0)\n",
    "\n",
    "Next, we can perform the t-test using the given information:\n",
    "\n",
    "- Sample size (n) = 50\n",
    "- Sample mean (x̄) = 6 pounds\n",
    "- Sample standard deviation (s) = 2.5 pounds\n",
    "- Confidence level = 95%\n",
    "\n",
    "To conduct the t-test, we need to calculate the t-value and compare it to the critical t-value at the specified confidence level.\n",
    "\n",
    "`Step 1`: Calculate the standard error (SE):\n",
    "- SE = s / √n\n",
    "- SE = 2.5 / √50 ≈ 0.3536\n",
    "\n",
    "`Step 2`: Calculate the t-value:\n",
    "- t = (x̄ - μ) / SE\n",
    "- μ = 0 (based on the null hypothesis)\n",
    "- t = (6 - 0) / 0.3536 ≈ 16.97\n",
    "\n",
    "`Step 3`: Determine the critical t-value:\n",
    "- Since the sample size is relatively large (n > 30), we can use the critical t-value from the standard normal distribution. For a 95% confidence level and a two-tailed test, the critical t-value is approximately ±1.96.\n",
    "\n",
    "`Step 4`: Compare the calculated t-value with the critical t-value:\n",
    "Since the calculated t-value (16.97) is much larger than the critical t-value (±1.96), we can reject the null hypothesis.\n",
    "\n",
    "`Conclusion`:\n",
    "Based on the results of the t-test, there is sufficient evidence to suggest that the weight loss drug is significantly effective at a 95% confidence level. The sample data indicates a substantial difference between the average weight loss observed and the hypothesized population mean of zero."
   ]
  },
  {
   "cell_type": "markdown",
   "id": "797a4c1f",
   "metadata": {},
   "source": [
    "# Q11. In a survey of 500 people, 65% reported being satisfied with their current job. Calculate the 95%confidence interval for the true proportion of people who are satisfied with their job."
   ]
  },
  {
   "cell_type": "markdown",
   "id": "ee216990",
   "metadata": {},
   "source": [
    "\n",
    "To calculate the 95% confidence interval for the true proportion of people satisfied with their job, we'll use the following formula:\n",
    "\n",
    "Confidence Interval = Sample Proportion ± (Critical Value * Standard Error)\n",
    "\n",
    "Given:\n",
    "- Sample Size (n) = 500\n",
    "- Sample Proportion (p) = 65% = 0.65\n",
    "\n",
    "First, let's calculate the standard error (SE):\n",
    "\n",
    "- SE = √((p * (1 - p)) / n)\n",
    "- SE = √((0.65 * (1 - 0.65)) / 500)\n",
    "- SE ≈ 0.01878\n",
    "\n",
    "Next, we need to determine the critical value at a 95% confidence level. For proportions, we use the z-score corresponding to the desired confidence level.\n",
    "\n",
    "For a 95% confidence level, the critical z-value can be obtained from a standard normal distribution table or using statistical software. The critical z-value for a 95% confidence level is approximately 1.96.\n",
    "\n",
    "Now, we can calculate the confidence interval:\n",
    "\n",
    "Confidence Interval = 0.65 ± (1.96 * 0.01878)\n",
    "Confidence Interval = (0.6139, 0.6861)\n",
    "\n",
    "`Interpretation`:\n",
    "Based on the survey data, we can be 95% confident that the true proportion of people satisfied with their job lies within the range of approximately 61.39% to 68.61%. This means that if we were to repeat the survey multiple times and construct confidence intervals, approximately 95% of those intervals would contain the true population proportion of job satisfaction.\n",
    "\n",
    "The confidence interval provides a range of plausible values for the true population proportion based on the sample data. It quantifies the uncertainty associated with the estimate and helps us understand the precision of the survey results."
   ]
  },
  {
   "cell_type": "markdown",
   "id": "b72da806",
   "metadata": {},
   "source": [
    "# Q12. A researcher is testing the effectiveness of two different teaching methods on student performance.Sample A has a mean score of 85 with a standard deviation of 6, while sample B has a mean score of 82 with a standard deviation of 5. Conduct a hypothesis test to determine if the two teaching methods have a significant difference in student performance using a t-test with a significance level of 0.01."
   ]
  },
  {
   "cell_type": "markdown",
   "id": "783d8421",
   "metadata": {},
   "source": [
    "\n",
    "To determine if there is a significant difference in student performance between the two teaching methods, we can conduct an independent samples t-test. The null hypothesis (H0) assumes that there is no significant difference, while the alternative hypothesis (Ha) assumes that there is a significant difference.\n",
    "\n",
    "`Null hypothesis (H0)`: The mean scores of the two teaching methods are equal. (μA = μB)\n",
    "`Alternative hypothesis (Ha)`: The mean scores of the two teaching methods are significantly different. (μA ≠ μB)\n",
    "\n",
    "Given:\n",
    "Sample A:\n",
    "- Mean score (x̄A) = 85\n",
    "- Standard deviation (sA) = 6\n",
    "- Sample size (nA) = ?\n",
    "\n",
    "Sample B:\n",
    "- Mean score (x̄B) = 82\n",
    "- Standard deviation (sB) = 5\n",
    "- Sample size (nB) = ?\n",
    "\n",
    "- Significance level (α) = 0.01\n",
    "\n",
    "Since the sample sizes (nA and nB) are not provided, we cannot proceed with the t-test without this information. Please provide the sample sizes for both groups so that we can perform the hypothesis test accurately."
   ]
  },
  {
   "cell_type": "markdown",
   "id": "00ae030a",
   "metadata": {},
   "source": [
    "# Q13. A population has a mean of 60 and a standard deviation of 8. A sample of 50 observations has a mean of 65. Calculate the 90% confidence interval for the true population mean."
   ]
  },
  {
   "cell_type": "markdown",
   "id": "086d54e9",
   "metadata": {},
   "source": [
    "To calculate the 90% confidence interval for the true population mean, we'll use the following formula:\n",
    "\n",
    "Confidence Interval = Sample Mean ± (Critical Value * (Standard Deviation / √Sample Size))\n",
    "\n",
    "Given:\n",
    "- Population mean (μ) = 60\n",
    "- Population standard deviation (σ) = 8\n",
    "- Sample size (n) = 50\n",
    "- Sample mean (x̄) = 65\n",
    "\n",
    "First, let's calculate the critical value corresponding to a 90% confidence level. We can use the z-score from the standard normal distribution.\n",
    "\n",
    "For a 90% confidence level, the critical z-value can be obtained from a standard normal distribution table or using statistical software. The critical z-value for a 90% confidence level is approximately 1.645.\n",
    "\n",
    "Now, let's calculate the confidence interval:\n",
    "\n",
    "Confidence Interval = 65 ± (1.645 * (8 / √50))\n",
    "\n",
    "To calculate the standard error (SE), we divide the standard deviation by the square root of the sample size:\n",
    "\n",
    "- SE = σ / √n\n",
    "- SE = 8 / √50 ≈ 1.1314\n",
    "\n",
    "- Confidence Interval = 65 ± (1.645 * 1.1314)\n",
    "- Confidence Interval = (63.22, 66.78)\n",
    "\n",
    "`Interpretation`:\n",
    "Based on the sample data, we can be 90% confident that the true population mean falls within the range of approximately 63.22 to 66.78. This means that if we were to repeat the sampling process and construct confidence intervals, approximately 90% of those intervals would contain the true population mean.\n",
    "\n",
    "The confidence interval provides a range of plausible values for the true population mean based on the sample data. It quantifies the uncertainty associated with the estimate and helps us understand the precision of the sample mean as an estimate of the population mean."
   ]
  },
  {
   "cell_type": "markdown",
   "id": "85be55d5",
   "metadata": {},
   "source": [
    "# Q14. In a study of the effects of caffeine on reaction time, a sample of 30 participants had an average reaction time of 0.25 seconds with a standard deviation of 0.05 seconds. Conduct a hypothesis test to determine if the caffeine has a significant effect on reaction time at a 90% confidence level using a t-test."
   ]
  },
  {
   "cell_type": "markdown",
   "id": "52759137",
   "metadata": {},
   "source": [
    "\n",
    "To conduct a hypothesis test to determine if caffeine has a significant effect on reaction time, we need to set up the null hypothesis (H0) and the alternative hypothesis (Ha). The t-test will help us evaluate if there is a significant difference between the sample mean and a hypothesized population mean.\n",
    "\n",
    "Null hypothesis (H0): Caffeine does not have a significant effect on reaction time. (μ = μ0)\n",
    "Alternative hypothesis (Ha): Caffeine has a significant effect on reaction time. (μ ≠ μ0)\n",
    "\n",
    "Given:\n",
    "Sample size (n) = 30\n",
    "Sample mean (x̄) = 0.25 seconds\n",
    "Sample standard deviation (s) = 0.05 seconds\n",
    "Confidence level = 90%\n",
    "\n",
    "To conduct the t-test, we need to calculate the t-value and compare it to the critical t-value at the specified confidence level.\n",
    "\n",
    "Step 1: Set the hypothesized population mean (μ0):\n",
    "Let's assume that the null hypothesis states that there is no effect, so we can set μ0 to any value. For simplicity, we'll set μ0 to 0.\n",
    "\n",
    "Step 2: Calculate the standard error (SE):\n",
    "SE = s / √n\n",
    "SE = 0.05 / √30 ≈ 0.00913\n",
    "\n",
    "Step 3: Calculate the t-value:\n",
    "t = (x̄ - μ0) / SE\n",
    "t = (0.25 - 0) / 0.00913 ≈ 27.38\n",
    "\n",
    "Step 4: Determine the critical t-value:\n",
    "Since we have a two-tailed test at a 90% confidence level and 29 degrees of freedom (n-1), the critical t-value can be obtained from a t-distribution table or using statistical software. For a 90% confidence level and 29 degrees of freedom, the critical t-value is approximately ±1.699.\n",
    "\n",
    "Step 5: Compare the calculated t-value with the critical t-value:\n",
    "Since the calculated t-value (27.38) is much larger than the critical t-value (±1.699), we can reject the null hypothesis.\n",
    "\n",
    "Conclusion:\n",
    "Based on the results of the t-test, there is sufficient evidence to suggest that caffeine has a significant effect on reaction time at a 90% confidence level. The sample data indicates a substantial difference between the average reaction time observed and the hypothesized population mean of 0, indicating that caffeine has an impact on reaction time."
   ]
  },
  {
   "cell_type": "code",
   "execution_count": null,
   "id": "37a8adc6",
   "metadata": {},
   "outputs": [],
   "source": []
  },
  {
   "cell_type": "code",
   "execution_count": null,
   "id": "12598724",
   "metadata": {},
   "outputs": [],
   "source": []
  }
 ],
 "metadata": {
  "kernelspec": {
   "display_name": "Python 3 (ipykernel)",
   "language": "python",
   "name": "python3"
  },
  "language_info": {
   "codemirror_mode": {
    "name": "ipython",
    "version": 3
   },
   "file_extension": ".py",
   "mimetype": "text/x-python",
   "name": "python",
   "nbconvert_exporter": "python",
   "pygments_lexer": "ipython3",
   "version": "3.10.9"
  }
 },
 "nbformat": 4,
 "nbformat_minor": 5
}
