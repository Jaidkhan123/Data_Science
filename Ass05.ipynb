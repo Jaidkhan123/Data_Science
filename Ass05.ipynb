{
 "cells": [
  {
   "cell_type": "markdown",
   "id": "f9f4cf89-7f99-4bcd-9e39-202905b48cfa",
   "metadata": {},
   "source": [
    "Q1. Create a python program to sort the given list of tuples based on integer value using a\n",
    "lambda function.\n",
    "\n",
    "Ans->"
   ]
  },
  {
   "cell_type": "code",
   "execution_count": 4,
   "id": "370ff0fd-a52c-430c-bb32-7bcf2870a87f",
   "metadata": {},
   "outputs": [
    {
     "data": {
      "text/plain": [
       "[('A', 9), ('D', 69), ('B', 89), ('c', 99), ('E', 109)]"
      ]
     },
     "execution_count": 4,
     "metadata": {},
     "output_type": "execute_result"
    }
   ],
   "source": [
    "list1 = [(\"A\" , 9), (\"B\", 89), (\"c\", 99), (\"D\", 69), (\"E\", 109)]\n",
    "list1.sort(key = lambda x: x[1])\n",
    "list1"
   ]
  },
  {
   "cell_type": "markdown",
   "id": "01a2f137-5f3c-42a5-8a25-96dedcd239b6",
   "metadata": {},
   "source": [
    "Q2. Write a Python Program to find the squares of all the numbers in the given list of integers using\n",
    "lambda and map functions.\n",
    "\n",
    "[1, 2, 3, 4, 5, 6, 7, 8, 9, 10]\n",
    "\n",
    "Ans->"
   ]
  },
  {
   "cell_type": "code",
   "execution_count": 16,
   "id": "a0641ff9-9e75-40bc-95f5-970ee113afe7",
   "metadata": {},
   "outputs": [
    {
     "data": {
      "text/plain": [
       "[1, 4, 9, 16, 25, 36, 49, 64, 81, 100]"
      ]
     },
     "execution_count": 16,
     "metadata": {},
     "output_type": "execute_result"
    }
   ],
   "source": [
    "list1=[1,2,3,4,5,6,7,8,9,10]\n",
    "[i for i in map(lambda x : x**2,list1)]"
   ]
  },
  {
   "cell_type": "markdown",
   "id": "6f19fd8f-12ea-4930-a597-e522ba079d22",
   "metadata": {},
   "source": [
    "Q3. Write a python program to convert the given list of integers into a tuple of strings. Use map and\n",
    "lambda functions\n",
    "\n",
    "Given String: [1, 2, 3, 4, 5, 6, 7, 8, 9, 10]\n",
    "\n",
    "Expected output: ('1', '2', '3', '4', '5', '6', '7', '8', '9', '10')\n",
    "\n",
    "Ans->"
   ]
  },
  {
   "cell_type": "code",
   "execution_count": 20,
   "id": "219542b9-9a4c-4cee-b777-976c11aba7c2",
   "metadata": {},
   "outputs": [
    {
     "data": {
      "text/plain": [
       "('1', '2', '3', '4', '5', '6', '7', '8', '9', '10')"
      ]
     },
     "execution_count": 20,
     "metadata": {},
     "output_type": "execute_result"
    }
   ],
   "source": [
    "list1 = [1,2,3,4,5,6,7,8,9,10]\n",
    "tuple([i for i in map(lambda x : str(x), list1)])"
   ]
  },
  {
   "cell_type": "markdown",
   "id": "27b64b7a-cfd6-42ef-9ab4-1aa705bd7378",
   "metadata": {},
   "source": [
    "Q4. Write a python program using reduce function to compute the product of a list containing numbers\n",
    "from 1 to 25.\n",
    "\n",
    "Ans->"
   ]
  },
  {
   "cell_type": "code",
   "execution_count": 30,
   "id": "a677501a-fcbc-4f90-8a33-b3956d4b4ac7",
   "metadata": {},
   "outputs": [
    {
     "name": "stdout",
     "output_type": "stream",
     "text": [
      "[1, 2, 3, 4, 5, 6, 7, 8, 9, 10, 11, 12, 13, 14, 15, 16, 17, 18, 19, 20, 21, 22, 23, 24, 25]\n",
      "15511210043330985984000000\n"
     ]
    }
   ],
   "source": [
    "from functools import reduce\n",
    "\n",
    "list1 = [i for i in range(1,26)]\n",
    "print(list1)\n",
    "\n",
    "result = reduce((lambda x, y: x * y), list1)\n",
    "print(result)"
   ]
  },
  {
   "cell_type": "markdown",
   "id": "69068abb-c596-44b3-aedb-6e1fceded205",
   "metadata": {},
   "source": [
    "Q5. Write a python program to filter the numbers in a given list that are divisible by 2 and 3 using the\n",
    "filter function.\n",
    "\n",
    "\n",
    "[2, 3, 6, 9, 27, 60, 90, 120, 55, 46]\n",
    "\n",
    "Ans->"
   ]
  },
  {
   "cell_type": "code",
   "execution_count": 31,
   "id": "794b85a7-4072-47e0-afcb-fbf43e7cd25a",
   "metadata": {},
   "outputs": [
    {
     "data": {
      "text/plain": [
       "[2, 3, 6, 9, 27, 60, 90, 120, 46]"
      ]
     },
     "execution_count": 31,
     "metadata": {},
     "output_type": "execute_result"
    }
   ],
   "source": [
    "list1 = [2, 3, 6, 9, 27, 60, 90, 120, 55, 46]\n",
    "\n",
    "[i for i in filter(lambda x : x % 2==0 or x%3==0,list1)] "
   ]
  },
  {
   "cell_type": "markdown",
   "id": "b9b0b8dd-e178-4691-8b07-795453a2b918",
   "metadata": {},
   "source": [
    "Q6. Write a python program to find palindromes in the given list of strings using lambda and filter\n",
    "function.\n",
    "\n",
    "['python', 'php', 'aba', 'radar', 'level']\n",
    "\n",
    "Ans-> "
   ]
  },
  {
   "cell_type": "code",
   "execution_count": 34,
   "id": "66e34982-b4cd-4745-abe3-b06854e91f1b",
   "metadata": {},
   "outputs": [
    {
     "data": {
      "text/plain": [
       "['php', 'aba', 'radar', 'level']"
      ]
     },
     "execution_count": 34,
     "metadata": {},
     "output_type": "execute_result"
    }
   ],
   "source": [
    "list1 = ['python', 'php', 'aba', 'radar', 'level']\n",
    "\n",
    "[i for i in filter(lambda x: x == x[::-1],list1 )]"
   ]
  }
 ],
 "metadata": {
  "kernelspec": {
   "display_name": "Python 3 (ipykernel)",
   "language": "python",
   "name": "python3"
  },
  "language_info": {
   "codemirror_mode": {
    "name": "ipython",
    "version": 3
   },
   "file_extension": ".py",
   "mimetype": "text/x-python",
   "name": "python",
   "nbconvert_exporter": "python",
   "pygments_lexer": "ipython3",
   "version": "3.10.8"
  }
 },
 "nbformat": 4,
 "nbformat_minor": 5
}
