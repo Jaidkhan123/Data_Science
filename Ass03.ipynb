{
 "cells": [
  {
   "cell_type": "markdown",
   "id": "63b4a9c3-a0d0-4ca1-8e7b-1a02e8b2f0b3",
   "metadata": {},
   "source": [
    "1-> Explain with an example each when to use a for loop and a while loop.\n",
    "\n",
    "Ans-> For loop is used when we know that how many times our loop will executes\n",
    "\n",
    "while loop is used when we don't know how many times our loop will execute"
   ]
  },
  {
   "cell_type": "code",
   "execution_count": 1,
   "id": "72482bf4-28b9-413d-88c4-889e66686163",
   "metadata": {},
   "outputs": [
    {
     "name": "stdout",
     "output_type": "stream",
     "text": [
      "2 X 1 = 2\n",
      "2 X 2 = 4\n",
      "2 X 3 = 6\n",
      "2 X 4 = 8\n",
      "2 X 5 = 10\n",
      "2 X 6 = 12\n",
      "2 X 7 = 14\n",
      "2 X 8 = 16\n",
      "2 X 9 = 18\n",
      "2 X 10 = 20\n"
     ]
    }
   ],
   "source": [
    "# for loop example\n",
    "\n",
    "for i in range(1,11):\n",
    "    print(2, 'X' , i , '=', i*2)"
   ]
  },
  {
   "cell_type": "code",
   "execution_count": 2,
   "id": "fb630397-44b8-42ec-a024-2fcf556a79d6",
   "metadata": {},
   "outputs": [
    {
     "name": "stdout",
     "output_type": "stream",
     "text": [
      "20\n",
      "19\n",
      "18\n",
      "17\n",
      "16\n",
      "15\n",
      "14\n",
      "13\n",
      "12\n",
      "11\n"
     ]
    }
   ],
   "source": [
    "# while loop example\n",
    "a=20\n",
    "while a>10:\n",
    "    print(a)\n",
    "    a-=1"
   ]
  },
  {
   "cell_type": "markdown",
   "id": "0ade33af-7c3e-4f7e-8db3-85241e335747",
   "metadata": {},
   "source": [
    "2-> Write a python program to print the sum and product of the first 10 natural numbers using for and while loop.\n",
    "\n",
    "Ans->"
   ]
  },
  {
   "cell_type": "code",
   "execution_count": 3,
   "id": "4ac49350-127f-4b39-b612-ea6ecc2e15e8",
   "metadata": {},
   "outputs": [
    {
     "name": "stdout",
     "output_type": "stream",
     "text": [
      "sum of first natural number is  55\n",
      "product of first natural number is  3628800\n"
     ]
    }
   ],
   "source": [
    "# with for loop \n",
    "\n",
    "sum= 0\n",
    "product =1\n",
    "for i in range(1,11):\n",
    "    sum = sum +i\n",
    "    product = product * i \n",
    "print(\"sum of first natural number is \",sum)\n",
    "print(\"product of first natural number is \",product)"
   ]
  },
  {
   "cell_type": "code",
   "execution_count": 5,
   "id": "b861061a-536a-414d-88a9-0def1f94e8e7",
   "metadata": {},
   "outputs": [
    {
     "name": "stdout",
     "output_type": "stream",
     "text": [
      "sum of first natural number is  55\n",
      "product of first natural number is  3628800\n"
     ]
    }
   ],
   "source": [
    "# with while loop\n",
    "\n",
    "sum=0\n",
    "product=1\n",
    "i=10\n",
    "while i>0:\n",
    "    sum=sum + i\n",
    "    product = product * i\n",
    "    i-=1\n",
    "print(\"sum of first natural number is \",sum)\n",
    "print(\"product of first natural number is \",product)"
   ]
  },
  {
   "cell_type": "markdown",
   "id": "034e7b9e-e0b9-4681-836b-d4525e8f18d8",
   "metadata": {},
   "source": [
    "3-> Create a python program to compute the electricity bill for a household.\n",
    "\n",
    "The per-unit charges in rupees are as follows : For the first 100 units, the user will be charged Rs. 4.5 per unit, for the next 100 units, the user will be charged Rs. 6 per unit, and for the next 100 units, the user will be charged Rs. 10 per unit, after 300 units and above the user will be charged Rs. 20 per unit."
   ]
  },
  {
   "cell_type": "code",
   "execution_count": 9,
   "id": "229dcff4-ebea-4902-9902-e255a54b6234",
   "metadata": {},
   "outputs": [
    {
     "name": "stdin",
     "output_type": "stream",
     "text": [
      "Enter the units of electricity consumed in a month :  310\n"
     ]
    },
    {
     "name": "stdout",
     "output_type": "stream",
     "text": [
      "Amount charged :  2250.0\n"
     ]
    }
   ],
   "source": [
    "amount = int(input(\"Enter the units of electricity consumed in a month : \"))\n",
    "price = 0\n",
    "if amount > 0 and amount <=100:\n",
    "    price = amount * 4.5\n",
    "    print(\"Amount charged : \",price)\n",
    "elif amount > 100 and amount <=200:\n",
    "    price = (amount - 100)*6 + (100*4.5)\n",
    "    print(\"Amount charged : \",price)\n",
    "elif amount > 200 and amount <=300:\n",
    "    price = (amount - 200)*10 + (100*6) + (100*4.5)\n",
    "    print(\"Amount charged : \",price)\n",
    "else:\n",
    "    price = (amount-300)*20 + (100*10) + (100*6) + (100*4.5)\n",
    "    print(\"Amount charged : \",price)"
   ]
  },
  {
   "cell_type": "markdown",
   "id": "85700cd9-1e2c-4f4d-835c-12d887f1ddde",
   "metadata": {},
   "source": [
    "4-> Create a list of numbers from 1 to 100. Use for loop and while loop to calculate the cube of each number and if the cube of that number is divisible by 4 or 5 then append that number in a list and print that list.\n",
    "\n",
    "Ans->"
   ]
  },
  {
   "cell_type": "code",
   "execution_count": 2,
   "id": "7d36664d-0eb8-45a8-b829-9232ca12af6b",
   "metadata": {},
   "outputs": [
    {
     "name": "stdout",
     "output_type": "stream",
     "text": [
      "[1, 2, 3, 4, 5, 6, 7, 8, 9, 10, 11, 12, 13, 14, 15, 16, 17, 18, 19, 20, 21, 22, 23, 24, 25, 26, 27, 28, 29, 30, 31, 32, 33, 34, 35, 36, 37, 38, 39, 40, 41, 42, 43, 44, 45, 46, 47, 48, 49, 50, 51, 52, 53, 54, 55, 56, 57, 58, 59, 60, 61, 62, 63, 64, 65, 66, 67, 68, 69, 70, 71, 72, 73, 74, 75, 76, 77, 78, 79, 80, 81, 82, 83, 84, 85, 86, 87, 88, 89, 90, 91, 92, 93, 94, 95, 96, 97, 98, 99, 100]\n",
      "numbers, whose cube is divisible by 4 or 5 : \n",
      "[2, 4, 5, 6, 8, 10, 12, 14, 15, 16, 18, 20, 22, 24, 25, 26, 28, 30, 32, 34, 35, 36, 38, 40, 42, 44, 45, 46, 48, 50, 52, 54, 55, 56, 58, 60, 62, 64, 65, 66, 68, 70, 72, 74, 75, 76, 78, 80, 82, 84, 85, 86, 88, 90, 92, 94, 95, 96, 98, 100]\n"
     ]
    }
   ],
   "source": [
    "list1 = []\n",
    "for i in range(1,101):\n",
    "    list1.append(i)\n",
    "print(list1)\n",
    "\n",
    "list2 = []\n",
    "cube = 0\n",
    "\n",
    "for i in list1:\n",
    "    cube = (i*i*i)\n",
    "    if cube % 4 == 0 or cube % 5 == 0 :\n",
    "        list2.append(i)\n",
    "print(\"numbers, whose cube is divisible by 4 or 5 : \")   \n",
    "print(list2)"
   ]
  },
  {
   "cell_type": "markdown",
   "id": "4b8425cf-2adc-4028-8e73-a94597d19c5c",
   "metadata": {},
   "source": [
    "5-> write a program to filter count vowels in the below-given string.\n",
    "string = \"I want to become a data scientist\"\n",
    "\n",
    "Ans->"
   ]
  },
  {
   "cell_type": "code",
   "execution_count": 5,
   "id": "b80a09cb-562c-45f4-ab8f-507f948a5d8f",
   "metadata": {},
   "outputs": [
    {
     "name": "stdout",
     "output_type": "stream",
     "text": [
      "total number of vowels in the string :  12\n"
     ]
    }
   ],
   "source": [
    "string = \"I want to become a data scientist\"\n",
    "a = string.upper()\n",
    "count = 0\n",
    "\n",
    "for i in a:\n",
    "    if i == \"A\" or i == \"E\" or i == \"I\" or i == \"O\" or i == \"U\":\n",
    "        count+=1\n",
    "print(\"total number of vowels in the string : \",count)"
   ]
  },
  {
   "cell_type": "code",
   "execution_count": null,
   "id": "503807ca-7da9-4f42-a658-ffb1e434e9aa",
   "metadata": {},
   "outputs": [],
   "source": []
  }
 ],
 "metadata": {
  "kernelspec": {
   "display_name": "Python 3 (ipykernel)",
   "language": "python",
   "name": "python3"
  },
  "language_info": {
   "codemirror_mode": {
    "name": "ipython",
    "version": 3
   },
   "file_extension": ".py",
   "mimetype": "text/x-python",
   "name": "python",
   "nbconvert_exporter": "python",
   "pygments_lexer": "ipython3",
   "version": "3.10.8"
  }
 },
 "nbformat": 4,
 "nbformat_minor": 5
}
