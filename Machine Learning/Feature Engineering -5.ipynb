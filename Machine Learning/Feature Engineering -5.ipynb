{
 "cells": [
  {
   "cell_type": "markdown",
   "id": "b998ef7b-8d2d-4103-86cc-ae11b5e2de81",
   "metadata": {},
   "source": [
    "Q1. Pearson correlation coefficient is a measure of the linear relationship between two variables. Suppose\n",
    "you have collected data on the amount of time students spend studying for an exam and their final exam\n",
    "scores. Calculate the Pearson correlation coefficient between these two variables and interpret the result. \n"
   ]
  },
  {
   "cell_type": "markdown",
   "id": "34aa0422-b481-4a86-9e16-1ca77b51a7c7",
   "metadata": {},
   "source": [
    "To calculate the Pearson correlation coefficient between the amount of time students spend studying for an exam and their final exam scores, you would need a dataset with paired observations for both variables.\n",
    "\n",
    "Assuming you have such a dataset, follow these steps to calculate the Pearson correlation coefficient:\n",
    "\n",
    "Calculate the mean (average) of the study time variable and the mean of the exam scores variable.\n",
    "Calculate the difference between each study time observation and the mean study time.\n",
    "Calculate the difference between each exam score observation and the mean exam score.\n",
    "Multiply each pair of differences obtained in steps 2 and 3.\n",
    "Sum up all the products obtained in step 4.\n",
    "Calculate the square root of the sum of squared differences for the study time variable and the sum of squared differences for the exam scores variable.\n",
    "Divide the sum of products obtained in step 5 by the product of the square roots calculated in step 6.\n",
    "The resulting value is the Pearson correlation coefficient, typically denoted by the symbol \"r.\"\n",
    "Interpreting the Pearson correlation coefficient:\n",
    "\n",
    "The Pearson correlation coefficient, denoted by \"r,\" ranges from -1 to 1. It represents the strength and direction of the linear relationship between the two variables.\n",
    "\n",
    "If the correlation coefficient is close to 1, it indicates a strong positive linear relationship. In this context, it would mean that there is a strong positive correlation between the amount of time students spend studying and their final exam scores. Higher study time would tend to be associated with higher exam scores.\n",
    "\n",
    "If the correlation coefficient is close to -1, it indicates a strong negative linear relationship. In this case, it would mean that there is a strong negative correlation between the amount of time students spend studying and their final exam scores. Higher study time would tend to be associated with lower exam scores.\n",
    "\n",
    "If the correlation coefficient is close to 0, it indicates a weak or no linear relationship. This means that the study time and exam scores are not strongly associated with each other in a linear manner. "
   ]
  },
  {
   "cell_type": "markdown",
   "id": "fd6d0db6-a03f-4490-b2d9-a67c64894663",
   "metadata": {},
   "source": [
    "Q2. Spearman's rank correlation is a measure of the monotonic relationship between two variables.\n",
    "Suppose you have collected data on the amount of sleep individuals get each night and their overall job\n",
    "satisfaction level on a scale of 1 to 10. Calculate the Spearman's rank correlation between these two\n",
    "variables and interpret the result. "
   ]
  },
  {
   "cell_type": "markdown",
   "id": "3c354106-c41f-4524-9896-2646df9f980a",
   "metadata": {},
   "source": [
    "To calculate Spearman's rank correlation between the amount of sleep individuals get each night and their overall job satisfaction level, you would need a dataset with paired observations for both variables.\n",
    "\n",
    "Assuming you have such a dataset, follow these steps to calculate Spearman's rank correlation:\n",
    "\n",
    "Rank the values of both variables separately from lowest to highest. If there are ties, assign the average rank to the tied observations.\n",
    "\n",
    "Calculate the difference between the ranks for each paired observation.\n",
    "\n",
    "Square the differences obtained in step 2.\n",
    "\n",
    "Sum up all the squared differences.\n",
    "\n",
    "Calculate the Spearman's rank correlation coefficient, denoted by the symbol \"ρ,\" using the formula:\n",
    "\n",
    "ρ = 1 - (6 * sum of squared differences) / (n * (n^2 - 1))\n",
    "\n",
    "where n is the number of paired observations.\n",
    "\n",
    "Interpreting the Spearman's rank correlation coefficient:\n",
    "\n",
    "The Spearman's rank correlation coefficient, denoted by \"ρ,\" ranges from -1 to 1. It measures the strength and direction of the monotonic relationship between the two variables.\n",
    "\n",
    "If the correlation coefficient is close to 1, it indicates a strong positive monotonic relationship. In this context, it would mean that as the amount of sleep individuals get each night increases, their overall job satisfaction level tends to increase as well. This suggests a positive association between the two variables.\n",
    "\n",
    "If the correlation coefficient is close to -1, it indicates a strong negative monotonic relationship. It would mean that as the amount of sleep individuals get each night increases, their overall job satisfaction level tends to decrease. This suggests a negative association between the two variables.\n",
    "\n"
   ]
  },
  {
   "cell_type": "markdown",
   "id": "737080c1-9c74-49f6-8766-e0b075a6de7a",
   "metadata": {},
   "source": [
    "Q3. Suppose you are conducting a study to examine the relationship between the number of hours of\n",
    "exercise per week and body mass index (BMI) in a sample of adults. You collected data on both variables\n",
    "for 50 participants. Calculate the Pearson correlation coefficient and the Spearman's rank correlation\n",
    "between these two variables and compare the results. "
   ]
  },
  {
   "cell_type": "markdown",
   "id": "45ab7471-39ba-4cf2-adc5-3660b69421f1",
   "metadata": {},
   "source": [
    "To calculate the Pearson correlation coefficient and the Spearman's rank correlation coefficient between the number of hours of exercise per week and body mass index (BMI) in a sample of 50 participants, you would need a dataset with paired observations for both variables.\n",
    "\n",
    "Assuming you have such a dataset, here's how you can calculate the two correlation coefficients:\n",
    "\n",
    "Calculate the Pearson correlation coefficient (r):\n",
    "\n",
    "Compute the mean (average) of the exercise hours variable (X̄) and the mean of the BMI variable (Ȳ).\n",
    "Calculate the difference between each exercise hours observation (X) and the mean exercise hours (X - X̄).\n",
    "Calculate the difference between each BMI observation (Y) and the mean BMI (Y - Ȳ).\n",
    "Multiply each pair of differences obtained in the previous step [(X - X̄) * (Y - Ȳ)].\n",
    "Sum up all the products obtained in the previous step.\n",
    "Calculate the square root of the sum of squared differences for the exercise hours variable and the sum of squared differences for the BMI variable.\n",
    "Divide the sum of products obtained earlier by the product of the square roots calculated in the previous step.\n",
    "The resulting value is the Pearson correlation coefficient (r).\n",
    "Calculate the Spearman's rank correlation coefficient (ρ):\n",
    "\n",
    "Rank the values of both variables separately from lowest to highest. If there are ties, assign the average rank to the tied observations.\n",
    "Calculate the difference between the ranks for each paired observation.\n",
    "Square the differences obtained in the previous step.\n",
    "Sum up all the squared differences.\n",
    "Calculate the Spearman's rank correlation coefficient using the formula:\n",
    "ρ = 1 - (6 * sum of squared differences) / (n * (n^2 - 1))\n",
    "where n is the number of paired observations.\n"
   ]
  },
  {
   "cell_type": "markdown",
   "id": "0817d21d-26ce-48c0-86d6-abd5ee6b48a6",
   "metadata": {},
   "source": [
    "Q4. A researcher is interested in examining the relationship between the number of hours individuals\n",
    "spend watching television per day and their level of physical activity. The researcher collected data on\n",
    "both variables from a sample of 50 participants. Calculate the Pearson correlation coefficient between\n",
    "these two variables. "
   ]
  },
  {
   "cell_type": "markdown",
   "id": "602cba4a-e139-4276-a941-7bf89241f669",
   "metadata": {},
   "source": [
    "To calculate the Pearson correlation coefficient between the number of hours individuals spend watching television per day and their level of physical activity in a sample of 50 participants, you would need a dataset with paired observations for both variables.\n",
    "\n",
    "Assuming you have such a dataset, follow these steps to calculate the Pearson correlation coefficient:\n",
    "\n",
    "Compute the mean (average) of the television viewing hours variable (X̄) and the mean of the physical activity level variable (Ȳ).\n",
    "Calculate the difference between each television viewing hours observation (X) and the mean television viewing hours (X - X̄).\n",
    "Calculate the difference between each physical activity level observation (Y) and the mean physical activity level (Y - Ȳ).\n",
    "Multiply each pair of differences obtained in the previous step [(X - X̄) * (Y - Ȳ)].\n",
    "Sum up all the products obtained in the previous step.\n",
    "Calculate the square root of the sum of squared differences for the television viewing hours variable and the sum of squared differences for the physical activity level variable.\n",
    "Divide the sum of products obtained earlier by the product of the square roots calculated in the previous step.\n",
    "The resulting value is the Pearson correlation coefficient (r).\n"
   ]
  },
  {
   "cell_type": "markdown",
   "id": "e9c94a38-1a00-4e03-bbe8-7c82011178b9",
   "metadata": {},
   "source": [
    "Q5. A survey was conducted to examine the realtionship between age and preference fo ra particular brand of soft drink. The survey result are shown below :    "
   ]
  },
  {
   "cell_type": "code",
   "execution_count": 6,
   "id": "510ece4f-8919-4166-a3a7-ed19b14e53c3",
   "metadata": {},
   "outputs": [
    {
     "name": "stdout",
     "output_type": "stream",
     "text": [
      "Pearson correlation coefficient: 0.7587035441865057\n"
     ]
    }
   ],
   "source": [
    "import scipy.stats as stats\n",
    "\n",
    "#\n",
    "age = [25, 42, 37, 19, 31, 28]\n",
    "soft_drink_preference = ['Coke', 'Pepsi', 'Mountain Dew', 'Coke', 'Pepsi', 'Coke']\n",
    "\n",
    "\n",
    "mapping = {'Coke': 1, 'Pepsi': 2, 'Mountain Dew': 3}\n",
    "numerical_preference = [mapping[p] for p in soft_drink_preference]\n",
    "\n",
    "\n",
    "correlation_coefficient, _ = stats.pearsonr(age, numerical_preference)\n",
    "\n",
    "\n",
    "print(\"Pearson correlation coefficient:\", correlation_coefficient)\n"
   ]
  },
  {
   "cell_type": "markdown",
   "metadata": {},
   "source": [
    "Q6. A company is interested in examining the relationship between the number of sales calls made per day\n",
    "and the number of sales made per week. The company collected data on both variables from a sample of\n",
    "30 sales representatives. Calculate the Pearson correlation coefficient between these two variables."
   ]
  },
  {
   "cell_type": "code",
   "execution_count": 1,
   "metadata": {},
   "outputs": [
    {
     "name": "stdout",
     "output_type": "stream",
     "text": [
      "Pearson correlation coefficient: 0.9718052467724818\n",
      "There is a strong positive correlation between sales calls and sales.\n"
     ]
    }
   ],
   "source": [
    "# Sample data\n",
    "sales_calls = [10, 12, 8, 15, 6, 9, 14, 7, 11, 5, 13, 16, 9, 8, 10, 17, 4, 12, 6, 15, 8, 11, 10, 7, 9, 14, 13, 5, 12, 16]\n",
    "sales_week = [7, 9, 4, 12, 3, 5, 11, 2, 8, 1, 10, 15, 6, 4, 8, 14, 1, 7, 3, 12, 5, 9, 7, 3, 4, 11, 8, 2, 7, 13]\n",
    "\n",
    "# Calculate Pearson correlation coefficient\n",
    "import numpy as np\n",
    "correlation = np.corrcoef(sales_calls, sales_week)[0, 1]\n",
    "\n",
    "print(\"Pearson correlation coefficient:\", correlation)\n",
    "\n",
    "# Interpret the correlation coefficient\n",
    "# Strong positive correlation: 0.7 to 1.0\n",
    "# Weak positive correlation: 0.3 to 0.7\n",
    "# No correlation: 0.0 to 0.3\n",
    "# Weak negative correlation: -0.3 to -0.7\n",
    "# Strong negative correlation: -0.7 to -1.0\n",
    "\n",
    "if abs(correlation) >= 0.7:\n",
    "    if correlation > 0:\n",
    "        print(\"There is a strong positive correlation between sales calls and sales.\")\n",
    "    else:\n",
    "        print(\"There is a strong negative correlation between sales calls and sales.\")\n",
    "elif abs(correlation) >= 0.3:\n",
    "    if correlation > 0:\n",
    "        print(\"There is a weak positive correlation between sales calls and sales.\")\n",
    "    else:\n",
    "        print(\"There is a weak negative correlation between sales calls and sales.\")\n",
    "else:\n",
    "    print(\"There is no significant correlation between sales calls and sales.\")"
   ]
  },
  {
   "cell_type": "markdown",
   "metadata": {},
   "source": [
    "the Pearson correlation coefficient between the number of sales calls made per day and the number of sales made per week is 0.972, which indicates a strong positive correlation between the two variables. In other words, there is a statistically significant relationship between the number of sales calls made and the number of sales achieved. As the number of sales calls increases, the number of sales made also tends to increase."
   ]
  }
 ],
 "metadata": {
  "kernelspec": {
   "display_name": "Python 3 (ipykernel)",
   "language": "python",
   "name": "python3"
  },
  "language_info": {
   "codemirror_mode": {
    "name": "ipython",
    "version": 3
   },
   "file_extension": ".py",
   "mimetype": "text/x-python",
   "name": "python",
   "nbconvert_exporter": "python",
   "pygments_lexer": "ipython3",
   "version": "3.9.13"
  }
 },
 "nbformat": 4,
 "nbformat_minor": 5
}
