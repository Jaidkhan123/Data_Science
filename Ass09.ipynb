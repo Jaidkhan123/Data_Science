{
 "cells": [
  {
   "cell_type": "raw",
   "id": "18ea2ac7-e3f8-4d65-b6f7-1c2d2a26d0f4",
   "metadata": {},
   "source": [
    "Q1. What is Abstraction in OOps? Explain with an example.\n",
    "\n",
    "Ans-> Abstraction is the process of identifying essential characteristics of an object and ignoring\n",
    "the non-essential ones. It allows us to focus on what an object does rather than how it does\n",
    "it. Abstraction is achieved through the use of abstract classes, interfaces, and other\n",
    "techniques."
   ]
  },
  {
   "cell_type": "code",
   "execution_count": 16,
   "id": "3cacac82-97c1-46fc-b040-98d32d2d6266",
   "metadata": {},
   "outputs": [
    {
     "name": "stdout",
     "output_type": "stream",
     "text": [
      "7000 cc engine\n",
      "4000 cc engine\n"
     ]
    }
   ],
   "source": [
    "from abc import ABC, abstractmethod\n",
    "\n",
    "class Car(ABC):\n",
    "    \n",
    "    @abstractmethod\n",
    "    def engine(self):\n",
    "        pass\n",
    "class Bugatti(Car):\n",
    "    def engine(self):\n",
    "        print(\"7000 cc engine\")\n",
    "class Audi(Car):\n",
    "    def engine(self):\n",
    "        print(\"4000 cc engine\")\n",
    "\n",
    "b= Bugatti()\n",
    "b.engine()\n",
    "a= Audi()\n",
    "a.engine()"
   ]
  },
  {
   "cell_type": "raw",
   "id": "97296012-e893-44c2-bb60-98588e2c6400",
   "metadata": {},
   "source": [
    "Q2. Differentiate between Abstraction and Encapsulation. Explain with an example.\n",
    "\n",
    "Ans-> Encapsulation is the mechanism of hiding the internal details of an object and exposing only\n",
    "the necessary functionalities through well-defined interfaces. It is a way of bundling data and\n",
    "methods that operate on that data within a single unit, which prevents direct access to the\n",
    "data from outside the unit.\n",
    "\n",
    "Abstraction is the process of identifying essential characteristics of an object and ignoring\n",
    "the non-essential ones. It allows us to focus on what an object does rather than how it does\n",
    "it. Abstraction is achieved through the use of abstract classes, interfaces, and other\n",
    "techniques.\n",
    "\n",
    "Example:\n",
    "\n",
    "Suppose we have a class called \"Car\" which has various attributes like \"model\", \"color\",\n",
    "\"speed\", and methods like \"start()\", \"accelerate()\", \"brake()\". Encapsulation can be achieved\n",
    "by making these attributes and methods private and exposing only the necessary\n",
    "functionalities through well-defined interfaces like \"getSpeed()\", \"setSpeed()\". This way, the\n",
    "internal details of the car are hidden from the outside world, and the user can only access\n",
    "the necessary functionalities.\n",
    "Abstraction can be achieved by creating an abstract class called \"Vehicle\" which defines the\n",
    "essential characteristics of a vehicle like \"accelerate()\", \"brake()\". We can then create\n",
    "concrete classes like \"Car\", \"Truck\" that extend the \"Vehicle\" class and implement the\n",
    "abstract methods. This way, we can focus on what a vehicle does rather than how it does it,\n",
    "and the user can work with any vehicle object without worrying about the underlying\n",
    "implementation details."
   ]
  },
  {
   "cell_type": "raw",
   "id": "39221f14-e30d-4740-9d68-b163c291ea32",
   "metadata": {},
   "source": [
    "Q3. What is abc module in python? Why is it used?\n",
    "\n",
    "Ans-> Abstract base classes provide a way to define interfaces when other techniques like hasattr() would be clumsy or subtly wrong (for example with magic methods). ABCs introduce virtual subclasses, which are classes that don’t inherit from a class but are still recognized by isinstance() and issubclass() functions. There are many built-in ABCs in Python. ABCs for Data structures like Iterator, Generator, Set, mapping etc. are defined in collections.abc module. The numbers module defines numeric tower which is a collection of base classes for numeric data types. The 'abc' module in Python library provides the infrastructure for defining custom abstract base classes.\n",
    "\n",
    "It is used as the main goal of the abstract base class is to provide a standardized way to test whether an object adheres to a given specification. It can also prevent any attempt to instantiate a subclass that doesn’t override a particular method in the superclass. And finally, using an abstract class, a class can derive identity from another class without any object inheritance."
   ]
  },
  {
   "cell_type": "code",
   "execution_count": 17,
   "id": "83c43c8d-9e86-45aa-adce-483f977b4477",
   "metadata": {},
   "outputs": [
    {
     "name": "stdout",
     "output_type": "stream",
     "text": [
      "I have 3 sides\n",
      "I have 5 sides\n"
     ]
    }
   ],
   "source": [
    "from abc import ABC, abstractmethod\n",
    " \n",
    "class Polygon(ABC):\n",
    " \n",
    "    @abstractmethod\n",
    "    def noofsides(self):\n",
    "        pass\n",
    " \n",
    "class Triangle(Polygon):\n",
    " \n",
    "    # overriding abstract method\n",
    "    def noofsides(self):\n",
    "        print(\"I have 3 sides\")\n",
    " \n",
    "class Pentagon(Polygon):\n",
    " \n",
    "    # overriding abstract method\n",
    "    def noofsides(self):\n",
    "        print(\"I have 5 sides\")\n",
    "        \n",
    "R = Triangle()\n",
    "R.noofsides()\n",
    "\n",
    "R = Pentagon()\n",
    "R.noofsides()"
   ]
  },
  {
   "cell_type": "raw",
   "id": "66427027-4034-4480-a96c-59eee95ee992",
   "metadata": {},
   "source": [
    "Q4. How can we achieve data abstraction?\n",
    "\n",
    "Ans-> Data Abstraction in Python can be achieved through creating abstract classes and inheriting them later.\n",
    "\n",
    "An abstract method is a method that is declared, but does not contain implementation. An abstract method in a base class identifies the functionality that should be implemented by all its subclasses. However, since the implementation of an abstract method would differ from one subclass to another, often the method body comprises just a pass statement. Every subclass of the base class will ride this method with its implementation. A class containing abstract methods is called abstract class.Python provides the abc module to use the abstraction in the Python program, syntax as:\n",
    "\n",
    "from abc import ABC,   \n",
    "class ClassName(ABC):"
   ]
  },
  {
   "cell_type": "code",
   "execution_count": 19,
   "id": "fa60b9ba-0b3e-498c-8202-a7622959f031",
   "metadata": {},
   "outputs": [
    {
     "name": "stdout",
     "output_type": "stream",
     "text": [
      "Area of a Square: 25\n",
      "Area of a circle: 50.24\n"
     ]
    }
   ],
   "source": [
    "from abc import ABC\n",
    "\n",
    "class llgm(ABC):\n",
    "    pass\n",
    "\n",
    "class Square(llgm):\n",
    "  length = 5\n",
    "  def Area(self):\n",
    "    return self.length * self.length \n",
    "\n",
    "class Circle(llgm):\n",
    "  radius =4 \n",
    "  def Area(self):\n",
    "    return 3.14 * self.radius * self.radius\n",
    "\n",
    "sq = Square() \n",
    "cir = Circle() \n",
    "print(\"Area of a Square:\", sq.Area())\n",
    "print(\"Area of a circle:\", cir.Area())"
   ]
  },
  {
   "cell_type": "raw",
   "id": "212b6320-2fb8-4673-a3d9-55c3e8943973",
   "metadata": {},
   "source": [
    "Q5. Can we create an instance of an abstract class? Explain your answer.\n",
    "\n",
    "Ans-> No, we cannot create an instance of an abstract class.\n",
    "\n",
    "beacuse it does not have any complete implementation. An abstract class acts like a template or an empty\n",
    "Its purpose is to define how other classes should look like, i.e. what methods and properties they are expected to have.\n",
    "you have to extend it and build on it before you can use it. abstract class has a protected constructor (by default) allowing derived types to initialize it."
   ]
  }
 ],
 "metadata": {
  "kernelspec": {
   "display_name": "Python 3 (ipykernel)",
   "language": "python",
   "name": "python3"
  },
  "language_info": {
   "codemirror_mode": {
    "name": "ipython",
    "version": 3
   },
   "file_extension": ".py",
   "mimetype": "text/x-python",
   "name": "python",
   "nbconvert_exporter": "python",
   "pygments_lexer": "ipython3",
   "version": "3.10.8"
  }
 },
 "nbformat": 4,
 "nbformat_minor": 5
}
