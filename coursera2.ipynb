{
  "nbformat": 4,
  "nbformat_minor": 0,
  "metadata": {
    "colab": {
      "provenance": []
    },
    "kernelspec": {
      "name": "python3",
      "display_name": "Python 3"
    },
    "language_info": {
      "name": "python"
    }
  },
  "cells": [
    {
      "cell_type": "code",
      "execution_count": null,
      "metadata": {
        "colab": {
          "base_uri": "https://localhost:8080/"
        },
        "id": "4v0brjc20nt1",
        "outputId": "0942ec56-a0ad-4bd4-d10a-440ce790880c"
      },
      "outputs": [
        {
          "output_type": "stream",
          "name": "stdout",
          "text": [
            "                               Open      High       Low     Close     Volume  \\\n",
            "Date                                                                           \n",
            "2010-06-29 00:00:00-04:00  1.266667  1.666667  1.169333  1.592667  281494500   \n",
            "2010-06-30 00:00:00-04:00  1.719333  2.028000  1.553333  1.588667  257806500   \n",
            "2010-07-01 00:00:00-04:00  1.666667  1.728000  1.351333  1.464000  123282000   \n",
            "2010-07-02 00:00:00-04:00  1.533333  1.540000  1.247333  1.280000   77097000   \n",
            "2010-07-06 00:00:00-04:00  1.333333  1.333333  1.055333  1.074000  103003500   \n",
            "\n",
            "                           Dividends  Stock Splits  \n",
            "Date                                                \n",
            "2010-06-29 00:00:00-04:00        0.0           0.0  \n",
            "2010-06-30 00:00:00-04:00        0.0           0.0  \n",
            "2010-07-01 00:00:00-04:00        0.0           0.0  \n",
            "2010-07-02 00:00:00-04:00        0.0           0.0  \n",
            "2010-07-06 00:00:00-04:00        0.0           0.0  \n"
          ]
        }
      ],
      "source": [
        "import yfinance as yf\n",
        "import pandas as pd\n",
        "\n",
        "# Create a ticker object for Tesla stock\n",
        "tsla = yf.Ticker('TSLA')\n",
        "\n",
        "# Extract the Tesla stock data for the maximum period of time\n",
        "tesla_data = tsla.history(period='max')\n",
        "\n",
        "# Print the first five rows of the Tesla stock data\n",
        "print(tesla_data.head())"
      ]
    },
    {
      "cell_type": "code",
      "source": [
        "import requests\n",
        "from bs4 import BeautifulSoup\n",
        "\n",
        "# Define the URL\n",
        "url = \"https://finance.yahoo.com/quote/TSLA/financials?p=TSLA\"\n",
        "\n",
        "# Send a GET request to the URL\n",
        "response = requests.get(url)\n",
        "\n",
        "# Parse the HTML content of the website\n",
        "soup = BeautifulSoup(response.text, \"html.parser\")\n",
        "\n",
        "# Find the revenue data in the parsed HTML\n",
        "revenue_data = soup.find_all(\"div\", class_=\"D(tbr) fi-row Bgc($hoverBgColor):h\")\n",
        "\n",
        "# Extracting the revenue values\n",
        "revenue_values = []\n",
        "for item in revenue_data:\n",
        "    revenue_values.append(item.find_all(\"div\", class_=\"D(tbc)\")[1].text)\n",
        "\n",
        "# Print the extracted revenue data\n",
        "for i, value in enumerate(revenue_values):\n",
        "    print(f\"Revenue {i+1}: {value}\")"
      ],
      "metadata": {
        "id": "KMw53R0k0rAG"
      },
      "execution_count": 10,
      "outputs": []
    },
    {
      "cell_type": "code",
      "source": [
        "import yfinance as yf\n",
        "\n",
        "# Get the data for GameStop\n",
        "gme = yf.Ticker(\"GME\")\n",
        "\n",
        "# Get historical market data\n",
        "hist = gme.history(period=\"1mo\")\n",
        "\n",
        "# Print the historical stock data\n",
        "print(hist)"
      ],
      "metadata": {
        "colab": {
          "base_uri": "https://localhost:8080/"
        },
        "id": "MVv5hzm93gvm",
        "outputId": "9ed6aae4-1f14-49be-aae4-7a8afa66a65f"
      },
      "execution_count": 12,
      "outputs": [
        {
          "output_type": "stream",
          "name": "stdout",
          "text": [
            "                            Open       High    Low  Close   Volume  Dividends  \\\n",
            "Date                                                                            \n",
            "2023-10-04 00:00:00-04:00  14.77  14.940000  14.44  14.87  2586400        0.0   \n",
            "2023-10-05 00:00:00-04:00  14.70  14.980000  14.58  14.71  1945100        0.0   \n",
            "2023-10-06 00:00:00-04:00  14.59  15.260000  14.58  15.08  2458300        0.0   \n",
            "2023-10-09 00:00:00-04:00  14.77  15.500000  14.72  15.40  2276300        0.0   \n",
            "2023-10-10 00:00:00-04:00  15.50  16.190001  15.40  16.00  2915900        0.0   \n",
            "2023-10-11 00:00:00-04:00  16.01  16.090000  15.74  15.82  2098200        0.0   \n",
            "2023-10-12 00:00:00-04:00  15.77  15.800000  14.82  15.09  3180300        0.0   \n",
            "2023-10-13 00:00:00-04:00  14.92  15.110000  14.78  14.92  1823300        0.0   \n",
            "2023-10-16 00:00:00-04:00  14.81  14.930000  14.15  14.43  3508600        0.0   \n",
            "2023-10-17 00:00:00-04:00  14.25  14.830000  14.10  14.12  3842400        0.0   \n",
            "2023-10-18 00:00:00-04:00  14.00  14.250000  13.81  13.85  4045800        0.0   \n",
            "2023-10-19 00:00:00-04:00  13.80  13.850000  12.90  13.16  5808000        0.0   \n",
            "2023-10-20 00:00:00-04:00  13.18  13.800000  13.12  13.44  3657600        0.0   \n",
            "2023-10-23 00:00:00-04:00  13.28  13.590000  13.04  13.44  2785500        0.0   \n",
            "2023-10-24 00:00:00-04:00  13.59  14.300000  13.55  14.04  3738300        0.0   \n",
            "2023-10-25 00:00:00-04:00  14.01  14.010000  13.61  13.71  1967300        0.0   \n",
            "2023-10-26 00:00:00-04:00  13.73  13.800000  13.41  13.50  2036400        0.0   \n",
            "2023-10-27 00:00:00-04:00  13.51  13.620000  13.02  13.12  2481700        0.0   \n",
            "2023-10-30 00:00:00-04:00  13.15  13.270000  12.59  12.80  3475900        0.0   \n",
            "2023-10-31 00:00:00-04:00  12.85  13.900000  12.82  13.77  4574600        0.0   \n",
            "2023-11-01 00:00:00-04:00  13.78  13.800000  13.01  13.01  3430100        0.0   \n",
            "2023-11-02 00:00:00-04:00  13.37  13.700000  13.28  13.64  3566600        0.0   \n",
            "2023-11-03 00:00:00-04:00  13.90  14.400000  13.83  13.87  2963100        0.0   \n",
            "\n",
            "                           Stock Splits  \n",
            "Date                                     \n",
            "2023-10-04 00:00:00-04:00           0.0  \n",
            "2023-10-05 00:00:00-04:00           0.0  \n",
            "2023-10-06 00:00:00-04:00           0.0  \n",
            "2023-10-09 00:00:00-04:00           0.0  \n",
            "2023-10-10 00:00:00-04:00           0.0  \n",
            "2023-10-11 00:00:00-04:00           0.0  \n",
            "2023-10-12 00:00:00-04:00           0.0  \n",
            "2023-10-13 00:00:00-04:00           0.0  \n",
            "2023-10-16 00:00:00-04:00           0.0  \n",
            "2023-10-17 00:00:00-04:00           0.0  \n",
            "2023-10-18 00:00:00-04:00           0.0  \n",
            "2023-10-19 00:00:00-04:00           0.0  \n",
            "2023-10-20 00:00:00-04:00           0.0  \n",
            "2023-10-23 00:00:00-04:00           0.0  \n",
            "2023-10-24 00:00:00-04:00           0.0  \n",
            "2023-10-25 00:00:00-04:00           0.0  \n",
            "2023-10-26 00:00:00-04:00           0.0  \n",
            "2023-10-27 00:00:00-04:00           0.0  \n",
            "2023-10-30 00:00:00-04:00           0.0  \n",
            "2023-10-31 00:00:00-04:00           0.0  \n",
            "2023-11-01 00:00:00-04:00           0.0  \n",
            "2023-11-02 00:00:00-04:00           0.0  \n",
            "2023-11-03 00:00:00-04:00           0.0  \n"
          ]
        }
      ]
    },
    {
      "cell_type": "code",
      "source": [
        "import requests\n",
        "from bs4 import BeautifulSoup\n",
        "\n",
        "url = 'https://www.marketwatch.com/investing/stock/gme/financials'\n",
        "\n",
        "# Send a GET request to the URL\n",
        "response = requests.get(url)\n",
        "\n",
        "# Parse the HTML content of the website\n",
        "soup = BeautifulSoup(response.text, 'html.parser')\n",
        "\n",
        "# Find the revenue data in the parsed HTML\n",
        "revenue_data = soup.find_all('td', class_='overflow__cell')\n",
        "\n",
        "# Extract the revenue values\n",
        "revenue_values = []\n",
        "for item in revenue_data:\n",
        "    if 'Revenue' in item.text:\n",
        "        revenue_values.append(item.find_next('td').text)\n",
        "\n",
        "# Print the extracted revenue data\n",
        "for i, value in enumerate(revenue_values):\n",
        "    print(f'Revenue {i + 1}: {value}')"
      ],
      "metadata": {
        "colab": {
          "base_uri": "https://localhost:8080/"
        },
        "id": "yLgg8NeE3pow",
        "outputId": "6759822b-08cd-4c88-95d5-d1820c9639f2"
      },
      "execution_count": 14,
      "outputs": [
        {
          "output_type": "stream",
          "name": "stdout",
          "text": [
            "Revenue 1: 8.29B\n"
          ]
        }
      ]
    },
    {
      "cell_type": "markdown",
      "source": [
        "\n",
        "To create a Tesla stock and revenue dashboard, you can use the following steps:\n",
        "\n",
        "Extract the Tesla stock and revenue data. You can use the yfinance and webscraping code that I provided in my previous responses to extract the Tesla stock and revenue data.\n",
        "Clean and prepare the data. Once you have extracted the data, you need to clean and prepare it for visualization. This may involve removing outliers, converting the data to a consistent format, and aggregating the data to a desired level of granularity.\n",
        "Choose a visualization tool. There are many different visualization tools available, such as Tableau, Power BI, and Google Data Studio. Choose a tool that is easy to use and that has the features that you need to create the types of visualizations that you want.\n",
        "Create the dashboard. Once you have chosen a visualization tool, you can start creating the dashboard. This involves adding the data to the tool and creating visualizations to display the data. You can also add text and other elements to the dashboard to provide context and insights."
      ],
      "metadata": {
        "id": "tybUnkyo4JIJ"
      }
    },
    {
      "cell_type": "markdown",
      "source": [
        "\n",
        "To create a GameStop stock and revenue dashboard, you can follow the same steps that I outlined in my previous response for creating a Tesla stock and revenue dashboard. The only difference is that you will be using GameStop stock and revenue data instead of Tesla data.\n",
        "\n",
        "Here is an example of a GameStop stock and revenue dashboard that you could create:\n",
        "\n",
        "Stock Price\n",
        "\n",
        "Line chart showing the GameStop stock price over the past year\n",
        "Y-axis: GameStop stock price in USD\n",
        "X-axis: Date\n",
        "Revenue\n",
        "\n",
        "Bar chart showing the GameStop quarterly revenue over the past 5 years\n",
        "Y-axis: GameStop quarterly revenue in USD millions\n",
        "X-axis: Quarter\n",
        "Stock Performance vs. Revenue\n",
        "\n",
        "Scatter plot showing the GameStop stock price vs. quarterly revenue over the past 5 years\n",
        "Y-axis: GameStop stock price in USD\n",
        "X-axis: GameStop quarterly revenue in USD millions\n",
        "Insights\n",
        "\n",
        "The GameStop stock price has been very volatile over the past year, with highs of over $400 per share and lows of under $50 per share.\n",
        "GameStop's quarterly revenue has also been volatile, but it has generally trended upwards over the past 5 years.\n",
        "The scatter plot shows that there is a weak positive correlation between the GameStop stock price and quarterly revenue. This suggests that investors are more focused on GameStop's future growth potential than its current revenue."
      ],
      "metadata": {
        "id": "gtiIAWJ24XGo"
      }
    },
    {
      "cell_type": "code",
      "source": [],
      "metadata": {
        "id": "FNMw1QSN4NF4"
      },
      "execution_count": null,
      "outputs": []
    }
  ]
}