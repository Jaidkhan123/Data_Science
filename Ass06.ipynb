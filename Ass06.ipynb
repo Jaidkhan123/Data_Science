{
 "cells": [
  {
   "cell_type": "markdown",
   "id": "f1409335-4a9d-4f69-bccf-60a6367b7a33",
   "metadata": {},
   "source": [
    "Q1. Explain Class and Object with respect to Object-Oriented Programming. Give a suitable example.\n",
    "\n",
    "Ans->  Class : \n",
    "\n",
    "Classes provide a means of bundling data and functionality together. Creating a new class creates a new type of object, allowing new instances of that  type to be made.\n",
    "\n",
    "Class is a bluepeint (or template) for creating objects.\n",
    "\n",
    "class did not take any memory for itself\n",
    "\n",
    "Object :\n",
    "\n",
    "An object is an instantiation of a class.\n",
    "\n",
    "The class contains the user-defined data structure that holds the own data members such as variables, constructs, and member functions, which can be accessed by creating an object of the class.\n",
    "\n",
    "When class is defined, a template( info ) is defined. \n",
    "\n",
    "Memory is allocated only after object instantiation.\n",
    "\n",
    "Object of a given class can invoke the methods available to it without revealing the implementation details to the user."
   ]
  },
  {
   "cell_type": "code",
   "execution_count": 2,
   "id": "c7bceb1b-1f12-4f28-a4a5-2fbbbfcf5edc",
   "metadata": {},
   "outputs": [
    {
     "name": "stdout",
     "output_type": "stream",
     "text": [
      "vilakshan joined google with salary  10000000\n",
      "jaid joined google with salary 10000000\n"
     ]
    }
   ],
   "source": [
    "class Employee():        # Class template defined \n",
    "    company=\"google\"\n",
    "    salary=10000000\n",
    "vilakshan=Employee()   # vilakshan and jaid are objects of class Employee\n",
    "jaid=Employee()\n",
    "print(\"vilakshan joined\",vilakshan.company,\"with salary \",vilakshan.salary)\n",
    "print(\"jaid joined\",jaid.company,\"with salary\",jaid.salary)"
   ]
  },
  {
   "cell_type": "markdown",
   "id": "0e058139-298b-42fc-a536-da5acc86ef34",
   "metadata": {},
   "source": [
    "Q2. Name the four pillars of OOPs.\n",
    "\n",
    "Ans-> 1) Inheritance :\n",
    "\n",
    "          In inheritance, there is a parent class and a child class. A child class inherits the properties and methods of the parent class.\n",
    "          \n",
    "      \n",
    "      2) Polymorphism : \n",
    "      \n",
    "          Polymorphism simply means 'many forms'. In Python this means that you can have one function or object that can be used in different ways. Let's take an example of the addition operator (+); we can use it to add numbers, but we can also use it to concatenate strings.\n",
    "      \n",
    "      3) Encapsulation : \n",
    "      \n",
    "          Encapsulation is the process of making data private by wrapping data and its methods in a 'capsule' or unit, so that it can not be accessed or modified outside of that unit. This is achieved by making variables inside a class private.\n",
    "      \n",
    "      4) Abstraction :\n",
    "      \n",
    "           Abstraction is about keeping the process simple by hiding unnecessary details from the user."
   ]
  },
  {
   "cell_type": "markdown",
   "id": "5eb66e0e-e4d5-4057-a351-23c53a152aec",
   "metadata": {},
   "source": [
    "Q3. Explain why the __init__() function is used. Give a suitable example.\n",
    "\n",
    "Ans-> All classes have a function called __init__(), which is always executed when the class is being initiated.\n",
    "\n",
    "Use the __init__() function to assign values to object properties, or other operations that are necessary to do when the object is being created:"
   ]
  },
  {
   "cell_type": "code",
   "execution_count": 8,
   "id": "5744bc9e-a8e0-43f4-af33-1104870fb266",
   "metadata": {},
   "outputs": [
    {
     "name": "stdout",
     "output_type": "stream",
     "text": [
      "{'name': 'Pentonic', 'tip': 0.5, 'price': 10, 'color': 'blue'}\n"
     ]
    }
   ],
   "source": [
    "class Pen :\n",
    "    def __init__(self,x,y,z,A):\n",
    "        self.name = x\n",
    "        self.tip = y\n",
    "        self.price = z\n",
    "        self.color = A\n",
    "pen = Pen(\"Pentonic\", 0.5, 10, \"blue\")\n",
    "print(pen.__dict__)"
   ]
  },
  {
   "cell_type": "markdown",
   "id": "e1493d06-e463-4037-b2dc-d656ccb7e81c",
   "metadata": {},
   "source": [
    "Q4. Why self is used in OOPs?\n",
    "\n",
    "Ans->The self parameter is a reference to the current instance of the class, and is used to access variables that belongs to the class.\n",
    "\n",
    "It does not have to be named self , you can call it whatever you like, but it has to be the first parameter of any function in the class"
   ]
  },
  {
   "cell_type": "code",
   "execution_count": 21,
   "id": "87f1c32e-f759-4bc9-9536-0e39f6123f60",
   "metadata": {},
   "outputs": [
    {
     "name": "stdout",
     "output_type": "stream",
     "text": [
      "{'name': 'Pentonic', 'tip': 0.5, 'price': 10, 'color': 'blue'}\n",
      "{'name': 'Doms', 'tip': 0.6, 'price': 15, 'color': 'black'}\n"
     ]
    }
   ],
   "source": [
    "class Pen :\n",
    "    def __init__(self,x,y,z,A):\n",
    "        self.name = x\n",
    "        self.tip = y\n",
    "        self.price = z\n",
    "        self.color = A\n",
    "pen = Pen(\"Pentonic\", 0.5, 10, \"blue\")\n",
    "print(pen.__dict__)\n",
    "\n",
    "pen2 = Pen(\"Doms\", 0.6, 15, \"black\")\n",
    "print(pen2.__dict__)"
   ]
  },
  {
   "cell_type": "markdown",
   "id": "790cb106-0db4-470c-ad8c-6633497a6105",
   "metadata": {},
   "source": [
    "Q5. What is inheritance? Give an example for each type of inheritance.\n",
    "\n",
    "Ans->  Inheritance allows the program to reuse code. With inheritance, the child class gains access to all the data members, functions, and properties defined in the parent class.\n",
    "\n",
    "In inheritance, there is a parent class and a child class. A child class inherits the properties and methods of the parent class.\n",
    "\n",
    "1) Single Inheritance in Python\n",
    "\n",
    "Single Inheritance is the simplest form of inheritance where a single child class is derived from a single parent class. Due to its candid nature, it is also known as Simple Inheritance."
   ]
  },
  {
   "cell_type": "code",
   "execution_count": 22,
   "id": "a6bc3099-8c34-43c8-a114-2178d9fd9f53",
   "metadata": {},
   "outputs": [
    {
     "name": "stdout",
     "output_type": "stream",
     "text": [
      "Hello Parent\n",
      "Hello Child\n"
     ]
    }
   ],
   "source": [
    "class parent:                  \n",
    "    def func1(self):\n",
    "        print(\"Hello Parent\")\n",
    " \n",
    "class child(parent):    \n",
    "  # child class\n",
    "    def func2(self):                \n",
    "        print(\"Hello Child\") \n",
    "                             \n",
    " \n",
    "# Driver Code\n",
    "test = child()                \n",
    "test.func1()                  \n",
    "test.func2()                  "
   ]
  },
  {
   "cell_type": "markdown",
   "id": "77b1155e-073d-44b6-950b-a4fc924f3f42",
   "metadata": {},
   "source": [
    "2) Multiple Inheritance in Python\n",
    "\n",
    "In multiple inheritance, a single child class is inherited from two or more parent classes. It means the child class has access to all the parent classes' methods and attributes."
   ]
  },
  {
   "cell_type": "code",
   "execution_count": 26,
   "id": "8fa15b7a-f3cf-43fb-9dd1-5496b6ddc90f",
   "metadata": {},
   "outputs": [
    {
     "name": "stdout",
     "output_type": "stream",
     "text": [
      "company is Ford\n",
      "car name is Mustang\n",
      "mileage =  4\n",
      "cost =  8000000\n",
      "I am a vehicle\n",
      "I am a CAR\n"
     ]
    }
   ],
   "source": [
    "class Vehicle:\n",
    "    def __init__(self,mileage,cost):\n",
    "        self.mileage=mileage\n",
    "        self.cost=cost\n",
    "    def show_vehicle_details(self):                #      multiple inheritance\n",
    "        print(\"mileage = \",self.mileage)\n",
    "        print(\"cost = \",self.cost)\n",
    "        print(\"I am a vehicle\")\n",
    "class Details:\n",
    "    def __init__(self,com,model):\n",
    "        self.com=com\n",
    "        self.model=model\n",
    "    def show_details(self):\n",
    "        print(f\"company is {self.com}\\n\"\n",
    "              f\"car name is {self.model}\")\n",
    "class Car(Details,Vehicle):\n",
    "    def show_car_details(self):\n",
    "        print(\"I am a CAR\")\n",
    "    def __init__(self,com,model,mileage,cost):\n",
    "        Details.__init__(self,com,model)\n",
    "        Vehicle.__init__(self,mileage,cost)\n",
    "ob1=Car(\"Ford\",\"Mustang\",4,8000000)\n",
    "ob1.show_details()\n",
    "ob1.show_vehicle_details()\n",
    "ob1.show_car_details()\n"
   ]
  },
  {
   "cell_type": "markdown",
   "id": "59dfde19-6cb4-4fd6-a9f4-7a651571277d",
   "metadata": {},
   "source": [
    "3) Multilevel Inheritance in Python\n",
    "\n",
    "In multilevel inheritance, we go beyond just a parent-child relation. We introduce grandchildren, great-grandchildren, grandparents, etc."
   ]
  },
  {
   "cell_type": "code",
   "execution_count": 28,
   "id": "1f87bbe0-7d43-4bf8-b34b-66e53cda0a0a",
   "metadata": {},
   "outputs": [
    {
     "name": "stdout",
     "output_type": "stream",
     "text": [
      "Hello Grandparent\n",
      "Hello Parent\n",
      "Hello Child\n"
     ]
    }
   ],
   "source": [
    "class grandparent:             \n",
    "    def func1(self):                   \n",
    "        print(\"Hello Grandparent\")\n",
    " \n",
    "class parent(grandparent):        \n",
    "    def func2(self):                   \n",
    "        print(\"Hello Parent\")\n",
    " \n",
    "class child(parent):              \n",
    "    def func3(self):                   \n",
    "        print(\"Hello Child\")   \n",
    "                               \n",
    "test = child()                    \n",
    "test.func1()                      \n",
    "test.func2()                     \n",
    "test.func3()     "
   ]
  },
  {
   "cell_type": "markdown",
   "id": "ce76f227-a976-42f7-9c62-1da68f359fcf",
   "metadata": {},
   "source": [
    "4) Hierarchical Inheritance in Python\n",
    "\n",
    "Hierarchical Inheritance is the right opposite of multiple inheritance. It means that, there are multiple derived child classes from a single parent class."
   ]
  },
  {
   "cell_type": "code",
   "execution_count": 31,
   "id": "bb888dd0-49fe-460c-9519-38037eb4d323",
   "metadata": {},
   "outputs": [
    {
     "name": "stdout",
     "output_type": "stream",
     "text": [
      "Hello Parent\n",
      "Hello Child1\n",
      "Hello Parent\n",
      "Hello Child2\n"
     ]
    }
   ],
   "source": [
    "class parent:                      \n",
    "    def func1(self):                   \n",
    "        print(\"Hello Parent\")\n",
    " \n",
    "class child1(parent):             \n",
    "    def func2(self):                   \n",
    "        print(\"Hello Child1\")\n",
    " \n",
    " \n",
    "class child2(parent):             \n",
    "    def func3(self):                   \n",
    "        print(\"Hello Child2\")   \n",
    "                        \n",
    "test1 = child1()                    \n",
    "test2 = child2() \n",
    " \n",
    "test1.func1()                    \n",
    "test1.func2()                     \n",
    " \n",
    "test2.func1()                     \n",
    "test2.func3()                      "
   ]
  },
  {
   "cell_type": "markdown",
   "id": "4ea15f06-efa6-4c51-85ba-e6179f3a8c24",
   "metadata": {},
   "source": [
    "5) Hybrid Inheritance in Python\n",
    "\n",
    "Hybrid Inheritance is the mixture of two or more different types of inheritance. Here we can have many relationships between parent and child classes with multiple levels."
   ]
  },
  {
   "cell_type": "code",
   "execution_count": 32,
   "id": "9ce716e1-796e-4983-81f3-f6dc241b9554",
   "metadata": {},
   "outputs": [
    {
     "name": "stdout",
     "output_type": "stream",
     "text": [
      "Hello Parent\n",
      "Hello Child1\n",
      "Hello Parent\n",
      "Hello Parent\n",
      "Hello Child1\n",
      "Hello Child2\n"
     ]
    }
   ],
   "source": [
    "class parent1:                         \n",
    "    def func1(self):                   \n",
    "        print(\"Hello Parent\")\n",
    " \n",
    " \n",
    "class parent2:                           \n",
    "    def func2(self):                   \n",
    "        print(\"Hello Parent\")\n",
    " \n",
    "class child1(parent1):                   \n",
    "    def func3(self):                   \n",
    "        print(\"Hello Child1\")\n",
    " \n",
    " \n",
    "class child2(child1, parent2):           \n",
    "    def func4(self):                   \n",
    "        print(\"Hello Child2\")   \n",
    "                               \n",
    "test1 = child1()                         \n",
    "test2 = child2()\n",
    " \n",
    "test1.func1()                     \n",
    "test1.func3()                     \n",
    " \n",
    "test2.func1()                    \n",
    "test2.func2()                       \n",
    "test2.func3()                      \n",
    "test2.func4()                     "
   ]
  },
  {
   "cell_type": "code",
   "execution_count": null,
   "id": "bcbc53d4-ec13-4a3a-89f5-7fb47add6dd7",
   "metadata": {},
   "outputs": [],
   "source": []
  }
 ],
 "metadata": {
  "kernelspec": {
   "display_name": "Python 3 (ipykernel)",
   "language": "python",
   "name": "python3"
  },
  "language_info": {
   "codemirror_mode": {
    "name": "ipython",
    "version": 3
   },
   "file_extension": ".py",
   "mimetype": "text/x-python",
   "name": "python",
   "nbconvert_exporter": "python",
   "pygments_lexer": "ipython3",
   "version": "3.10.8"
  }
 },
 "nbformat": 4,
 "nbformat_minor": 5
}
